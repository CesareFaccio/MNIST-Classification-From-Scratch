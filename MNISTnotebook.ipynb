{
 "cells": [
  {
   "cell_type": "code",
   "execution_count": 1,
   "id": "b0b247a5",
   "metadata": {
    "_cell_guid": "b1076dfc-b9ad-4769-8c92-a6c4dae69d19",
    "_uuid": "8f2839f25d086af736a60e9eeb907d3b93b6e0e5",
    "execution": {
     "iopub.execute_input": "2024-10-24T20:51:47.587606Z",
     "iopub.status.busy": "2024-10-24T20:51:47.587022Z",
     "iopub.status.idle": "2024-10-24T20:51:53.745385Z",
     "shell.execute_reply": "2024-10-24T20:51:53.744293Z"
    },
    "papermill": {
     "duration": 6.167797,
     "end_time": "2024-10-24T20:51:53.747895",
     "exception": false,
     "start_time": "2024-10-24T20:51:47.580098",
     "status": "completed"
    },
    "tags": []
   },
   "outputs": [],
   "source": [
    "import numpy as np\n",
    "import pandas as pd\n",
    "from matplotlib import pyplot as plt\n",
    "\n",
    "trainData = pd.read_csv('/kaggle/input/digit-recognizer/train.csv')\n",
    "testData = pd.read_csv('/kaggle/input/digit-recognizer/test.csv')"
   ]
  },
  {
   "cell_type": "code",
   "execution_count": 2,
   "id": "914fc88b",
   "metadata": {
    "execution": {
     "iopub.execute_input": "2024-10-24T20:51:53.759231Z",
     "iopub.status.busy": "2024-10-24T20:51:53.758582Z",
     "iopub.status.idle": "2024-10-24T20:51:53.784785Z",
     "shell.execute_reply": "2024-10-24T20:51:53.783665Z"
    },
    "papermill": {
     "duration": 0.034408,
     "end_time": "2024-10-24T20:51:53.787148",
     "exception": false,
     "start_time": "2024-10-24T20:51:53.752740",
     "status": "completed"
    },
    "tags": []
   },
   "outputs": [
    {
     "data": {
      "text/html": [
       "<div>\n",
       "<style scoped>\n",
       "    .dataframe tbody tr th:only-of-type {\n",
       "        vertical-align: middle;\n",
       "    }\n",
       "\n",
       "    .dataframe tbody tr th {\n",
       "        vertical-align: top;\n",
       "    }\n",
       "\n",
       "    .dataframe thead th {\n",
       "        text-align: right;\n",
       "    }\n",
       "</style>\n",
       "<table border=\"1\" class=\"dataframe\">\n",
       "  <thead>\n",
       "    <tr style=\"text-align: right;\">\n",
       "      <th></th>\n",
       "      <th>label</th>\n",
       "      <th>pixel0</th>\n",
       "      <th>pixel1</th>\n",
       "      <th>pixel2</th>\n",
       "      <th>pixel3</th>\n",
       "      <th>pixel4</th>\n",
       "      <th>pixel5</th>\n",
       "      <th>pixel6</th>\n",
       "      <th>pixel7</th>\n",
       "      <th>pixel8</th>\n",
       "      <th>...</th>\n",
       "      <th>pixel774</th>\n",
       "      <th>pixel775</th>\n",
       "      <th>pixel776</th>\n",
       "      <th>pixel777</th>\n",
       "      <th>pixel778</th>\n",
       "      <th>pixel779</th>\n",
       "      <th>pixel780</th>\n",
       "      <th>pixel781</th>\n",
       "      <th>pixel782</th>\n",
       "      <th>pixel783</th>\n",
       "    </tr>\n",
       "  </thead>\n",
       "  <tbody>\n",
       "    <tr>\n",
       "      <th>0</th>\n",
       "      <td>1</td>\n",
       "      <td>0</td>\n",
       "      <td>0</td>\n",
       "      <td>0</td>\n",
       "      <td>0</td>\n",
       "      <td>0</td>\n",
       "      <td>0</td>\n",
       "      <td>0</td>\n",
       "      <td>0</td>\n",
       "      <td>0</td>\n",
       "      <td>...</td>\n",
       "      <td>0</td>\n",
       "      <td>0</td>\n",
       "      <td>0</td>\n",
       "      <td>0</td>\n",
       "      <td>0</td>\n",
       "      <td>0</td>\n",
       "      <td>0</td>\n",
       "      <td>0</td>\n",
       "      <td>0</td>\n",
       "      <td>0</td>\n",
       "    </tr>\n",
       "    <tr>\n",
       "      <th>1</th>\n",
       "      <td>0</td>\n",
       "      <td>0</td>\n",
       "      <td>0</td>\n",
       "      <td>0</td>\n",
       "      <td>0</td>\n",
       "      <td>0</td>\n",
       "      <td>0</td>\n",
       "      <td>0</td>\n",
       "      <td>0</td>\n",
       "      <td>0</td>\n",
       "      <td>...</td>\n",
       "      <td>0</td>\n",
       "      <td>0</td>\n",
       "      <td>0</td>\n",
       "      <td>0</td>\n",
       "      <td>0</td>\n",
       "      <td>0</td>\n",
       "      <td>0</td>\n",
       "      <td>0</td>\n",
       "      <td>0</td>\n",
       "      <td>0</td>\n",
       "    </tr>\n",
       "    <tr>\n",
       "      <th>2</th>\n",
       "      <td>1</td>\n",
       "      <td>0</td>\n",
       "      <td>0</td>\n",
       "      <td>0</td>\n",
       "      <td>0</td>\n",
       "      <td>0</td>\n",
       "      <td>0</td>\n",
       "      <td>0</td>\n",
       "      <td>0</td>\n",
       "      <td>0</td>\n",
       "      <td>...</td>\n",
       "      <td>0</td>\n",
       "      <td>0</td>\n",
       "      <td>0</td>\n",
       "      <td>0</td>\n",
       "      <td>0</td>\n",
       "      <td>0</td>\n",
       "      <td>0</td>\n",
       "      <td>0</td>\n",
       "      <td>0</td>\n",
       "      <td>0</td>\n",
       "    </tr>\n",
       "    <tr>\n",
       "      <th>3</th>\n",
       "      <td>4</td>\n",
       "      <td>0</td>\n",
       "      <td>0</td>\n",
       "      <td>0</td>\n",
       "      <td>0</td>\n",
       "      <td>0</td>\n",
       "      <td>0</td>\n",
       "      <td>0</td>\n",
       "      <td>0</td>\n",
       "      <td>0</td>\n",
       "      <td>...</td>\n",
       "      <td>0</td>\n",
       "      <td>0</td>\n",
       "      <td>0</td>\n",
       "      <td>0</td>\n",
       "      <td>0</td>\n",
       "      <td>0</td>\n",
       "      <td>0</td>\n",
       "      <td>0</td>\n",
       "      <td>0</td>\n",
       "      <td>0</td>\n",
       "    </tr>\n",
       "    <tr>\n",
       "      <th>4</th>\n",
       "      <td>0</td>\n",
       "      <td>0</td>\n",
       "      <td>0</td>\n",
       "      <td>0</td>\n",
       "      <td>0</td>\n",
       "      <td>0</td>\n",
       "      <td>0</td>\n",
       "      <td>0</td>\n",
       "      <td>0</td>\n",
       "      <td>0</td>\n",
       "      <td>...</td>\n",
       "      <td>0</td>\n",
       "      <td>0</td>\n",
       "      <td>0</td>\n",
       "      <td>0</td>\n",
       "      <td>0</td>\n",
       "      <td>0</td>\n",
       "      <td>0</td>\n",
       "      <td>0</td>\n",
       "      <td>0</td>\n",
       "      <td>0</td>\n",
       "    </tr>\n",
       "  </tbody>\n",
       "</table>\n",
       "<p>5 rows × 785 columns</p>\n",
       "</div>"
      ],
      "text/plain": [
       "   label  pixel0  pixel1  pixel2  pixel3  pixel4  pixel5  pixel6  pixel7  \\\n",
       "0      1       0       0       0       0       0       0       0       0   \n",
       "1      0       0       0       0       0       0       0       0       0   \n",
       "2      1       0       0       0       0       0       0       0       0   \n",
       "3      4       0       0       0       0       0       0       0       0   \n",
       "4      0       0       0       0       0       0       0       0       0   \n",
       "\n",
       "   pixel8  ...  pixel774  pixel775  pixel776  pixel777  pixel778  pixel779  \\\n",
       "0       0  ...         0         0         0         0         0         0   \n",
       "1       0  ...         0         0         0         0         0         0   \n",
       "2       0  ...         0         0         0         0         0         0   \n",
       "3       0  ...         0         0         0         0         0         0   \n",
       "4       0  ...         0         0         0         0         0         0   \n",
       "\n",
       "   pixel780  pixel781  pixel782  pixel783  \n",
       "0         0         0         0         0  \n",
       "1         0         0         0         0  \n",
       "2         0         0         0         0  \n",
       "3         0         0         0         0  \n",
       "4         0         0         0         0  \n",
       "\n",
       "[5 rows x 785 columns]"
      ]
     },
     "execution_count": 2,
     "metadata": {},
     "output_type": "execute_result"
    }
   ],
   "source": [
    "trainData.head()"
   ]
  },
  {
   "cell_type": "code",
   "execution_count": 3,
   "id": "0c2edf0f",
   "metadata": {
    "execution": {
     "iopub.execute_input": "2024-10-24T20:51:53.799186Z",
     "iopub.status.busy": "2024-10-24T20:51:53.798426Z",
     "iopub.status.idle": "2024-10-24T20:51:53.814750Z",
     "shell.execute_reply": "2024-10-24T20:51:53.813758Z"
    },
    "papermill": {
     "duration": 0.024684,
     "end_time": "2024-10-24T20:51:53.816954",
     "exception": false,
     "start_time": "2024-10-24T20:51:53.792270",
     "status": "completed"
    },
    "tags": []
   },
   "outputs": [
    {
     "data": {
      "text/html": [
       "<div>\n",
       "<style scoped>\n",
       "    .dataframe tbody tr th:only-of-type {\n",
       "        vertical-align: middle;\n",
       "    }\n",
       "\n",
       "    .dataframe tbody tr th {\n",
       "        vertical-align: top;\n",
       "    }\n",
       "\n",
       "    .dataframe thead th {\n",
       "        text-align: right;\n",
       "    }\n",
       "</style>\n",
       "<table border=\"1\" class=\"dataframe\">\n",
       "  <thead>\n",
       "    <tr style=\"text-align: right;\">\n",
       "      <th></th>\n",
       "      <th>pixel0</th>\n",
       "      <th>pixel1</th>\n",
       "      <th>pixel2</th>\n",
       "      <th>pixel3</th>\n",
       "      <th>pixel4</th>\n",
       "      <th>pixel5</th>\n",
       "      <th>pixel6</th>\n",
       "      <th>pixel7</th>\n",
       "      <th>pixel8</th>\n",
       "      <th>pixel9</th>\n",
       "      <th>...</th>\n",
       "      <th>pixel774</th>\n",
       "      <th>pixel775</th>\n",
       "      <th>pixel776</th>\n",
       "      <th>pixel777</th>\n",
       "      <th>pixel778</th>\n",
       "      <th>pixel779</th>\n",
       "      <th>pixel780</th>\n",
       "      <th>pixel781</th>\n",
       "      <th>pixel782</th>\n",
       "      <th>pixel783</th>\n",
       "    </tr>\n",
       "  </thead>\n",
       "  <tbody>\n",
       "    <tr>\n",
       "      <th>0</th>\n",
       "      <td>0</td>\n",
       "      <td>0</td>\n",
       "      <td>0</td>\n",
       "      <td>0</td>\n",
       "      <td>0</td>\n",
       "      <td>0</td>\n",
       "      <td>0</td>\n",
       "      <td>0</td>\n",
       "      <td>0</td>\n",
       "      <td>0</td>\n",
       "      <td>...</td>\n",
       "      <td>0</td>\n",
       "      <td>0</td>\n",
       "      <td>0</td>\n",
       "      <td>0</td>\n",
       "      <td>0</td>\n",
       "      <td>0</td>\n",
       "      <td>0</td>\n",
       "      <td>0</td>\n",
       "      <td>0</td>\n",
       "      <td>0</td>\n",
       "    </tr>\n",
       "    <tr>\n",
       "      <th>1</th>\n",
       "      <td>0</td>\n",
       "      <td>0</td>\n",
       "      <td>0</td>\n",
       "      <td>0</td>\n",
       "      <td>0</td>\n",
       "      <td>0</td>\n",
       "      <td>0</td>\n",
       "      <td>0</td>\n",
       "      <td>0</td>\n",
       "      <td>0</td>\n",
       "      <td>...</td>\n",
       "      <td>0</td>\n",
       "      <td>0</td>\n",
       "      <td>0</td>\n",
       "      <td>0</td>\n",
       "      <td>0</td>\n",
       "      <td>0</td>\n",
       "      <td>0</td>\n",
       "      <td>0</td>\n",
       "      <td>0</td>\n",
       "      <td>0</td>\n",
       "    </tr>\n",
       "    <tr>\n",
       "      <th>2</th>\n",
       "      <td>0</td>\n",
       "      <td>0</td>\n",
       "      <td>0</td>\n",
       "      <td>0</td>\n",
       "      <td>0</td>\n",
       "      <td>0</td>\n",
       "      <td>0</td>\n",
       "      <td>0</td>\n",
       "      <td>0</td>\n",
       "      <td>0</td>\n",
       "      <td>...</td>\n",
       "      <td>0</td>\n",
       "      <td>0</td>\n",
       "      <td>0</td>\n",
       "      <td>0</td>\n",
       "      <td>0</td>\n",
       "      <td>0</td>\n",
       "      <td>0</td>\n",
       "      <td>0</td>\n",
       "      <td>0</td>\n",
       "      <td>0</td>\n",
       "    </tr>\n",
       "    <tr>\n",
       "      <th>3</th>\n",
       "      <td>0</td>\n",
       "      <td>0</td>\n",
       "      <td>0</td>\n",
       "      <td>0</td>\n",
       "      <td>0</td>\n",
       "      <td>0</td>\n",
       "      <td>0</td>\n",
       "      <td>0</td>\n",
       "      <td>0</td>\n",
       "      <td>0</td>\n",
       "      <td>...</td>\n",
       "      <td>0</td>\n",
       "      <td>0</td>\n",
       "      <td>0</td>\n",
       "      <td>0</td>\n",
       "      <td>0</td>\n",
       "      <td>0</td>\n",
       "      <td>0</td>\n",
       "      <td>0</td>\n",
       "      <td>0</td>\n",
       "      <td>0</td>\n",
       "    </tr>\n",
       "    <tr>\n",
       "      <th>4</th>\n",
       "      <td>0</td>\n",
       "      <td>0</td>\n",
       "      <td>0</td>\n",
       "      <td>0</td>\n",
       "      <td>0</td>\n",
       "      <td>0</td>\n",
       "      <td>0</td>\n",
       "      <td>0</td>\n",
       "      <td>0</td>\n",
       "      <td>0</td>\n",
       "      <td>...</td>\n",
       "      <td>0</td>\n",
       "      <td>0</td>\n",
       "      <td>0</td>\n",
       "      <td>0</td>\n",
       "      <td>0</td>\n",
       "      <td>0</td>\n",
       "      <td>0</td>\n",
       "      <td>0</td>\n",
       "      <td>0</td>\n",
       "      <td>0</td>\n",
       "    </tr>\n",
       "  </tbody>\n",
       "</table>\n",
       "<p>5 rows × 784 columns</p>\n",
       "</div>"
      ],
      "text/plain": [
       "   pixel0  pixel1  pixel2  pixel3  pixel4  pixel5  pixel6  pixel7  pixel8  \\\n",
       "0       0       0       0       0       0       0       0       0       0   \n",
       "1       0       0       0       0       0       0       0       0       0   \n",
       "2       0       0       0       0       0       0       0       0       0   \n",
       "3       0       0       0       0       0       0       0       0       0   \n",
       "4       0       0       0       0       0       0       0       0       0   \n",
       "\n",
       "   pixel9  ...  pixel774  pixel775  pixel776  pixel777  pixel778  pixel779  \\\n",
       "0       0  ...         0         0         0         0         0         0   \n",
       "1       0  ...         0         0         0         0         0         0   \n",
       "2       0  ...         0         0         0         0         0         0   \n",
       "3       0  ...         0         0         0         0         0         0   \n",
       "4       0  ...         0         0         0         0         0         0   \n",
       "\n",
       "   pixel780  pixel781  pixel782  pixel783  \n",
       "0         0         0         0         0  \n",
       "1         0         0         0         0  \n",
       "2         0         0         0         0  \n",
       "3         0         0         0         0  \n",
       "4         0         0         0         0  \n",
       "\n",
       "[5 rows x 784 columns]"
      ]
     },
     "execution_count": 3,
     "metadata": {},
     "output_type": "execute_result"
    }
   ],
   "source": [
    "testData.head()"
   ]
  },
  {
   "cell_type": "markdown",
   "id": "10c9dd87",
   "metadata": {
    "papermill": {
     "duration": 0.004852,
     "end_time": "2024-10-24T20:51:53.827193",
     "exception": false,
     "start_time": "2024-10-24T20:51:53.822341",
     "status": "completed"
    },
    "tags": []
   },
   "source": [
    "Here, we see that the test dataset is only useful for the competition organizers, but we cannot use it due to the absence of a \"label\" column. To address this, I will split the training dataset into training and testing portions."
   ]
  },
  {
   "cell_type": "markdown",
   "id": "441f104a",
   "metadata": {
    "papermill": {
     "duration": 0.004762,
     "end_time": "2024-10-24T20:51:53.837079",
     "exception": false,
     "start_time": "2024-10-24T20:51:53.832317",
     "status": "completed"
    },
    "tags": []
   },
   "source": [
    "Firstly some function to import the datasets. getTestDataset can be used for a competition submission."
   ]
  },
  {
   "cell_type": "code",
   "execution_count": 4,
   "id": "20618bb2",
   "metadata": {
    "execution": {
     "iopub.execute_input": "2024-10-24T20:51:53.849342Z",
     "iopub.status.busy": "2024-10-24T20:51:53.848431Z",
     "iopub.status.idle": "2024-10-24T20:51:53.855974Z",
     "shell.execute_reply": "2024-10-24T20:51:53.854907Z"
    },
    "papermill": {
     "duration": 0.016198,
     "end_time": "2024-10-24T20:51:53.858354",
     "exception": false,
     "start_time": "2024-10-24T20:51:53.842156",
     "status": "completed"
    },
    "tags": []
   },
   "outputs": [],
   "source": [
    "def getDataset(filePath):\n",
    "    trainData = pd.read_csv('/kaggle/input/digit-recognizer/train.csv')\n",
    "    trainData = np.array(trainData)\n",
    "    rows, columns = trainData.shape\n",
    "    np.random.shuffle(trainData)\n",
    "\n",
    "    testData = trainData[0:2000].T\n",
    "    testLabels = testData[0]\n",
    "    testPixels = testData[1:columns + 1]\n",
    "    testPixels = testPixels / 255\n",
    "\n",
    "    trainData = trainData[2000:rows].T\n",
    "    trainLabels = trainData[0]\n",
    "    trainPixels = trainData[1:columns + 1]\n",
    "    trainPixels = trainPixels / 255\n",
    "\n",
    "    return trainLabels, trainPixels, testLabels, testPixels\n",
    "\n",
    "def getTestDataset(filePath):\n",
    "    testData = pd.read_csv('/kaggle/input/digit-recognizer/test.csv')\n",
    "    testPixels = np.array(testData).T\n",
    "    testPixels = testPixels / 255\n",
    "\n",
    "    return testPixels"
   ]
  },
  {
   "cell_type": "markdown",
   "id": "f8fb8d7a",
   "metadata": {
    "papermill": {
     "duration": 0.005283,
     "end_time": "2024-10-24T20:51:53.869053",
     "exception": false,
     "start_time": "2024-10-24T20:51:53.863770",
     "status": "completed"
    },
    "tags": []
   },
   "source": [
    "Now, a function to initialize the network's parameters in a random state"
   ]
  },
  {
   "cell_type": "code",
   "execution_count": 5,
   "id": "6ceccae1",
   "metadata": {
    "execution": {
     "iopub.execute_input": "2024-10-24T20:51:53.881972Z",
     "iopub.status.busy": "2024-10-24T20:51:53.881582Z",
     "iopub.status.idle": "2024-10-24T20:51:53.887643Z",
     "shell.execute_reply": "2024-10-24T20:51:53.886599Z"
    },
    "papermill": {
     "duration": 0.014749,
     "end_time": "2024-10-24T20:51:53.889928",
     "exception": false,
     "start_time": "2024-10-24T20:51:53.875179",
     "status": "completed"
    },
    "tags": []
   },
   "outputs": [],
   "source": [
    "def initParams(layerSizes):\n",
    "    params = {}\n",
    "    numberOfLayers = len(layerSizes) - 1\n",
    "    for l in range(1, numberOfLayers + 1):\n",
    "        params[f\"W{l}\"] = np.random.rand(layerSizes[l], layerSizes[l - 1]) - 0.5\n",
    "        params[f\"b{l}\"] = np.random.rand(layerSizes[l], 1) - 0.5\n",
    "    return params"
   ]
  },
  {
   "cell_type": "markdown",
   "id": "74d05e88",
   "metadata": {
    "papermill": {
     "duration": 0.004788,
     "end_time": "2024-10-24T20:51:53.899966",
     "exception": false,
     "start_time": "2024-10-24T20:51:53.895178",
     "status": "completed"
    },
    "tags": []
   },
   "source": [
    "Now, some basic functions that will be used in backward and forward propagation"
   ]
  },
  {
   "cell_type": "code",
   "execution_count": 6,
   "id": "50057f58",
   "metadata": {
    "execution": {
     "iopub.execute_input": "2024-10-24T20:51:53.911688Z",
     "iopub.status.busy": "2024-10-24T20:51:53.911323Z",
     "iopub.status.idle": "2024-10-24T20:51:53.918269Z",
     "shell.execute_reply": "2024-10-24T20:51:53.917245Z"
    },
    "papermill": {
     "duration": 0.015468,
     "end_time": "2024-10-24T20:51:53.920487",
     "exception": false,
     "start_time": "2024-10-24T20:51:53.905019",
     "status": "completed"
    },
    "tags": []
   },
   "outputs": [],
   "source": [
    "def ReLU(Z):\n",
    "    return np.maximum(Z, 0)\n",
    "\n",
    "def softmax(Z):\n",
    "    A = np.exp(Z) / np.sum(np.exp(Z), axis=0)\n",
    "    return A\n",
    "\n",
    "def ReluDeriv(Z):\n",
    "    return Z > 0\n",
    "\n",
    "def desiredOutputs(Y):\n",
    "    desiredOut = np.zeros((Y.size, Y.max() + 1))\n",
    "    desiredOut[np.arange(Y.size), Y] = 1\n",
    "    desiredOut = desiredOut.T\n",
    "    return desiredOut"
   ]
  },
  {
   "cell_type": "markdown",
   "id": "96642334",
   "metadata": {
    "papermill": {
     "duration": 0.004766,
     "end_time": "2024-10-24T20:51:53.930407",
     "exception": false,
     "start_time": "2024-10-24T20:51:53.925641",
     "status": "completed"
    },
    "tags": []
   },
   "source": [
    "Now, the forward and backward propagation algorithms"
   ]
  },
  {
   "cell_type": "code",
   "execution_count": 7,
   "id": "b85e8787",
   "metadata": {
    "execution": {
     "iopub.execute_input": "2024-10-24T20:51:53.942219Z",
     "iopub.status.busy": "2024-10-24T20:51:53.941811Z",
     "iopub.status.idle": "2024-10-24T20:51:53.953293Z",
     "shell.execute_reply": "2024-10-24T20:51:53.952220Z"
    },
    "papermill": {
     "duration": 0.019915,
     "end_time": "2024-10-24T20:51:53.955466",
     "exception": false,
     "start_time": "2024-10-24T20:51:53.935551",
     "status": "completed"
    },
    "tags": []
   },
   "outputs": [],
   "source": [
    "def forwardProp(pixels, params, numberOfLayers):\n",
    "    cache = {\"A0\": pixels}\n",
    "    A_prev = pixels\n",
    "\n",
    "    for l in range(1, numberOfLayers):\n",
    "        Z = params[f\"W{l}\"].dot(A_prev) + params[f\"b{l}\"]\n",
    "        A = ReLU(Z)\n",
    "        cache[f\"Z{l}\"] = Z\n",
    "        cache[f\"A{l}\"] = A\n",
    "        A_prev = A\n",
    "\n",
    "    ZL = params[f\"W{numberOfLayers}\"].dot(A_prev) + params[f\"b{numberOfLayers}\"]\n",
    "    AL = softmax(ZL)\n",
    "    cache[f\"Z{numberOfLayers}\"] = ZL\n",
    "    cache[f\"A{numberOfLayers}\"] = AL\n",
    "    return cache\n",
    "\n",
    "def backwardProp(params, cache, pixels, labels, numberOfLayers):\n",
    "    grads = {}\n",
    "    desiredOut = desiredOutputs(labels)\n",
    "    AL = cache[f\"A{numberOfLayers}\"]\n",
    "\n",
    "    dZL = AL - desiredOut\n",
    "    grads[f\"dW{numberOfLayers}\"] = 1 / pixels.shape[1] * dZL.dot(cache[f\"A{numberOfLayers - 1}\"].T)\n",
    "    grads[f\"db{numberOfLayers}\"] = 1 / pixels.shape[1] * np.sum(dZL, axis=1, keepdims=True)\n",
    "\n",
    "    dA_prev = params[f\"W{numberOfLayers}\"].T.dot(dZL)\n",
    "\n",
    "    for l in range(numberOfLayers - 1, 0, -1):\n",
    "        dZ = dA_prev * ReluDeriv(cache[f\"Z{l}\"])\n",
    "        grads[f\"dW{l}\"] = 1 / pixels.shape[1] * dZ.dot(cache[f\"A{l - 1}\"].T)\n",
    "        grads[f\"db{l}\"] = 1 / pixels.shape[1] * np.sum(dZ, axis=1, keepdims=True)\n",
    "        dA_prev = params[f\"W{l}\"].T.dot(dZ)\n",
    "\n",
    "    return grads\n",
    "\n",
    "def updateParams(params, grads, alpha, numberOfLayers):\n",
    "    for l in range(1, numberOfLayers + 1):\n",
    "        params[f\"W{l}\"] -= alpha * grads[f\"dW{l}\"]\n",
    "        params[f\"b{l}\"] -= alpha * grads[f\"db{l}\"]\n",
    "    return params"
   ]
  },
  {
   "cell_type": "markdown",
   "id": "116416d6",
   "metadata": {
    "papermill": {
     "duration": 0.004932,
     "end_time": "2024-10-24T20:51:53.965656",
     "exception": false,
     "start_time": "2024-10-24T20:51:53.960724",
     "status": "completed"
    },
    "tags": []
   },
   "source": [
    "Now, some functions to evaluate results"
   ]
  },
  {
   "cell_type": "code",
   "execution_count": 8,
   "id": "48f228d7",
   "metadata": {
    "execution": {
     "iopub.execute_input": "2024-10-24T20:51:53.978163Z",
     "iopub.status.busy": "2024-10-24T20:51:53.977157Z",
     "iopub.status.idle": "2024-10-24T20:51:53.985127Z",
     "shell.execute_reply": "2024-10-24T20:51:53.984047Z"
    },
    "papermill": {
     "duration": 0.016551,
     "end_time": "2024-10-24T20:51:53.987350",
     "exception": false,
     "start_time": "2024-10-24T20:51:53.970799",
     "status": "completed"
    },
    "tags": []
   },
   "outputs": [],
   "source": [
    "def getPredictions(AL):\n",
    "    return np.argmax(AL, 0)\n",
    "\n",
    "def getAccuracy(predictions, Y):\n",
    "    return np.sum(predictions == Y) / Y.size\n",
    "\n",
    "def makePredictions(pixels, params, layerSizes):\n",
    "    numberOfLayers = len(layerSizes) - 1\n",
    "    cache = forwardProp(pixels, params, numberOfLayers)\n",
    "    predictions = getPredictions(cache[f\"A{numberOfLayers}\"])\n",
    "    return predictions\n",
    "\n",
    "def testPrediction(trainLabels, trainPixels, index, params, layerSizes):\n",
    "    current_image = trainPixels[:, index, None]\n",
    "    prediction = makePredictions(trainPixels[:, index, None], params, layerSizes)\n",
    "    label = trainLabels[index]\n",
    "    print(\"Prediction: \", prediction)\n",
    "    print(\"Label: \", label)\n",
    "\n",
    "    current_image = current_image.reshape((28, 28)) * 255\n",
    "    plt.gray()\n",
    "    plt.imshow(current_image, interpolation='nearest')\n",
    "    plt.show()"
   ]
  },
  {
   "cell_type": "markdown",
   "id": "dece8737",
   "metadata": {
    "papermill": {
     "duration": 0.004861,
     "end_time": "2024-10-24T20:51:53.997414",
     "exception": false,
     "start_time": "2024-10-24T20:51:53.992553",
     "status": "completed"
    },
    "tags": []
   },
   "source": [
    "Finally, the gradient descent function to train the network."
   ]
  },
  {
   "cell_type": "code",
   "execution_count": 9,
   "id": "6d12cc75",
   "metadata": {
    "execution": {
     "iopub.execute_input": "2024-10-24T20:51:54.009246Z",
     "iopub.status.busy": "2024-10-24T20:51:54.008868Z",
     "iopub.status.idle": "2024-10-24T20:51:54.015944Z",
     "shell.execute_reply": "2024-10-24T20:51:54.014892Z"
    },
    "papermill": {
     "duration": 0.01538,
     "end_time": "2024-10-24T20:51:54.017914",
     "exception": false,
     "start_time": "2024-10-24T20:51:54.002534",
     "status": "completed"
    },
    "tags": []
   },
   "outputs": [],
   "source": [
    "def gradientDescent(X,Y, alpha, iterations, layerSizes):\n",
    "\n",
    "    numberOfLayers = len(layerSizes) - 1\n",
    "    params = initParams(layerSizes)\n",
    "\n",
    "    iteration = []\n",
    "    accuracy = []\n",
    "\n",
    "    for i in range(iterations):\n",
    "        cache = forwardProp(X, params, numberOfLayers)\n",
    "        grads = backwardProp(params, cache,X, Y, numberOfLayers)\n",
    "        params = updateParams(params, grads, alpha, numberOfLayers)\n",
    "\n",
    "        if i % 10 == 0:\n",
    "            AL = cache[f\"A{numberOfLayers}\"]\n",
    "            predictions = getPredictions(AL)\n",
    "            print(f\"Iteration: {i}, Accuracy: {getAccuracy(predictions, Y)}\")\n",
    "            iteration.append(i)\n",
    "            accuracy.append(getAccuracy(predictions, Y))\n",
    "\n",
    "    return params, iteration, accuracy"
   ]
  },
  {
   "cell_type": "markdown",
   "id": "aced28c7",
   "metadata": {
    "papermill": {
     "duration": 0.004958,
     "end_time": "2024-10-24T20:51:54.028139",
     "exception": false,
     "start_time": "2024-10-24T20:51:54.023181",
     "status": "completed"
    },
    "tags": []
   },
   "source": [
    "The neural network can now be created, trained and tested"
   ]
  },
  {
   "cell_type": "code",
   "execution_count": 10,
   "id": "42de159e",
   "metadata": {
    "execution": {
     "iopub.execute_input": "2024-10-24T20:51:54.040345Z",
     "iopub.status.busy": "2024-10-24T20:51:54.039499Z",
     "iopub.status.idle": "2024-10-24T20:53:02.369969Z",
     "shell.execute_reply": "2024-10-24T20:53:02.368865Z"
    },
    "papermill": {
     "duration": 68.339154,
     "end_time": "2024-10-24T20:53:02.372326",
     "exception": false,
     "start_time": "2024-10-24T20:51:54.033172",
     "status": "completed"
    },
    "tags": []
   },
   "outputs": [
    {
     "name": "stdout",
     "output_type": "stream",
     "text": [
      "Iteration: 0, Accuracy: 0.1016\n",
      "Iteration: 10, Accuracy: 0.141225\n",
      "Iteration: 20, Accuracy: 0.217675\n",
      "Iteration: 30, Accuracy: 0.2742\n",
      "Iteration: 40, Accuracy: 0.341225\n",
      "Iteration: 50, Accuracy: 0.406925\n",
      "Iteration: 60, Accuracy: 0.4553\n",
      "Iteration: 70, Accuracy: 0.496175\n",
      "Iteration: 80, Accuracy: 0.534725\n",
      "Iteration: 90, Accuracy: 0.568875\n",
      "Iteration: 100, Accuracy: 0.598725\n",
      "Iteration: 110, Accuracy: 0.6271\n",
      "Iteration: 120, Accuracy: 0.65015\n",
      "Iteration: 130, Accuracy: 0.669675\n",
      "Iteration: 140, Accuracy: 0.686175\n",
      "Iteration: 150, Accuracy: 0.7022\n",
      "Iteration: 160, Accuracy: 0.714075\n",
      "Iteration: 170, Accuracy: 0.725\n",
      "Iteration: 180, Accuracy: 0.7336\n",
      "Iteration: 190, Accuracy: 0.741325\n",
      "Iteration: 200, Accuracy: 0.749225\n",
      "Iteration: 210, Accuracy: 0.756\n",
      "Iteration: 220, Accuracy: 0.7626\n",
      "Iteration: 230, Accuracy: 0.768125\n",
      "Iteration: 240, Accuracy: 0.77355\n",
      "Iteration: 250, Accuracy: 0.779225\n",
      "Iteration: 260, Accuracy: 0.7834\n",
      "Iteration: 270, Accuracy: 0.78755\n",
      "Iteration: 280, Accuracy: 0.791475\n",
      "Iteration: 290, Accuracy: 0.795575\n"
     ]
    },
    {
     "data": {
      "image/png": "[encoded data removed]",
      "text/plain": [
       "<Figure size 640x480 with 1 Axes>"
      ]
     },
     "metadata": {},
     "output_type": "display_data"
    }
   ],
   "source": [
    "layerSizes = [784, 10, 10]\n",
    "\n",
    "trainLabels, trainPixels, testLabels, testPixels = getDataset(\"train.csv\")\n",
    "params, iteration, accuracy = gradientDescent(trainPixels,trainLabels, 0.10, 300, layerSizes)\n",
    "params['layerSizes'] = layerSizes\n",
    "\n",
    "plt.plot(iteration, accuracy, marker='o', color='b')\n",
    "plt.xlabel('Iterations')\n",
    "plt.ylabel('Accuracy')\n",
    "plt.title('Iterations vs Accuracy')\n",
    "plt.show()"
   ]
  },
  {
   "cell_type": "code",
   "execution_count": 11,
   "id": "2d0198d4",
   "metadata": {
    "execution": {
     "iopub.execute_input": "2024-10-24T20:53:02.389666Z",
     "iopub.status.busy": "2024-10-24T20:53:02.388744Z",
     "iopub.status.idle": "2024-10-24T20:53:02.601777Z",
     "shell.execute_reply": "2024-10-24T20:53:02.600632Z"
    },
    "papermill": {
     "duration": 0.224086,
     "end_time": "2024-10-24T20:53:02.604153",
     "exception": false,
     "start_time": "2024-10-24T20:53:02.380067",
     "status": "completed"
    },
    "tags": []
   },
   "outputs": [
    {
     "name": "stdout",
     "output_type": "stream",
     "text": [
      "Prediction:  [9]\n",
      "Label:  4\n"
     ]
    },
    {
     "data": {
      "image/png": "[encoded data removed]",
      "text/plain": [
       "<Figure size 640x480 with 1 Axes>"
      ]
     },
     "metadata": {},
     "output_type": "display_data"
    },
    {
     "name": "stdout",
     "output_type": "stream",
     "text": [
      "model accuracy : 0.8\n"
     ]
    }
   ],
   "source": [
    "testPrediction(trainLabels, trainPixels, 100, params, params['layerSizes'])\n",
    "\n",
    "testResults = makePredictions(testPixels, params, params['layerSizes'])\n",
    "print(f\"model accuracy : {getAccuracy(testResults, testLabels)}\")"
   ]
  }
 ],
 "metadata": {
  "kaggle": {
   "accelerator": "none",
   "dataSources": [
    {
     "databundleVersionId": 861823,
     "sourceId": 3004,
     "sourceType": "competition"
    }
   ],
   "dockerImageVersionId": 30786,
   "isGpuEnabled": false,
   "isInternetEnabled": false,
   "language": "python",
   "sourceType": "notebook"
  },
  "kernelspec": {
   "display_name": "Python 3",
   "language": "python",
   "name": "python3"
  },
  "language_info": {
   "codemirror_mode": {
    "name": "ipython",
    "version": 3
   },
   "file_extension": ".py",
   "mimetype": "text/x-python",
   "name": "python",
   "nbconvert_exporter": "python",
   "pygments_lexer": "ipython3",
   "version": "3.10.14"
  },
  "papermill": {
   "default_parameters": {},
   "duration": 78.349987,
   "end_time": "2024-10-24T20:53:03.136707",
   "environment_variables": {},
   "exception": null,
   "input_path": "__notebook__.ipynb",
   "output_path": "__notebook__.ipynb",
   "parameters": {},
   "start_time": "2024-10-24T20:51:44.786720",
   "version": "2.6.0"
  }
 },
 "nbformat": 4,
 "nbformat_minor": 5
}
