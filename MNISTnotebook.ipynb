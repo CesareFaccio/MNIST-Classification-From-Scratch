{
 "cells": [
  {
   "cell_type": "code",
   "execution_count": 1,
   "id": "c87c574e",
   "metadata": {
    "_cell_guid": "b1076dfc-b9ad-4769-8c92-a6c4dae69d19",
    "_uuid": "8f2839f25d086af736a60e9eeb907d3b93b6e0e5",
    "execution": {
     "iopub.execute_input": "2024-10-23T13:26:45.896702Z",
     "iopub.status.busy": "2024-10-23T13:26:45.895732Z",
     "iopub.status.idle": "2024-10-23T13:26:52.292460Z",
     "shell.execute_reply": "2024-10-23T13:26:52.291382Z"
    },
    "papermill": {
     "duration": 6.406285,
     "end_time": "2024-10-23T13:26:52.295163",
     "exception": false,
     "start_time": "2024-10-23T13:26:45.888878",
     "status": "completed"
    },
    "tags": []
   },
   "outputs": [],
   "source": [
    "import numpy as np\n",
    "import pandas as pd\n",
    "from matplotlib import pyplot as plt\n",
    "\n",
    "trainData = pd.read_csv('/kaggle/input/digit-recognizer/train.csv')\n",
    "testData = pd.read_csv('/kaggle/input/digit-recognizer/test.csv')"
   ]
  },
  {
   "cell_type": "code",
   "execution_count": 2,
   "id": "73e8878c",
   "metadata": {
    "execution": {
     "iopub.execute_input": "2024-10-23T13:26:52.306295Z",
     "iopub.status.busy": "2024-10-23T13:26:52.305897Z",
     "iopub.status.idle": "2024-10-23T13:26:52.332388Z",
     "shell.execute_reply": "2024-10-23T13:26:52.331391Z"
    },
    "papermill": {
     "duration": 0.034533,
     "end_time": "2024-10-23T13:26:52.334705",
     "exception": false,
     "start_time": "2024-10-23T13:26:52.300172",
     "status": "completed"
    },
    "tags": []
   },
   "outputs": [
    {
     "data": {
      "text/html": [
       "<div>\n",
       "<style scoped>\n",
       "    .dataframe tbody tr th:only-of-type {\n",
       "        vertical-align: middle;\n",
       "    }\n",
       "\n",
       "    .dataframe tbody tr th {\n",
       "        vertical-align: top;\n",
       "    }\n",
       "\n",
       "    .dataframe thead th {\n",
       "        text-align: right;\n",
       "    }\n",
       "</style>\n",
       "<table border=\"1\" class=\"dataframe\">\n",
       "  <thead>\n",
       "    <tr style=\"text-align: right;\">\n",
       "      <th></th>\n",
       "      <th>label</th>\n",
       "      <th>pixel0</th>\n",
       "      <th>pixel1</th>\n",
       "      <th>pixel2</th>\n",
       "      <th>pixel3</th>\n",
       "      <th>pixel4</th>\n",
       "      <th>pixel5</th>\n",
       "      <th>pixel6</th>\n",
       "      <th>pixel7</th>\n",
       "      <th>pixel8</th>\n",
       "      <th>...</th>\n",
       "      <th>pixel774</th>\n",
       "      <th>pixel775</th>\n",
       "      <th>pixel776</th>\n",
       "      <th>pixel777</th>\n",
       "      <th>pixel778</th>\n",
       "      <th>pixel779</th>\n",
       "      <th>pixel780</th>\n",
       "      <th>pixel781</th>\n",
       "      <th>pixel782</th>\n",
       "      <th>pixel783</th>\n",
       "    </tr>\n",
       "  </thead>\n",
       "  <tbody>\n",
       "    <tr>\n",
       "      <th>0</th>\n",
       "      <td>1</td>\n",
       "      <td>0</td>\n",
       "      <td>0</td>\n",
       "      <td>0</td>\n",
       "      <td>0</td>\n",
       "      <td>0</td>\n",
       "      <td>0</td>\n",
       "      <td>0</td>\n",
       "      <td>0</td>\n",
       "      <td>0</td>\n",
       "      <td>...</td>\n",
       "      <td>0</td>\n",
       "      <td>0</td>\n",
       "      <td>0</td>\n",
       "      <td>0</td>\n",
       "      <td>0</td>\n",
       "      <td>0</td>\n",
       "      <td>0</td>\n",
       "      <td>0</td>\n",
       "      <td>0</td>\n",
       "      <td>0</td>\n",
       "    </tr>\n",
       "    <tr>\n",
       "      <th>1</th>\n",
       "      <td>0</td>\n",
       "      <td>0</td>\n",
       "      <td>0</td>\n",
       "      <td>0</td>\n",
       "      <td>0</td>\n",
       "      <td>0</td>\n",
       "      <td>0</td>\n",
       "      <td>0</td>\n",
       "      <td>0</td>\n",
       "      <td>0</td>\n",
       "      <td>...</td>\n",
       "      <td>0</td>\n",
       "      <td>0</td>\n",
       "      <td>0</td>\n",
       "      <td>0</td>\n",
       "      <td>0</td>\n",
       "      <td>0</td>\n",
       "      <td>0</td>\n",
       "      <td>0</td>\n",
       "      <td>0</td>\n",
       "      <td>0</td>\n",
       "    </tr>\n",
       "    <tr>\n",
       "      <th>2</th>\n",
       "      <td>1</td>\n",
       "      <td>0</td>\n",
       "      <td>0</td>\n",
       "      <td>0</td>\n",
       "      <td>0</td>\n",
       "      <td>0</td>\n",
       "      <td>0</td>\n",
       "      <td>0</td>\n",
       "      <td>0</td>\n",
       "      <td>0</td>\n",
       "      <td>...</td>\n",
       "      <td>0</td>\n",
       "      <td>0</td>\n",
       "      <td>0</td>\n",
       "      <td>0</td>\n",
       "      <td>0</td>\n",
       "      <td>0</td>\n",
       "      <td>0</td>\n",
       "      <td>0</td>\n",
       "      <td>0</td>\n",
       "      <td>0</td>\n",
       "    </tr>\n",
       "    <tr>\n",
       "      <th>3</th>\n",
       "      <td>4</td>\n",
       "      <td>0</td>\n",
       "      <td>0</td>\n",
       "      <td>0</td>\n",
       "      <td>0</td>\n",
       "      <td>0</td>\n",
       "      <td>0</td>\n",
       "      <td>0</td>\n",
       "      <td>0</td>\n",
       "      <td>0</td>\n",
       "      <td>...</td>\n",
       "      <td>0</td>\n",
       "      <td>0</td>\n",
       "      <td>0</td>\n",
       "      <td>0</td>\n",
       "      <td>0</td>\n",
       "      <td>0</td>\n",
       "      <td>0</td>\n",
       "      <td>0</td>\n",
       "      <td>0</td>\n",
       "      <td>0</td>\n",
       "    </tr>\n",
       "    <tr>\n",
       "      <th>4</th>\n",
       "      <td>0</td>\n",
       "      <td>0</td>\n",
       "      <td>0</td>\n",
       "      <td>0</td>\n",
       "      <td>0</td>\n",
       "      <td>0</td>\n",
       "      <td>0</td>\n",
       "      <td>0</td>\n",
       "      <td>0</td>\n",
       "      <td>0</td>\n",
       "      <td>...</td>\n",
       "      <td>0</td>\n",
       "      <td>0</td>\n",
       "      <td>0</td>\n",
       "      <td>0</td>\n",
       "      <td>0</td>\n",
       "      <td>0</td>\n",
       "      <td>0</td>\n",
       "      <td>0</td>\n",
       "      <td>0</td>\n",
       "      <td>0</td>\n",
       "    </tr>\n",
       "  </tbody>\n",
       "</table>\n",
       "<p>5 rows × 785 columns</p>\n",
       "</div>"
      ],
      "text/plain": [
       "   label  pixel0  pixel1  pixel2  pixel3  pixel4  pixel5  pixel6  pixel7  \\\n",
       "0      1       0       0       0       0       0       0       0       0   \n",
       "1      0       0       0       0       0       0       0       0       0   \n",
       "2      1       0       0       0       0       0       0       0       0   \n",
       "3      4       0       0       0       0       0       0       0       0   \n",
       "4      0       0       0       0       0       0       0       0       0   \n",
       "\n",
       "   pixel8  ...  pixel774  pixel775  pixel776  pixel777  pixel778  pixel779  \\\n",
       "0       0  ...         0         0         0         0         0         0   \n",
       "1       0  ...         0         0         0         0         0         0   \n",
       "2       0  ...         0         0         0         0         0         0   \n",
       "3       0  ...         0         0         0         0         0         0   \n",
       "4       0  ...         0         0         0         0         0         0   \n",
       "\n",
       "   pixel780  pixel781  pixel782  pixel783  \n",
       "0         0         0         0         0  \n",
       "1         0         0         0         0  \n",
       "2         0         0         0         0  \n",
       "3         0         0         0         0  \n",
       "4         0         0         0         0  \n",
       "\n",
       "[5 rows x 785 columns]"
      ]
     },
     "execution_count": 2,
     "metadata": {},
     "output_type": "execute_result"
    }
   ],
   "source": [
    "trainData.head()"
   ]
  },
  {
   "cell_type": "code",
   "execution_count": 3,
   "id": "407dc476",
   "metadata": {
    "execution": {
     "iopub.execute_input": "2024-10-23T13:26:52.346802Z",
     "iopub.status.busy": "2024-10-23T13:26:52.346019Z",
     "iopub.status.idle": "2024-10-23T13:26:52.363305Z",
     "shell.execute_reply": "2024-10-23T13:26:52.362210Z"
    },
    "papermill": {
     "duration": 0.025541,
     "end_time": "2024-10-23T13:26:52.365444",
     "exception": false,
     "start_time": "2024-10-23T13:26:52.339903",
     "status": "completed"
    },
    "tags": []
   },
   "outputs": [
    {
     "data": {
      "text/html": [
       "<div>\n",
       "<style scoped>\n",
       "    .dataframe tbody tr th:only-of-type {\n",
       "        vertical-align: middle;\n",
       "    }\n",
       "\n",
       "    .dataframe tbody tr th {\n",
       "        vertical-align: top;\n",
       "    }\n",
       "\n",
       "    .dataframe thead th {\n",
       "        text-align: right;\n",
       "    }\n",
       "</style>\n",
       "<table border=\"1\" class=\"dataframe\">\n",
       "  <thead>\n",
       "    <tr style=\"text-align: right;\">\n",
       "      <th></th>\n",
       "      <th>pixel0</th>\n",
       "      <th>pixel1</th>\n",
       "      <th>pixel2</th>\n",
       "      <th>pixel3</th>\n",
       "      <th>pixel4</th>\n",
       "      <th>pixel5</th>\n",
       "      <th>pixel6</th>\n",
       "      <th>pixel7</th>\n",
       "      <th>pixel8</th>\n",
       "      <th>pixel9</th>\n",
       "      <th>...</th>\n",
       "      <th>pixel774</th>\n",
       "      <th>pixel775</th>\n",
       "      <th>pixel776</th>\n",
       "      <th>pixel777</th>\n",
       "      <th>pixel778</th>\n",
       "      <th>pixel779</th>\n",
       "      <th>pixel780</th>\n",
       "      <th>pixel781</th>\n",
       "      <th>pixel782</th>\n",
       "      <th>pixel783</th>\n",
       "    </tr>\n",
       "  </thead>\n",
       "  <tbody>\n",
       "    <tr>\n",
       "      <th>0</th>\n",
       "      <td>0</td>\n",
       "      <td>0</td>\n",
       "      <td>0</td>\n",
       "      <td>0</td>\n",
       "      <td>0</td>\n",
       "      <td>0</td>\n",
       "      <td>0</td>\n",
       "      <td>0</td>\n",
       "      <td>0</td>\n",
       "      <td>0</td>\n",
       "      <td>...</td>\n",
       "      <td>0</td>\n",
       "      <td>0</td>\n",
       "      <td>0</td>\n",
       "      <td>0</td>\n",
       "      <td>0</td>\n",
       "      <td>0</td>\n",
       "      <td>0</td>\n",
       "      <td>0</td>\n",
       "      <td>0</td>\n",
       "      <td>0</td>\n",
       "    </tr>\n",
       "    <tr>\n",
       "      <th>1</th>\n",
       "      <td>0</td>\n",
       "      <td>0</td>\n",
       "      <td>0</td>\n",
       "      <td>0</td>\n",
       "      <td>0</td>\n",
       "      <td>0</td>\n",
       "      <td>0</td>\n",
       "      <td>0</td>\n",
       "      <td>0</td>\n",
       "      <td>0</td>\n",
       "      <td>...</td>\n",
       "      <td>0</td>\n",
       "      <td>0</td>\n",
       "      <td>0</td>\n",
       "      <td>0</td>\n",
       "      <td>0</td>\n",
       "      <td>0</td>\n",
       "      <td>0</td>\n",
       "      <td>0</td>\n",
       "      <td>0</td>\n",
       "      <td>0</td>\n",
       "    </tr>\n",
       "    <tr>\n",
       "      <th>2</th>\n",
       "      <td>0</td>\n",
       "      <td>0</td>\n",
       "      <td>0</td>\n",
       "      <td>0</td>\n",
       "      <td>0</td>\n",
       "      <td>0</td>\n",
       "      <td>0</td>\n",
       "      <td>0</td>\n",
       "      <td>0</td>\n",
       "      <td>0</td>\n",
       "      <td>...</td>\n",
       "      <td>0</td>\n",
       "      <td>0</td>\n",
       "      <td>0</td>\n",
       "      <td>0</td>\n",
       "      <td>0</td>\n",
       "      <td>0</td>\n",
       "      <td>0</td>\n",
       "      <td>0</td>\n",
       "      <td>0</td>\n",
       "      <td>0</td>\n",
       "    </tr>\n",
       "    <tr>\n",
       "      <th>3</th>\n",
       "      <td>0</td>\n",
       "      <td>0</td>\n",
       "      <td>0</td>\n",
       "      <td>0</td>\n",
       "      <td>0</td>\n",
       "      <td>0</td>\n",
       "      <td>0</td>\n",
       "      <td>0</td>\n",
       "      <td>0</td>\n",
       "      <td>0</td>\n",
       "      <td>...</td>\n",
       "      <td>0</td>\n",
       "      <td>0</td>\n",
       "      <td>0</td>\n",
       "      <td>0</td>\n",
       "      <td>0</td>\n",
       "      <td>0</td>\n",
       "      <td>0</td>\n",
       "      <td>0</td>\n",
       "      <td>0</td>\n",
       "      <td>0</td>\n",
       "    </tr>\n",
       "    <tr>\n",
       "      <th>4</th>\n",
       "      <td>0</td>\n",
       "      <td>0</td>\n",
       "      <td>0</td>\n",
       "      <td>0</td>\n",
       "      <td>0</td>\n",
       "      <td>0</td>\n",
       "      <td>0</td>\n",
       "      <td>0</td>\n",
       "      <td>0</td>\n",
       "      <td>0</td>\n",
       "      <td>...</td>\n",
       "      <td>0</td>\n",
       "      <td>0</td>\n",
       "      <td>0</td>\n",
       "      <td>0</td>\n",
       "      <td>0</td>\n",
       "      <td>0</td>\n",
       "      <td>0</td>\n",
       "      <td>0</td>\n",
       "      <td>0</td>\n",
       "      <td>0</td>\n",
       "    </tr>\n",
       "  </tbody>\n",
       "</table>\n",
       "<p>5 rows × 784 columns</p>\n",
       "</div>"
      ],
      "text/plain": [
       "   pixel0  pixel1  pixel2  pixel3  pixel4  pixel5  pixel6  pixel7  pixel8  \\\n",
       "0       0       0       0       0       0       0       0       0       0   \n",
       "1       0       0       0       0       0       0       0       0       0   \n",
       "2       0       0       0       0       0       0       0       0       0   \n",
       "3       0       0       0       0       0       0       0       0       0   \n",
       "4       0       0       0       0       0       0       0       0       0   \n",
       "\n",
       "   pixel9  ...  pixel774  pixel775  pixel776  pixel777  pixel778  pixel779  \\\n",
       "0       0  ...         0         0         0         0         0         0   \n",
       "1       0  ...         0         0         0         0         0         0   \n",
       "2       0  ...         0         0         0         0         0         0   \n",
       "3       0  ...         0         0         0         0         0         0   \n",
       "4       0  ...         0         0         0         0         0         0   \n",
       "\n",
       "   pixel780  pixel781  pixel782  pixel783  \n",
       "0         0         0         0         0  \n",
       "1         0         0         0         0  \n",
       "2         0         0         0         0  \n",
       "3         0         0         0         0  \n",
       "4         0         0         0         0  \n",
       "\n",
       "[5 rows x 784 columns]"
      ]
     },
     "execution_count": 3,
     "metadata": {},
     "output_type": "execute_result"
    }
   ],
   "source": [
    "testData.head()"
   ]
  },
  {
   "cell_type": "markdown",
   "id": "aa0e1dee",
   "metadata": {
    "papermill": {
     "duration": 0.004949,
     "end_time": "2024-10-23T13:26:52.375735",
     "exception": false,
     "start_time": "2024-10-23T13:26:52.370786",
     "status": "completed"
    },
    "tags": []
   },
   "source": [
    "Here, we see that the test dataset is only useful for the competition organizers, but we cannot use it due to the absence of a \"label\" column. To address this, I will split the training dataset into training and testing portions."
   ]
  },
  {
   "cell_type": "code",
   "execution_count": 4,
   "id": "9740995f",
   "metadata": {
    "execution": {
     "iopub.execute_input": "2024-10-23T13:26:52.387712Z",
     "iopub.status.busy": "2024-10-23T13:26:52.387344Z",
     "iopub.status.idle": "2024-10-23T13:26:53.091635Z",
     "shell.execute_reply": "2024-10-23T13:26:53.090498Z"
    },
    "papermill": {
     "duration": 0.713318,
     "end_time": "2024-10-23T13:26:53.094221",
     "exception": false,
     "start_time": "2024-10-23T13:26:52.380903",
     "status": "completed"
    },
    "tags": []
   },
   "outputs": [
    {
     "name": "stdout",
     "output_type": "stream",
     "text": [
      "rows: 42000 , columns: 785\n"
     ]
    }
   ],
   "source": [
    "trainData = np.array(trainData)\n",
    "rows, columns = trainData.shape\n",
    "np.random.shuffle(trainData) # shuffle before splitting into dev and training sets\n",
    "\n",
    "print(f\"rows: {rows} , columns: {columns}\")"
   ]
  },
  {
   "cell_type": "code",
   "execution_count": 5,
   "id": "11eb27f9",
   "metadata": {
    "execution": {
     "iopub.execute_input": "2024-10-23T13:26:53.107906Z",
     "iopub.status.busy": "2024-10-23T13:26:53.106819Z",
     "iopub.status.idle": "2024-10-23T13:26:53.256868Z",
     "shell.execute_reply": "2024-10-23T13:26:53.255766Z"
    },
    "papermill": {
     "duration": 0.159852,
     "end_time": "2024-10-23T13:26:53.259691",
     "exception": false,
     "start_time": "2024-10-23T13:26:53.099839",
     "status": "completed"
    },
    "tags": []
   },
   "outputs": [],
   "source": [
    "testData = trainData[0:2000].T\n",
    "testLabels = testData[0]\n",
    "testPixels = testData[1:columns+1]\n",
    "testPixels = testPixels / 255\n",
    "\n",
    "trainData = trainData[2000:rows].T\n",
    "trainLabels = trainData[0]\n",
    "trainPixels = trainData[1:columns+1]\n",
    "trainPixels = trainPixels / 255\n",
    "_,rowsTrain = trainPixels.shape"
   ]
  },
  {
   "cell_type": "code",
   "execution_count": 6,
   "id": "b312683c",
   "metadata": {
    "execution": {
     "iopub.execute_input": "2024-10-23T13:26:53.272804Z",
     "iopub.status.busy": "2024-10-23T13:26:53.272046Z",
     "iopub.status.idle": "2024-10-23T13:26:53.280320Z",
     "shell.execute_reply": "2024-10-23T13:26:53.279214Z"
    },
    "papermill": {
     "duration": 0.017761,
     "end_time": "2024-10-23T13:26:53.283069",
     "exception": false,
     "start_time": "2024-10-23T13:26:53.265308",
     "status": "completed"
    },
    "tags": []
   },
   "outputs": [
    {
     "name": "stdout",
     "output_type": "stream",
     "text": [
      "[3 7 0 ... 7 8 3]\n",
      "shape : (2000,)\n"
     ]
    }
   ],
   "source": [
    "print(testLabels)\n",
    "print(f\"shape : {testLabels.shape}\")"
   ]
  },
  {
   "cell_type": "code",
   "execution_count": 7,
   "id": "daf08e92",
   "metadata": {
    "execution": {
     "iopub.execute_input": "2024-10-23T13:26:53.297102Z",
     "iopub.status.busy": "2024-10-23T13:26:53.296695Z",
     "iopub.status.idle": "2024-10-23T13:26:53.303763Z",
     "shell.execute_reply": "2024-10-23T13:26:53.302501Z"
    },
    "papermill": {
     "duration": 0.016184,
     "end_time": "2024-10-23T13:26:53.306053",
     "exception": false,
     "start_time": "2024-10-23T13:26:53.289869",
     "status": "completed"
    },
    "tags": []
   },
   "outputs": [
    {
     "name": "stdout",
     "output_type": "stream",
     "text": [
      "[[0. 0. 0. ... 0. 0. 0.]\n",
      " [0. 0. 0. ... 0. 0. 0.]\n",
      " [0. 0. 0. ... 0. 0. 0.]\n",
      " ...\n",
      " [0. 0. 0. ... 0. 0. 0.]\n",
      " [0. 0. 0. ... 0. 0. 0.]\n",
      " [0. 0. 0. ... 0. 0. 0.]]\n",
      "shape: (784, 2000)\n",
      "shape: (784,)\n"
     ]
    }
   ],
   "source": [
    "print(testPixels)\n",
    "print(f\"shape: {testPixels.shape}\")\n",
    "print(f\"shape: {testPixels[:,1].shape}\")"
   ]
  },
  {
   "cell_type": "code",
   "execution_count": 8,
   "id": "128185f3",
   "metadata": {
    "execution": {
     "iopub.execute_input": "2024-10-23T13:26:53.319218Z",
     "iopub.status.busy": "2024-10-23T13:26:53.318717Z",
     "iopub.status.idle": "2024-10-23T13:26:53.324470Z",
     "shell.execute_reply": "2024-10-23T13:26:53.323431Z"
    },
    "papermill": {
     "duration": 0.015463,
     "end_time": "2024-10-23T13:26:53.327256",
     "exception": false,
     "start_time": "2024-10-23T13:26:53.311793",
     "status": "completed"
    },
    "tags": []
   },
   "outputs": [
    {
     "name": "stdout",
     "output_type": "stream",
     "text": [
      "[2 8 1 ... 7 5 3]\n",
      "shape : (40000,)\n"
     ]
    }
   ],
   "source": [
    "print(trainLabels)\n",
    "print(f\"shape : {trainLabels.shape}\")"
   ]
  },
  {
   "cell_type": "code",
   "execution_count": 9,
   "id": "8b754304",
   "metadata": {
    "execution": {
     "iopub.execute_input": "2024-10-23T13:26:53.340908Z",
     "iopub.status.busy": "2024-10-23T13:26:53.339969Z",
     "iopub.status.idle": "2024-10-23T13:26:53.346280Z",
     "shell.execute_reply": "2024-10-23T13:26:53.345221Z"
    },
    "papermill": {
     "duration": 0.015435,
     "end_time": "2024-10-23T13:26:53.348590",
     "exception": false,
     "start_time": "2024-10-23T13:26:53.333155",
     "status": "completed"
    },
    "tags": []
   },
   "outputs": [
    {
     "name": "stdout",
     "output_type": "stream",
     "text": [
      "[[0. 0. 0. ... 0. 0. 0.]\n",
      " [0. 0. 0. ... 0. 0. 0.]\n",
      " [0. 0. 0. ... 0. 0. 0.]\n",
      " ...\n",
      " [0. 0. 0. ... 0. 0. 0.]\n",
      " [0. 0. 0. ... 0. 0. 0.]\n",
      " [0. 0. 0. ... 0. 0. 0.]]\n",
      "shape: (784, 40000)\n",
      "shape: (784,)\n"
     ]
    }
   ],
   "source": [
    "print(trainPixels)\n",
    "print(f\"shape: {trainPixels.shape}\")\n",
    "print(f\"shape: {trainPixels[:,1].shape}\")"
   ]
  },
  {
   "cell_type": "markdown",
   "id": "ffb5a37c",
   "metadata": {
    "papermill": {
     "duration": 0.005502,
     "end_time": "2024-10-23T13:26:53.360517",
     "exception": false,
     "start_time": "2024-10-23T13:26:53.355015",
     "status": "completed"
    },
    "tags": []
   },
   "source": [
    "This all checks out so we can move on to building our network."
   ]
  },
  {
   "cell_type": "code",
   "execution_count": 10,
   "id": "ca1a5c36",
   "metadata": {
    "execution": {
     "iopub.execute_input": "2024-10-23T13:26:53.374458Z",
     "iopub.status.busy": "2024-10-23T13:26:53.373125Z",
     "iopub.status.idle": "2024-10-23T13:26:53.380882Z",
     "shell.execute_reply": "2024-10-23T13:26:53.380002Z"
    },
    "papermill": {
     "duration": 0.016789,
     "end_time": "2024-10-23T13:26:53.383111",
     "exception": false,
     "start_time": "2024-10-23T13:26:53.366322",
     "status": "completed"
    },
    "tags": []
   },
   "outputs": [],
   "source": [
    "def init_params():\n",
    "    W1 = np.random.rand(10, 784) - 0.5\n",
    "    b1 = np.random.rand(10, 1) - 0.5\n",
    "    W2 = np.random.rand(10, 10) - 0.5\n",
    "    b2 = np.random.rand(10, 1) - 0.5\n",
    "    return W1, b1, W2, b2\n",
    "\n",
    "def ReLU(Z):\n",
    "    return np.maximum(Z, 0)\n",
    "\n",
    "def softmax(Z):\n",
    "    A = np.exp(Z) / sum(np.exp(Z))\n",
    "    return A\n",
    "    \n",
    "def forward_prop(W1, b1, W2, b2, pixels):\n",
    "    Z1 = W1.dot(pixels) + b1\n",
    "    A1 = ReLU(Z1)\n",
    "    Z2 = W2.dot(A1) + b2\n",
    "    A2 = softmax(Z2)\n",
    "    return Z1, A1, Z2, A2"
   ]
  },
  {
   "cell_type": "code",
   "execution_count": 11,
   "id": "9fc6ba55",
   "metadata": {
    "execution": {
     "iopub.execute_input": "2024-10-23T13:26:53.395956Z",
     "iopub.status.busy": "2024-10-23T13:26:53.395543Z",
     "iopub.status.idle": "2024-10-23T13:26:53.405247Z",
     "shell.execute_reply": "2024-10-23T13:26:53.404169Z"
    },
    "papermill": {
     "duration": 0.018746,
     "end_time": "2024-10-23T13:26:53.407488",
     "exception": false,
     "start_time": "2024-10-23T13:26:53.388742",
     "status": "completed"
    },
    "tags": []
   },
   "outputs": [],
   "source": [
    "def ReLU_deriv(Z):\n",
    "    return Z > 0\n",
    "\n",
    "def desiredOutputs(Y):\n",
    "    one_hot_Y = np.zeros((Y.size, Y.max() + 1))\n",
    "    one_hot_Y[np.arange(Y.size), Y] = 1\n",
    "    one_hot_Y = one_hot_Y.T\n",
    "    return one_hot_Y\n",
    "\n",
    "def backward_prop(Z1, A1, Z2, A2, W1, W2, pixels, Labels):\n",
    "    desiredOut = desiredOutputs(Labels)\n",
    "    dZ2 = A2 - desiredOut\n",
    "    dW2 = 1 / rowsTrain * dZ2.dot(A1.T)\n",
    "    db2 = 1 / rowsTrain * np.sum(dZ2)\n",
    "    dZ1 = W2.T.dot(dZ2) * ReLU_deriv(Z1)\n",
    "    dW1 = 1 / rowsTrain * dZ1.dot(pixels.T)\n",
    "    db1 = 1 / rowsTrain * np.sum(dZ1)\n",
    "    return dW1, db1, dW2, db2\n",
    "\n",
    "def update_params(W1, b1, W2, b2, dW1, db1, dW2, db2, alpha):\n",
    "    W1 = W1 - alpha * dW1\n",
    "    b1 = b1 - alpha * db1    \n",
    "    W2 = W2 - alpha * dW2  \n",
    "    b2 = b2 - alpha * db2    \n",
    "    return W1, b1, W2, b2"
   ]
  },
  {
   "cell_type": "code",
   "execution_count": 12,
   "id": "66800c92",
   "metadata": {
    "execution": {
     "iopub.execute_input": "2024-10-23T13:26:53.420773Z",
     "iopub.status.busy": "2024-10-23T13:26:53.420356Z",
     "iopub.status.idle": "2024-10-23T13:26:53.428215Z",
     "shell.execute_reply": "2024-10-23T13:26:53.427198Z"
    },
    "papermill": {
     "duration": 0.017175,
     "end_time": "2024-10-23T13:26:53.430496",
     "exception": false,
     "start_time": "2024-10-23T13:26:53.413321",
     "status": "completed"
    },
    "tags": []
   },
   "outputs": [],
   "source": [
    "def get_predictions(A2):\n",
    "    return np.argmax(A2, 0)\n",
    "\n",
    "def get_accuracy(predictions, Y):\n",
    "    print(predictions, Y)\n",
    "    return np.sum(predictions == Y) / Y.size\n",
    "\n",
    "def gradient_descent(X, Y, alpha, iterations):\n",
    "    W1, b1, W2, b2 = init_params()\n",
    "    for i in range(iterations):\n",
    "        Z1, A1, Z2, A2 = forward_prop(W1, b1, W2, b2, X)\n",
    "        dW1, db1, dW2, db2 = backward_prop(Z1, A1, Z2, A2, W1, W2, X, Y)\n",
    "        W1, b1, W2, b2 = update_params(W1, b1, W2, b2, dW1, db1, dW2, db2, alpha)\n",
    "        if i % 10 == 0:\n",
    "            print(\"Iteration: \", i)\n",
    "            predictions = get_predictions(A2)\n",
    "            print(get_accuracy(predictions, Y))\n",
    "    return W1, b1, W2, b2"
   ]
  },
  {
   "cell_type": "code",
   "execution_count": 13,
   "id": "a5556ee9",
   "metadata": {
    "execution": {
     "iopub.execute_input": "2024-10-23T13:26:53.443694Z",
     "iopub.status.busy": "2024-10-23T13:26:53.443296Z",
     "iopub.status.idle": "2024-10-23T13:27:46.019481Z",
     "shell.execute_reply": "2024-10-23T13:27:46.018226Z"
    },
    "papermill": {
     "duration": 52.587027,
     "end_time": "2024-10-23T13:27:46.023386",
     "exception": false,
     "start_time": "2024-10-23T13:26:53.436359",
     "status": "completed"
    },
    "tags": []
   },
   "outputs": [
    {
     "name": "stdout",
     "output_type": "stream",
     "text": [
      "Iteration:  0\n",
      "[2 5 3 ... 2 1 5] [2 8 1 ... 7 5 3]\n",
      "0.0734\n",
      "Iteration:  10\n",
      "[2 6 3 ... 4 6 5] [2 8 1 ... 7 5 3]\n",
      "0.1408\n",
      "Iteration:  20\n",
      "[2 6 7 ... 4 6 5] [2 8 1 ... 7 5 3]\n",
      "0.19505\n",
      "Iteration:  30\n",
      "[2 6 7 ... 4 3 5] [2 8 1 ... 7 5 3]\n",
      "0.273975\n",
      "Iteration:  40\n",
      "[8 6 7 ... 4 3 5] [2 8 1 ... 7 5 3]\n",
      "0.340425\n",
      "Iteration:  50\n",
      "[8 6 7 ... 4 3 5] [2 8 1 ... 7 5 3]\n",
      "0.4036\n",
      "Iteration:  60\n",
      "[8 6 7 ... 7 3 5] [2 8 1 ... 7 5 3]\n",
      "0.4662\n",
      "Iteration:  70\n",
      "[8 6 7 ... 7 8 5] [2 8 1 ... 7 5 3]\n",
      "0.5162\n",
      "Iteration:  80\n",
      "[8 6 1 ... 7 8 5] [2 8 1 ... 7 5 3]\n",
      "0.555225\n",
      "Iteration:  90\n",
      "[8 6 1 ... 7 8 5] [2 8 1 ... 7 5 3]\n",
      "0.58545\n",
      "Iteration:  100\n",
      "[8 6 1 ... 7 8 5] [2 8 1 ... 7 5 3]\n",
      "0.61225\n",
      "Iteration:  110\n",
      "[8 6 1 ... 7 8 5] [2 8 1 ... 7 5 3]\n",
      "0.63325\n",
      "Iteration:  120\n",
      "[8 6 1 ... 7 8 5] [2 8 1 ... 7 5 3]\n",
      "0.651875\n",
      "Iteration:  130\n",
      "[8 6 1 ... 7 8 5] [2 8 1 ... 7 5 3]\n",
      "0.66945\n",
      "Iteration:  140\n",
      "[8 6 1 ... 7 8 5] [2 8 1 ... 7 5 3]\n",
      "0.6841\n",
      "Iteration:  150\n",
      "[8 6 1 ... 7 8 5] [2 8 1 ... 7 5 3]\n",
      "0.697425\n",
      "Iteration:  160\n",
      "[8 6 1 ... 7 8 5] [2 8 1 ... 7 5 3]\n",
      "0.709575\n",
      "Iteration:  170\n",
      "[8 6 1 ... 7 8 5] [2 8 1 ... 7 5 3]\n",
      "0.72055\n",
      "Iteration:  180\n",
      "[8 6 1 ... 7 8 5] [2 8 1 ... 7 5 3]\n",
      "0.730325\n",
      "Iteration:  190\n",
      "[8 6 1 ... 7 8 5] [2 8 1 ... 7 5 3]\n",
      "0.73935\n",
      "Iteration:  200\n",
      "[8 6 1 ... 7 8 5] [2 8 1 ... 7 5 3]\n",
      "0.7481\n",
      "Iteration:  210\n",
      "[8 6 1 ... 7 8 5] [2 8 1 ... 7 5 3]\n",
      "0.756575\n",
      "Iteration:  220\n",
      "[8 6 1 ... 7 8 5] [2 8 1 ... 7 5 3]\n",
      "0.7641\n",
      "Iteration:  230\n",
      "[8 6 1 ... 7 8 5] [2 8 1 ... 7 5 3]\n",
      "0.77045\n",
      "Iteration:  240\n",
      "[8 6 1 ... 7 8 5] [2 8 1 ... 7 5 3]\n",
      "0.776325\n",
      "Iteration:  250\n",
      "[8 6 1 ... 7 8 5] [2 8 1 ... 7 5 3]\n",
      "0.7821\n",
      "Iteration:  260\n",
      "[8 6 1 ... 7 8 3] [2 8 1 ... 7 5 3]\n",
      "0.788\n",
      "Iteration:  270\n",
      "[8 6 1 ... 7 8 3] [2 8 1 ... 7 5 3]\n",
      "0.792525\n",
      "Iteration:  280\n",
      "[8 6 1 ... 7 8 3] [2 8 1 ... 7 5 3]\n",
      "0.797225\n",
      "Iteration:  290\n",
      "[8 6 1 ... 7 8 3] [2 8 1 ... 7 5 3]\n",
      "0.801125\n",
      "Iteration:  300\n",
      "[8 6 1 ... 7 8 3] [2 8 1 ... 7 5 3]\n",
      "0.80515\n",
      "Iteration:  310\n",
      "[8 6 1 ... 7 8 3] [2 8 1 ... 7 5 3]\n",
      "0.808225\n",
      "Iteration:  320\n",
      "[8 6 1 ... 7 8 3] [2 8 1 ... 7 5 3]\n",
      "0.811775\n",
      "Iteration:  330\n",
      "[8 6 1 ... 7 8 3] [2 8 1 ... 7 5 3]\n",
      "0.814775\n",
      "Iteration:  340\n",
      "[8 6 1 ... 7 8 3] [2 8 1 ... 7 5 3]\n",
      "0.81775\n",
      "Iteration:  350\n",
      "[8 6 1 ... 7 8 3] [2 8 1 ... 7 5 3]\n",
      "0.8204\n",
      "Iteration:  360\n",
      "[8 6 1 ... 7 8 3] [2 8 1 ... 7 5 3]\n",
      "0.82255\n",
      "Iteration:  370\n",
      "[8 6 1 ... 7 8 3] [2 8 1 ... 7 5 3]\n",
      "0.82525\n",
      "Iteration:  380\n",
      "[8 6 1 ... 7 8 3] [2 8 1 ... 7 5 3]\n",
      "0.8273\n",
      "Iteration:  390\n",
      "[8 6 1 ... 7 8 3] [2 8 1 ... 7 5 3]\n",
      "0.829775\n",
      "Iteration:  400\n",
      "[8 6 1 ... 7 8 3] [2 8 1 ... 7 5 3]\n",
      "0.8319\n",
      "Iteration:  410\n",
      "[8 6 1 ... 7 8 3] [2 8 1 ... 7 5 3]\n",
      "0.834075\n",
      "Iteration:  420\n",
      "[8 6 1 ... 7 8 3] [2 8 1 ... 7 5 3]\n",
      "0.836175\n",
      "Iteration:  430\n",
      "[8 6 1 ... 7 8 3] [2 8 1 ... 7 5 3]\n",
      "0.837775\n",
      "Iteration:  440\n",
      "[8 6 1 ... 7 8 3] [2 8 1 ... 7 5 3]\n",
      "0.8395\n",
      "Iteration:  450\n",
      "[8 6 1 ... 7 8 3] [2 8 1 ... 7 5 3]\n",
      "0.84155\n",
      "Iteration:  460\n",
      "[8 6 1 ... 7 8 3] [2 8 1 ... 7 5 3]\n",
      "0.843125\n",
      "Iteration:  470\n",
      "[8 6 1 ... 7 8 3] [2 8 1 ... 7 5 3]\n",
      "0.84475\n",
      "Iteration:  480\n",
      "[8 6 1 ... 7 8 3] [2 8 1 ... 7 5 3]\n",
      "0.846\n",
      "Iteration:  490\n",
      "[8 6 1 ... 7 8 3] [2 8 1 ... 7 5 3]\n",
      "0.8475\n"
     ]
    }
   ],
   "source": [
    "W1, b1, W2, b2 = gradient_descent(trainPixels, trainLabels, 0.10, 500)"
   ]
  },
  {
   "cell_type": "code",
   "execution_count": 14,
   "id": "090dd29e",
   "metadata": {
    "execution": {
     "iopub.execute_input": "2024-10-23T13:27:46.055007Z",
     "iopub.status.busy": "2024-10-23T13:27:46.054451Z",
     "iopub.status.idle": "2024-10-23T13:27:46.066813Z",
     "shell.execute_reply": "2024-10-23T13:27:46.065541Z"
    },
    "papermill": {
     "duration": 0.031587,
     "end_time": "2024-10-23T13:27:46.070301",
     "exception": false,
     "start_time": "2024-10-23T13:27:46.038714",
     "status": "completed"
    },
    "tags": []
   },
   "outputs": [],
   "source": [
    "def make_predictions(X, W1, b1, W2, b2):\n",
    "    _, _, _, A2 = forward_prop(W1, b1, W2, b2, X)\n",
    "    predictions = get_predictions(A2)\n",
    "    return predictions\n",
    "\n",
    "def test_prediction(index, W1, b1, W2, b2):\n",
    "    current_image = trainPixels[:, index, None]\n",
    "    prediction = make_predictions(trainPixels[:, index, None], W1, b1, W2, b2)\n",
    "    label = trainLabels[index]\n",
    "    print(\"Prediction: \", prediction)\n",
    "    print(\"Label: \", label)\n",
    "    \n",
    "    current_image = current_image.reshape((28, 28)) * 255\n",
    "    plt.gray()\n",
    "    plt.imshow(current_image, interpolation='nearest')\n",
    "    plt.show()"
   ]
  },
  {
   "cell_type": "code",
   "execution_count": 15,
   "id": "954aff62",
   "metadata": {
    "execution": {
     "iopub.execute_input": "2024-10-23T13:27:46.101381Z",
     "iopub.status.busy": "2024-10-23T13:27:46.100810Z",
     "iopub.status.idle": "2024-10-23T13:27:46.469543Z",
     "shell.execute_reply": "2024-10-23T13:27:46.468469Z"
    },
    "papermill": {
     "duration": 0.387562,
     "end_time": "2024-10-23T13:27:46.472302",
     "exception": false,
     "start_time": "2024-10-23T13:27:46.084740",
     "status": "completed"
    },
    "tags": []
   },
   "outputs": [
    {
     "name": "stdout",
     "output_type": "stream",
     "text": [
      "Prediction:  [8]\n",
      "Label:  2\n"
     ]
    },
    {
     "data": {
      "image/png": "[encoded data removed]",
      "text/plain": [
       "<Figure size 640x480 with 1 Axes>"
      ]
     },
     "metadata": {},
     "output_type": "display_data"
    },
    {
     "name": "stdout",
     "output_type": "stream",
     "text": [
      "Prediction:  [6]\n",
      "Label:  8\n"
     ]
    },
    {
     "data": {
      "image/png": "[encoded data removed]",
      "text/plain": [
       "<Figure size 640x480 with 1 Axes>"
      ]
     },
     "metadata": {},
     "output_type": "display_data"
    }
   ],
   "source": [
    "test_prediction(0, W1, b1, W2, b2)\n",
    "test_prediction(1, W1, b1, W2, b2)"
   ]
  },
  {
   "cell_type": "code",
   "execution_count": 16,
   "id": "e55fe088",
   "metadata": {
    "execution": {
     "iopub.execute_input": "2024-10-23T13:27:46.493944Z",
     "iopub.status.busy": "2024-10-23T13:27:46.492796Z",
     "iopub.status.idle": "2024-10-23T13:27:46.507526Z",
     "shell.execute_reply": "2024-10-23T13:27:46.506300Z"
    },
    "papermill": {
     "duration": 0.02978,
     "end_time": "2024-10-23T13:27:46.511844",
     "exception": false,
     "start_time": "2024-10-23T13:27:46.482064",
     "status": "completed"
    },
    "tags": []
   },
   "outputs": [
    {
     "name": "stdout",
     "output_type": "stream",
     "text": [
      "[3 7 0 ... 7 8 3] [3 7 0 ... 7 8 3]\n"
     ]
    },
    {
     "data": {
      "text/plain": [
       "0.823"
      ]
     },
     "execution_count": 16,
     "metadata": {},
     "output_type": "execute_result"
    }
   ],
   "source": [
    "testResults = make_predictions(testPixels, W1, b1, W2, b2)\n",
    "get_accuracy(testResults, testLabels)"
   ]
  }
 ],
 "metadata": {
  "kaggle": {
   "accelerator": "none",
   "dataSources": [
    {
     "databundleVersionId": 861823,
     "sourceId": 3004,
     "sourceType": "competition"
    }
   ],
   "dockerImageVersionId": 30786,
   "isGpuEnabled": false,
   "isInternetEnabled": false,
   "language": "python",
   "sourceType": "notebook"
  },
  "kernelspec": {
   "display_name": "Python 3",
   "language": "python",
   "name": "python3"
  },
  "language_info": {
   "codemirror_mode": {
    "name": "ipython",
    "version": 3
   },
   "file_extension": ".py",
   "mimetype": "text/x-python",
   "name": "python",
   "nbconvert_exporter": "python",
   "pygments_lexer": "ipython3",
   "version": "3.10.14"
  },
  "papermill": {
   "default_parameters": {},
   "duration": 63.912635,
   "end_time": "2024-10-23T13:27:47.049273",
   "environment_variables": {},
   "exception": null,
   "input_path": "__notebook__.ipynb",
   "output_path": "__notebook__.ipynb",
   "parameters": {},
   "start_time": "2024-10-23T13:26:43.136638",
   "version": "2.6.0"
  }
 },
 "nbformat": 4,
 "nbformat_minor": 5
}
