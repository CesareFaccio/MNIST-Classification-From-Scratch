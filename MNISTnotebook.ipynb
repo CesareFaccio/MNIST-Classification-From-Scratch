{
 "cells": [
  {
   "cell_type": "code",
   "execution_count": 1,
   "id": "464a9096",
   "metadata": {
    "_cell_guid": "b1076dfc-b9ad-4769-8c92-a6c4dae69d19",
    "_uuid": "8f2839f25d086af736a60e9eeb907d3b93b6e0e5",
    "execution": {
     "iopub.execute_input": "2024-10-24T20:59:58.969528Z",
     "iopub.status.busy": "2024-10-24T20:59:58.968978Z",
     "iopub.status.idle": "2024-10-24T21:00:07.042112Z",
     "shell.execute_reply": "2024-10-24T21:00:07.040789Z"
    },
    "papermill": {
     "duration": 8.085081,
     "end_time": "2024-10-24T21:00:07.044916",
     "exception": false,
     "start_time": "2024-10-24T20:59:58.959835",
     "status": "completed"
    },
    "tags": []
   },
   "outputs": [],
   "source": [
    "import numpy as np\n",
    "import pandas as pd\n",
    "from matplotlib import pyplot as plt\n",
    "\n",
    "trainData = pd.read_csv('/kaggle/input/digit-recognizer/train.csv')\n",
    "testData = pd.read_csv('/kaggle/input/digit-recognizer/test.csv')"
   ]
  },
  {
   "cell_type": "code",
   "execution_count": 2,
   "id": "a3ba6720",
   "metadata": {
    "execution": {
     "iopub.execute_input": "2024-10-24T21:00:07.060782Z",
     "iopub.status.busy": "2024-10-24T21:00:07.059759Z",
     "iopub.status.idle": "2024-10-24T21:00:07.089966Z",
     "shell.execute_reply": "2024-10-24T21:00:07.088730Z"
    },
    "papermill": {
     "duration": 0.040598,
     "end_time": "2024-10-24T21:00:07.092630",
     "exception": false,
     "start_time": "2024-10-24T21:00:07.052032",
     "status": "completed"
    },
    "tags": []
   },
   "outputs": [
    {
     "data": {
      "text/html": [
       "<div>\n",
       "<style scoped>\n",
       "    .dataframe tbody tr th:only-of-type {\n",
       "        vertical-align: middle;\n",
       "    }\n",
       "\n",
       "    .dataframe tbody tr th {\n",
       "        vertical-align: top;\n",
       "    }\n",
       "\n",
       "    .dataframe thead th {\n",
       "        text-align: right;\n",
       "    }\n",
       "</style>\n",
       "<table border=\"1\" class=\"dataframe\">\n",
       "  <thead>\n",
       "    <tr style=\"text-align: right;\">\n",
       "      <th></th>\n",
       "      <th>label</th>\n",
       "      <th>pixel0</th>\n",
       "      <th>pixel1</th>\n",
       "      <th>pixel2</th>\n",
       "      <th>pixel3</th>\n",
       "      <th>pixel4</th>\n",
       "      <th>pixel5</th>\n",
       "      <th>pixel6</th>\n",
       "      <th>pixel7</th>\n",
       "      <th>pixel8</th>\n",
       "      <th>...</th>\n",
       "      <th>pixel774</th>\n",
       "      <th>pixel775</th>\n",
       "      <th>pixel776</th>\n",
       "      <th>pixel777</th>\n",
       "      <th>pixel778</th>\n",
       "      <th>pixel779</th>\n",
       "      <th>pixel780</th>\n",
       "      <th>pixel781</th>\n",
       "      <th>pixel782</th>\n",
       "      <th>pixel783</th>\n",
       "    </tr>\n",
       "  </thead>\n",
       "  <tbody>\n",
       "    <tr>\n",
       "      <th>0</th>\n",
       "      <td>1</td>\n",
       "      <td>0</td>\n",
       "      <td>0</td>\n",
       "      <td>0</td>\n",
       "      <td>0</td>\n",
       "      <td>0</td>\n",
       "      <td>0</td>\n",
       "      <td>0</td>\n",
       "      <td>0</td>\n",
       "      <td>0</td>\n",
       "      <td>...</td>\n",
       "      <td>0</td>\n",
       "      <td>0</td>\n",
       "      <td>0</td>\n",
       "      <td>0</td>\n",
       "      <td>0</td>\n",
       "      <td>0</td>\n",
       "      <td>0</td>\n",
       "      <td>0</td>\n",
       "      <td>0</td>\n",
       "      <td>0</td>\n",
       "    </tr>\n",
       "    <tr>\n",
       "      <th>1</th>\n",
       "      <td>0</td>\n",
       "      <td>0</td>\n",
       "      <td>0</td>\n",
       "      <td>0</td>\n",
       "      <td>0</td>\n",
       "      <td>0</td>\n",
       "      <td>0</td>\n",
       "      <td>0</td>\n",
       "      <td>0</td>\n",
       "      <td>0</td>\n",
       "      <td>...</td>\n",
       "      <td>0</td>\n",
       "      <td>0</td>\n",
       "      <td>0</td>\n",
       "      <td>0</td>\n",
       "      <td>0</td>\n",
       "      <td>0</td>\n",
       "      <td>0</td>\n",
       "      <td>0</td>\n",
       "      <td>0</td>\n",
       "      <td>0</td>\n",
       "    </tr>\n",
       "    <tr>\n",
       "      <th>2</th>\n",
       "      <td>1</td>\n",
       "      <td>0</td>\n",
       "      <td>0</td>\n",
       "      <td>0</td>\n",
       "      <td>0</td>\n",
       "      <td>0</td>\n",
       "      <td>0</td>\n",
       "      <td>0</td>\n",
       "      <td>0</td>\n",
       "      <td>0</td>\n",
       "      <td>...</td>\n",
       "      <td>0</td>\n",
       "      <td>0</td>\n",
       "      <td>0</td>\n",
       "      <td>0</td>\n",
       "      <td>0</td>\n",
       "      <td>0</td>\n",
       "      <td>0</td>\n",
       "      <td>0</td>\n",
       "      <td>0</td>\n",
       "      <td>0</td>\n",
       "    </tr>\n",
       "    <tr>\n",
       "      <th>3</th>\n",
       "      <td>4</td>\n",
       "      <td>0</td>\n",
       "      <td>0</td>\n",
       "      <td>0</td>\n",
       "      <td>0</td>\n",
       "      <td>0</td>\n",
       "      <td>0</td>\n",
       "      <td>0</td>\n",
       "      <td>0</td>\n",
       "      <td>0</td>\n",
       "      <td>...</td>\n",
       "      <td>0</td>\n",
       "      <td>0</td>\n",
       "      <td>0</td>\n",
       "      <td>0</td>\n",
       "      <td>0</td>\n",
       "      <td>0</td>\n",
       "      <td>0</td>\n",
       "      <td>0</td>\n",
       "      <td>0</td>\n",
       "      <td>0</td>\n",
       "    </tr>\n",
       "    <tr>\n",
       "      <th>4</th>\n",
       "      <td>0</td>\n",
       "      <td>0</td>\n",
       "      <td>0</td>\n",
       "      <td>0</td>\n",
       "      <td>0</td>\n",
       "      <td>0</td>\n",
       "      <td>0</td>\n",
       "      <td>0</td>\n",
       "      <td>0</td>\n",
       "      <td>0</td>\n",
       "      <td>...</td>\n",
       "      <td>0</td>\n",
       "      <td>0</td>\n",
       "      <td>0</td>\n",
       "      <td>0</td>\n",
       "      <td>0</td>\n",
       "      <td>0</td>\n",
       "      <td>0</td>\n",
       "      <td>0</td>\n",
       "      <td>0</td>\n",
       "      <td>0</td>\n",
       "    </tr>\n",
       "  </tbody>\n",
       "</table>\n",
       "<p>5 rows × 785 columns</p>\n",
       "</div>"
      ],
      "text/plain": [
       "   label  pixel0  pixel1  pixel2  pixel3  pixel4  pixel5  pixel6  pixel7  \\\n",
       "0      1       0       0       0       0       0       0       0       0   \n",
       "1      0       0       0       0       0       0       0       0       0   \n",
       "2      1       0       0       0       0       0       0       0       0   \n",
       "3      4       0       0       0       0       0       0       0       0   \n",
       "4      0       0       0       0       0       0       0       0       0   \n",
       "\n",
       "   pixel8  ...  pixel774  pixel775  pixel776  pixel777  pixel778  pixel779  \\\n",
       "0       0  ...         0         0         0         0         0         0   \n",
       "1       0  ...         0         0         0         0         0         0   \n",
       "2       0  ...         0         0         0         0         0         0   \n",
       "3       0  ...         0         0         0         0         0         0   \n",
       "4       0  ...         0         0         0         0         0         0   \n",
       "\n",
       "   pixel780  pixel781  pixel782  pixel783  \n",
       "0         0         0         0         0  \n",
       "1         0         0         0         0  \n",
       "2         0         0         0         0  \n",
       "3         0         0         0         0  \n",
       "4         0         0         0         0  \n",
       "\n",
       "[5 rows x 785 columns]"
      ]
     },
     "execution_count": 2,
     "metadata": {},
     "output_type": "execute_result"
    }
   ],
   "source": [
    "trainData.head()"
   ]
  },
  {
   "cell_type": "code",
   "execution_count": 3,
   "id": "71a7fae7",
   "metadata": {
    "execution": {
     "iopub.execute_input": "2024-10-24T21:00:07.108271Z",
     "iopub.status.busy": "2024-10-24T21:00:07.107810Z",
     "iopub.status.idle": "2024-10-24T21:00:07.128741Z",
     "shell.execute_reply": "2024-10-24T21:00:07.127544Z"
    },
    "papermill": {
     "duration": 0.031597,
     "end_time": "2024-10-24T21:00:07.131188",
     "exception": false,
     "start_time": "2024-10-24T21:00:07.099591",
     "status": "completed"
    },
    "tags": []
   },
   "outputs": [
    {
     "data": {
      "text/html": [
       "<div>\n",
       "<style scoped>\n",
       "    .dataframe tbody tr th:only-of-type {\n",
       "        vertical-align: middle;\n",
       "    }\n",
       "\n",
       "    .dataframe tbody tr th {\n",
       "        vertical-align: top;\n",
       "    }\n",
       "\n",
       "    .dataframe thead th {\n",
       "        text-align: right;\n",
       "    }\n",
       "</style>\n",
       "<table border=\"1\" class=\"dataframe\">\n",
       "  <thead>\n",
       "    <tr style=\"text-align: right;\">\n",
       "      <th></th>\n",
       "      <th>pixel0</th>\n",
       "      <th>pixel1</th>\n",
       "      <th>pixel2</th>\n",
       "      <th>pixel3</th>\n",
       "      <th>pixel4</th>\n",
       "      <th>pixel5</th>\n",
       "      <th>pixel6</th>\n",
       "      <th>pixel7</th>\n",
       "      <th>pixel8</th>\n",
       "      <th>pixel9</th>\n",
       "      <th>...</th>\n",
       "      <th>pixel774</th>\n",
       "      <th>pixel775</th>\n",
       "      <th>pixel776</th>\n",
       "      <th>pixel777</th>\n",
       "      <th>pixel778</th>\n",
       "      <th>pixel779</th>\n",
       "      <th>pixel780</th>\n",
       "      <th>pixel781</th>\n",
       "      <th>pixel782</th>\n",
       "      <th>pixel783</th>\n",
       "    </tr>\n",
       "  </thead>\n",
       "  <tbody>\n",
       "    <tr>\n",
       "      <th>0</th>\n",
       "      <td>0</td>\n",
       "      <td>0</td>\n",
       "      <td>0</td>\n",
       "      <td>0</td>\n",
       "      <td>0</td>\n",
       "      <td>0</td>\n",
       "      <td>0</td>\n",
       "      <td>0</td>\n",
       "      <td>0</td>\n",
       "      <td>0</td>\n",
       "      <td>...</td>\n",
       "      <td>0</td>\n",
       "      <td>0</td>\n",
       "      <td>0</td>\n",
       "      <td>0</td>\n",
       "      <td>0</td>\n",
       "      <td>0</td>\n",
       "      <td>0</td>\n",
       "      <td>0</td>\n",
       "      <td>0</td>\n",
       "      <td>0</td>\n",
       "    </tr>\n",
       "    <tr>\n",
       "      <th>1</th>\n",
       "      <td>0</td>\n",
       "      <td>0</td>\n",
       "      <td>0</td>\n",
       "      <td>0</td>\n",
       "      <td>0</td>\n",
       "      <td>0</td>\n",
       "      <td>0</td>\n",
       "      <td>0</td>\n",
       "      <td>0</td>\n",
       "      <td>0</td>\n",
       "      <td>...</td>\n",
       "      <td>0</td>\n",
       "      <td>0</td>\n",
       "      <td>0</td>\n",
       "      <td>0</td>\n",
       "      <td>0</td>\n",
       "      <td>0</td>\n",
       "      <td>0</td>\n",
       "      <td>0</td>\n",
       "      <td>0</td>\n",
       "      <td>0</td>\n",
       "    </tr>\n",
       "    <tr>\n",
       "      <th>2</th>\n",
       "      <td>0</td>\n",
       "      <td>0</td>\n",
       "      <td>0</td>\n",
       "      <td>0</td>\n",
       "      <td>0</td>\n",
       "      <td>0</td>\n",
       "      <td>0</td>\n",
       "      <td>0</td>\n",
       "      <td>0</td>\n",
       "      <td>0</td>\n",
       "      <td>...</td>\n",
       "      <td>0</td>\n",
       "      <td>0</td>\n",
       "      <td>0</td>\n",
       "      <td>0</td>\n",
       "      <td>0</td>\n",
       "      <td>0</td>\n",
       "      <td>0</td>\n",
       "      <td>0</td>\n",
       "      <td>0</td>\n",
       "      <td>0</td>\n",
       "    </tr>\n",
       "    <tr>\n",
       "      <th>3</th>\n",
       "      <td>0</td>\n",
       "      <td>0</td>\n",
       "      <td>0</td>\n",
       "      <td>0</td>\n",
       "      <td>0</td>\n",
       "      <td>0</td>\n",
       "      <td>0</td>\n",
       "      <td>0</td>\n",
       "      <td>0</td>\n",
       "      <td>0</td>\n",
       "      <td>...</td>\n",
       "      <td>0</td>\n",
       "      <td>0</td>\n",
       "      <td>0</td>\n",
       "      <td>0</td>\n",
       "      <td>0</td>\n",
       "      <td>0</td>\n",
       "      <td>0</td>\n",
       "      <td>0</td>\n",
       "      <td>0</td>\n",
       "      <td>0</td>\n",
       "    </tr>\n",
       "    <tr>\n",
       "      <th>4</th>\n",
       "      <td>0</td>\n",
       "      <td>0</td>\n",
       "      <td>0</td>\n",
       "      <td>0</td>\n",
       "      <td>0</td>\n",
       "      <td>0</td>\n",
       "      <td>0</td>\n",
       "      <td>0</td>\n",
       "      <td>0</td>\n",
       "      <td>0</td>\n",
       "      <td>...</td>\n",
       "      <td>0</td>\n",
       "      <td>0</td>\n",
       "      <td>0</td>\n",
       "      <td>0</td>\n",
       "      <td>0</td>\n",
       "      <td>0</td>\n",
       "      <td>0</td>\n",
       "      <td>0</td>\n",
       "      <td>0</td>\n",
       "      <td>0</td>\n",
       "    </tr>\n",
       "  </tbody>\n",
       "</table>\n",
       "<p>5 rows × 784 columns</p>\n",
       "</div>"
      ],
      "text/plain": [
       "   pixel0  pixel1  pixel2  pixel3  pixel4  pixel5  pixel6  pixel7  pixel8  \\\n",
       "0       0       0       0       0       0       0       0       0       0   \n",
       "1       0       0       0       0       0       0       0       0       0   \n",
       "2       0       0       0       0       0       0       0       0       0   \n",
       "3       0       0       0       0       0       0       0       0       0   \n",
       "4       0       0       0       0       0       0       0       0       0   \n",
       "\n",
       "   pixel9  ...  pixel774  pixel775  pixel776  pixel777  pixel778  pixel779  \\\n",
       "0       0  ...         0         0         0         0         0         0   \n",
       "1       0  ...         0         0         0         0         0         0   \n",
       "2       0  ...         0         0         0         0         0         0   \n",
       "3       0  ...         0         0         0         0         0         0   \n",
       "4       0  ...         0         0         0         0         0         0   \n",
       "\n",
       "   pixel780  pixel781  pixel782  pixel783  \n",
       "0         0         0         0         0  \n",
       "1         0         0         0         0  \n",
       "2         0         0         0         0  \n",
       "3         0         0         0         0  \n",
       "4         0         0         0         0  \n",
       "\n",
       "[5 rows x 784 columns]"
      ]
     },
     "execution_count": 3,
     "metadata": {},
     "output_type": "execute_result"
    }
   ],
   "source": [
    "testData.head()"
   ]
  },
  {
   "cell_type": "markdown",
   "id": "1426cc8c",
   "metadata": {
    "papermill": {
     "duration": 0.006957,
     "end_time": "2024-10-24T21:00:07.145608",
     "exception": false,
     "start_time": "2024-10-24T21:00:07.138651",
     "status": "completed"
    },
    "tags": []
   },
   "source": [
    "Here, we see that the test dataset is only useful for the competition organizers, but we cannot use it due to the absence of a \"label\" column. To address this, I will split the training dataset into training and testing portions."
   ]
  },
  {
   "cell_type": "markdown",
   "id": "451c744a",
   "metadata": {
    "papermill": {
     "duration": 0.006862,
     "end_time": "2024-10-24T21:00:07.160078",
     "exception": false,
     "start_time": "2024-10-24T21:00:07.153216",
     "status": "completed"
    },
    "tags": []
   },
   "source": [
    "Firstly some function to import the datasets. getTestDataset can be used for a competition submission."
   ]
  },
  {
   "cell_type": "code",
   "execution_count": 4,
   "id": "17e61196",
   "metadata": {
    "execution": {
     "iopub.execute_input": "2024-10-24T21:00:07.176402Z",
     "iopub.status.busy": "2024-10-24T21:00:07.175965Z",
     "iopub.status.idle": "2024-10-24T21:00:07.185041Z",
     "shell.execute_reply": "2024-10-24T21:00:07.183763Z"
    },
    "papermill": {
     "duration": 0.020366,
     "end_time": "2024-10-24T21:00:07.187657",
     "exception": false,
     "start_time": "2024-10-24T21:00:07.167291",
     "status": "completed"
    },
    "tags": []
   },
   "outputs": [],
   "source": [
    "def getDataset(filePath):\n",
    "    trainData = pd.read_csv('/kaggle/input/digit-recognizer/train.csv')\n",
    "    trainData = np.array(trainData)\n",
    "    rows, columns = trainData.shape\n",
    "    np.random.shuffle(trainData)\n",
    "\n",
    "    testData = trainData[0:2000].T\n",
    "    testLabels = testData[0]\n",
    "    testPixels = testData[1:columns + 1]\n",
    "    testPixels = testPixels / 255\n",
    "\n",
    "    trainData = trainData[2000:rows].T\n",
    "    trainLabels = trainData[0]\n",
    "    trainPixels = trainData[1:columns + 1]\n",
    "    trainPixels = trainPixels / 255\n",
    "\n",
    "    return trainLabels, trainPixels, testLabels, testPixels\n",
    "\n",
    "def getTestDataset(filePath):\n",
    "    testData = pd.read_csv('/kaggle/input/digit-recognizer/test.csv')\n",
    "    testPixels = np.array(testData).T\n",
    "    testPixels = testPixels / 255\n",
    "\n",
    "    return testPixels"
   ]
  },
  {
   "cell_type": "markdown",
   "id": "59c4535b",
   "metadata": {
    "papermill": {
     "duration": 0.006861,
     "end_time": "2024-10-24T21:00:07.201894",
     "exception": false,
     "start_time": "2024-10-24T21:00:07.195033",
     "status": "completed"
    },
    "tags": []
   },
   "source": [
    "Now, a function to initialize the network's parameters in a random state"
   ]
  },
  {
   "cell_type": "code",
   "execution_count": 5,
   "id": "5e1391d7",
   "metadata": {
    "execution": {
     "iopub.execute_input": "2024-10-24T21:00:07.219705Z",
     "iopub.status.busy": "2024-10-24T21:00:07.218759Z",
     "iopub.status.idle": "2024-10-24T21:00:07.226312Z",
     "shell.execute_reply": "2024-10-24T21:00:07.224944Z"
    },
    "papermill": {
     "duration": 0.018826,
     "end_time": "2024-10-24T21:00:07.228878",
     "exception": false,
     "start_time": "2024-10-24T21:00:07.210052",
     "status": "completed"
    },
    "tags": []
   },
   "outputs": [],
   "source": [
    "def initParams(layerSizes):\n",
    "    params = {}\n",
    "    numberOfLayers = len(layerSizes) - 1\n",
    "    for l in range(1, numberOfLayers + 1):\n",
    "        params[f\"W{l}\"] = np.random.rand(layerSizes[l], layerSizes[l - 1]) - 0.5\n",
    "        params[f\"b{l}\"] = np.random.rand(layerSizes[l], 1) - 0.5\n",
    "    return params"
   ]
  },
  {
   "cell_type": "markdown",
   "id": "d3a1f5e9",
   "metadata": {
    "papermill": {
     "duration": 0.007155,
     "end_time": "2024-10-24T21:00:07.243486",
     "exception": false,
     "start_time": "2024-10-24T21:00:07.236331",
     "status": "completed"
    },
    "tags": []
   },
   "source": [
    "Now, some basic functions that will be used in backward and forward propagation"
   ]
  },
  {
   "cell_type": "code",
   "execution_count": 6,
   "id": "1f83a493",
   "metadata": {
    "execution": {
     "iopub.execute_input": "2024-10-24T21:00:07.260057Z",
     "iopub.status.busy": "2024-10-24T21:00:07.259606Z",
     "iopub.status.idle": "2024-10-24T21:00:07.267699Z",
     "shell.execute_reply": "2024-10-24T21:00:07.266355Z"
    },
    "papermill": {
     "duration": 0.019404,
     "end_time": "2024-10-24T21:00:07.270385",
     "exception": false,
     "start_time": "2024-10-24T21:00:07.250981",
     "status": "completed"
    },
    "tags": []
   },
   "outputs": [],
   "source": [
    "def ReLU(Z):\n",
    "    return np.maximum(Z, 0)\n",
    "\n",
    "def softmax(Z):\n",
    "    A = np.exp(Z) / np.sum(np.exp(Z), axis=0)\n",
    "    return A\n",
    "\n",
    "def ReluDeriv(Z):\n",
    "    return Z > 0\n",
    "\n",
    "def desiredOutputs(Y):\n",
    "    desiredOut = np.zeros((Y.size, Y.max() + 1))\n",
    "    desiredOut[np.arange(Y.size), Y] = 1\n",
    "    desiredOut = desiredOut.T\n",
    "    return desiredOut"
   ]
  },
  {
   "cell_type": "markdown",
   "id": "44c45e05",
   "metadata": {
    "papermill": {
     "duration": 0.00692,
     "end_time": "2024-10-24T21:00:07.284630",
     "exception": false,
     "start_time": "2024-10-24T21:00:07.277710",
     "status": "completed"
    },
    "tags": []
   },
   "source": [
    "Now, the forward and backward propagation algorithms"
   ]
  },
  {
   "cell_type": "code",
   "execution_count": 7,
   "id": "41593a1f",
   "metadata": {
    "execution": {
     "iopub.execute_input": "2024-10-24T21:00:07.301431Z",
     "iopub.status.busy": "2024-10-24T21:00:07.300984Z",
     "iopub.status.idle": "2024-10-24T21:00:07.316430Z",
     "shell.execute_reply": "2024-10-24T21:00:07.315204Z"
    },
    "papermill": {
     "duration": 0.027539,
     "end_time": "2024-10-24T21:00:07.319545",
     "exception": false,
     "start_time": "2024-10-24T21:00:07.292006",
     "status": "completed"
    },
    "tags": []
   },
   "outputs": [],
   "source": [
    "def forwardProp(pixels, params, numberOfLayers):\n",
    "    cache = {\"A0\": pixels}\n",
    "    A_prev = pixels\n",
    "\n",
    "    for l in range(1, numberOfLayers):\n",
    "        Z = params[f\"W{l}\"].dot(A_prev) + params[f\"b{l}\"]\n",
    "        A = ReLU(Z)\n",
    "        cache[f\"Z{l}\"] = Z\n",
    "        cache[f\"A{l}\"] = A\n",
    "        A_prev = A\n",
    "\n",
    "    ZL = params[f\"W{numberOfLayers}\"].dot(A_prev) + params[f\"b{numberOfLayers}\"]\n",
    "    AL = softmax(ZL)\n",
    "    cache[f\"Z{numberOfLayers}\"] = ZL\n",
    "    cache[f\"A{numberOfLayers}\"] = AL\n",
    "    return cache\n",
    "\n",
    "def backwardProp(params, cache, pixels, labels, numberOfLayers):\n",
    "    grads = {}\n",
    "    desiredOut = desiredOutputs(labels)\n",
    "    AL = cache[f\"A{numberOfLayers}\"]\n",
    "\n",
    "    dZL = AL - desiredOut\n",
    "    grads[f\"dW{numberOfLayers}\"] = 1 / pixels.shape[1] * dZL.dot(cache[f\"A{numberOfLayers - 1}\"].T)\n",
    "    grads[f\"db{numberOfLayers}\"] = 1 / pixels.shape[1] * np.sum(dZL, axis=1, keepdims=True)\n",
    "\n",
    "    dA_prev = params[f\"W{numberOfLayers}\"].T.dot(dZL)\n",
    "\n",
    "    for l in range(numberOfLayers - 1, 0, -1):\n",
    "        dZ = dA_prev * ReluDeriv(cache[f\"Z{l}\"])\n",
    "        grads[f\"dW{l}\"] = 1 / pixels.shape[1] * dZ.dot(cache[f\"A{l - 1}\"].T)\n",
    "        grads[f\"db{l}\"] = 1 / pixels.shape[1] * np.sum(dZ, axis=1, keepdims=True)\n",
    "        dA_prev = params[f\"W{l}\"].T.dot(dZ)\n",
    "\n",
    "    return grads\n",
    "\n",
    "def updateParams(params, grads, alpha, numberOfLayers):\n",
    "    for l in range(1, numberOfLayers + 1):\n",
    "        params[f\"W{l}\"] -= alpha * grads[f\"dW{l}\"]\n",
    "        params[f\"b{l}\"] -= alpha * grads[f\"db{l}\"]\n",
    "    return params"
   ]
  },
  {
   "cell_type": "markdown",
   "id": "7df38c6e",
   "metadata": {
    "papermill": {
     "duration": 0.006799,
     "end_time": "2024-10-24T21:00:07.333718",
     "exception": false,
     "start_time": "2024-10-24T21:00:07.326919",
     "status": "completed"
    },
    "tags": []
   },
   "source": [
    "Now, some functions to evaluate results"
   ]
  },
  {
   "cell_type": "code",
   "execution_count": 8,
   "id": "318b5a7a",
   "metadata": {
    "execution": {
     "iopub.execute_input": "2024-10-24T21:00:07.350617Z",
     "iopub.status.busy": "2024-10-24T21:00:07.349770Z",
     "iopub.status.idle": "2024-10-24T21:00:07.360006Z",
     "shell.execute_reply": "2024-10-24T21:00:07.358669Z"
    },
    "papermill": {
     "duration": 0.021552,
     "end_time": "2024-10-24T21:00:07.362418",
     "exception": false,
     "start_time": "2024-10-24T21:00:07.340866",
     "status": "completed"
    },
    "tags": []
   },
   "outputs": [],
   "source": [
    "def getPredictions(AL):\n",
    "    return np.argmax(AL, 0)\n",
    "\n",
    "def getAccuracy(predictions, Y):\n",
    "    return np.sum(predictions == Y) / Y.size\n",
    "\n",
    "def makePredictions(pixels, params, layerSizes):\n",
    "    numberOfLayers = len(layerSizes) - 1\n",
    "    cache = forwardProp(pixels, params, numberOfLayers)\n",
    "    predictions = getPredictions(cache[f\"A{numberOfLayers}\"])\n",
    "    return predictions\n",
    "\n",
    "def testPrediction(trainLabels, trainPixels, index, params, layerSizes):\n",
    "    current_image = trainPixels[:, index, None]\n",
    "    prediction = makePredictions(trainPixels[:, index, None], params, layerSizes)\n",
    "    label = trainLabels[index]\n",
    "    print(\"Prediction: \", prediction)\n",
    "    print(\"Label: \", label)\n",
    "\n",
    "    current_image = current_image.reshape((28, 28)) * 255\n",
    "    plt.gray()\n",
    "    plt.imshow(current_image, interpolation='nearest')\n",
    "    plt.show()"
   ]
  },
  {
   "cell_type": "markdown",
   "id": "01f7fc9b",
   "metadata": {
    "papermill": {
     "duration": 0.006827,
     "end_time": "2024-10-24T21:00:07.376388",
     "exception": false,
     "start_time": "2024-10-24T21:00:07.369561",
     "status": "completed"
    },
    "tags": []
   },
   "source": [
    "Finally, the gradient descent function to train the network."
   ]
  },
  {
   "cell_type": "code",
   "execution_count": 9,
   "id": "410deff4",
   "metadata": {
    "execution": {
     "iopub.execute_input": "2024-10-24T21:00:07.392964Z",
     "iopub.status.busy": "2024-10-24T21:00:07.392530Z",
     "iopub.status.idle": "2024-10-24T21:00:07.402396Z",
     "shell.execute_reply": "2024-10-24T21:00:07.401045Z"
    },
    "papermill": {
     "duration": 0.021551,
     "end_time": "2024-10-24T21:00:07.405126",
     "exception": false,
     "start_time": "2024-10-24T21:00:07.383575",
     "status": "completed"
    },
    "tags": []
   },
   "outputs": [],
   "source": [
    "def gradientDescent(X,Y, alpha, iterations, layerSizes):\n",
    "\n",
    "    numberOfLayers = len(layerSizes) - 1\n",
    "    params = initParams(layerSizes)\n",
    "\n",
    "    iteration = []\n",
    "    accuracy = []\n",
    "\n",
    "    for i in range(iterations):\n",
    "        cache = forwardProp(X, params, numberOfLayers)\n",
    "        grads = backwardProp(params, cache,X, Y, numberOfLayers)\n",
    "        params = updateParams(params, grads, alpha, numberOfLayers)\n",
    "\n",
    "        if i % 10 == 0:\n",
    "            AL = cache[f\"A{numberOfLayers}\"]\n",
    "            predictions = getPredictions(AL)\n",
    "            print(f\"Iteration: {i}, Accuracy: {getAccuracy(predictions, Y)}\")\n",
    "            iteration.append(i)\n",
    "            accuracy.append(getAccuracy(predictions, Y))\n",
    "\n",
    "    return params, iteration, accuracy"
   ]
  },
  {
   "cell_type": "markdown",
   "id": "43511172",
   "metadata": {
    "papermill": {
     "duration": 0.006975,
     "end_time": "2024-10-24T21:00:07.419337",
     "exception": false,
     "start_time": "2024-10-24T21:00:07.412362",
     "status": "completed"
    },
    "tags": []
   },
   "source": [
    "The neural network can now be created, trained and tested"
   ]
  },
  {
   "cell_type": "code",
   "execution_count": 10,
   "id": "373dbc7c",
   "metadata": {
    "execution": {
     "iopub.execute_input": "2024-10-24T21:00:07.435485Z",
     "iopub.status.busy": "2024-10-24T21:00:07.435013Z",
     "iopub.status.idle": "2024-10-24T21:02:18.013315Z",
     "shell.execute_reply": "2024-10-24T21:02:18.012077Z"
    },
    "papermill": {
     "duration": 130.589601,
     "end_time": "2024-10-24T21:02:18.016074",
     "exception": false,
     "start_time": "2024-10-24T21:00:07.426473",
     "status": "completed"
    },
    "tags": []
   },
   "outputs": [
    {
     "name": "stdout",
     "output_type": "stream",
     "text": [
      "Iteration: 0, Accuracy: 0.107525\n",
      "Iteration: 10, Accuracy: 0.162825\n",
      "Iteration: 20, Accuracy: 0.2261\n",
      "Iteration: 30, Accuracy: 0.296625\n",
      "Iteration: 40, Accuracy: 0.3572\n",
      "Iteration: 50, Accuracy: 0.410025\n",
      "Iteration: 60, Accuracy: 0.4572\n",
      "Iteration: 70, Accuracy: 0.500125\n",
      "Iteration: 80, Accuracy: 0.535275\n",
      "Iteration: 90, Accuracy: 0.564925\n",
      "Iteration: 100, Accuracy: 0.5908\n",
      "Iteration: 110, Accuracy: 0.61305\n",
      "Iteration: 120, Accuracy: 0.63145\n",
      "Iteration: 130, Accuracy: 0.64855\n",
      "Iteration: 140, Accuracy: 0.66395\n",
      "Iteration: 150, Accuracy: 0.6767\n",
      "Iteration: 160, Accuracy: 0.687775\n",
      "Iteration: 170, Accuracy: 0.697775\n",
      "Iteration: 180, Accuracy: 0.7065\n",
      "Iteration: 190, Accuracy: 0.714\n",
      "Iteration: 200, Accuracy: 0.721025\n",
      "Iteration: 210, Accuracy: 0.7269\n",
      "Iteration: 220, Accuracy: 0.732575\n",
      "Iteration: 230, Accuracy: 0.7388\n",
      "Iteration: 240, Accuracy: 0.7439\n",
      "Iteration: 250, Accuracy: 0.749475\n",
      "Iteration: 260, Accuracy: 0.753925\n",
      "Iteration: 270, Accuracy: 0.758575\n",
      "Iteration: 280, Accuracy: 0.7632\n",
      "Iteration: 290, Accuracy: 0.766475\n",
      "Iteration: 300, Accuracy: 0.770075\n",
      "Iteration: 310, Accuracy: 0.773225\n",
      "Iteration: 320, Accuracy: 0.77715\n",
      "Iteration: 330, Accuracy: 0.780475\n",
      "Iteration: 340, Accuracy: 0.783875\n",
      "Iteration: 350, Accuracy: 0.7868\n",
      "Iteration: 360, Accuracy: 0.790025\n",
      "Iteration: 370, Accuracy: 0.79305\n",
      "Iteration: 380, Accuracy: 0.7956\n",
      "Iteration: 390, Accuracy: 0.798275\n",
      "Iteration: 400, Accuracy: 0.801225\n",
      "Iteration: 410, Accuracy: 0.803325\n",
      "Iteration: 420, Accuracy: 0.805925\n",
      "Iteration: 430, Accuracy: 0.8078\n",
      "Iteration: 440, Accuracy: 0.81045\n",
      "Iteration: 450, Accuracy: 0.81235\n",
      "Iteration: 460, Accuracy: 0.8144\n",
      "Iteration: 470, Accuracy: 0.8164\n",
      "Iteration: 480, Accuracy: 0.818125\n",
      "Iteration: 490, Accuracy: 0.819825\n"
     ]
    },
    {
     "data": {
      "image/png": "[encoded data removed]",
      "text/plain": [
       "<Figure size 640x480 with 1 Axes>"
      ]
     },
     "metadata": {},
     "output_type": "display_data"
    }
   ],
   "source": [
    "layerSizes = [784, 10, 10]\n",
    "\n",
    "trainLabels, trainPixels, testLabels, testPixels = getDataset(\"train.csv\")\n",
    "params, iteration, accuracy = gradientDescent(trainPixels,trainLabels, 0.10, 500, layerSizes)\n",
    "params['layerSizes'] = layerSizes\n",
    "\n",
    "plt.plot(iteration, accuracy, marker='o', color='b')\n",
    "plt.xlabel('Iterations')\n",
    "plt.ylabel('Accuracy')\n",
    "plt.title('Accuracy vs Iterations')\n",
    "plt.show()"
   ]
  },
  {
   "cell_type": "code",
   "execution_count": 11,
   "id": "196327f4",
   "metadata": {
    "execution": {
     "iopub.execute_input": "2024-10-24T21:02:18.042755Z",
     "iopub.status.busy": "2024-10-24T21:02:18.042335Z",
     "iopub.status.idle": "2024-10-24T21:02:18.304320Z",
     "shell.execute_reply": "2024-10-24T21:02:18.300824Z"
    },
    "papermill": {
     "duration": 0.280329,
     "end_time": "2024-10-24T21:02:18.308885",
     "exception": false,
     "start_time": "2024-10-24T21:02:18.028556",
     "status": "completed"
    },
    "tags": []
   },
   "outputs": [
    {
     "name": "stdout",
     "output_type": "stream",
     "text": [
      "Prediction:  [5]\n",
      "Label:  5\n"
     ]
    },
    {
     "data": {
      "image/png": "[encoded data removed]",
      "text/plain": [
       "<Figure size 640x480 with 1 Axes>"
      ]
     },
     "metadata": {},
     "output_type": "display_data"
    },
    {
     "name": "stdout",
     "output_type": "stream",
     "text": [
      "model accuracy : 0.8165\n"
     ]
    }
   ],
   "source": [
    "testPrediction(trainLabels, trainPixels, 100, params, params['layerSizes'])\n",
    "\n",
    "testResults = makePredictions(testPixels, params, params['layerSizes'])\n",
    "print(f\"model accuracy : {getAccuracy(testResults, testLabels)}\")"
   ]
  }
 ],
 "metadata": {
  "kaggle": {
   "accelerator": "none",
   "dataSources": [
    {
     "databundleVersionId": 861823,
     "sourceId": 3004,
     "sourceType": "competition"
    }
   ],
   "dockerImageVersionId": 30786,
   "isGpuEnabled": false,
   "isInternetEnabled": false,
   "language": "python",
   "sourceType": "notebook"
  },
  "kernelspec": {
   "display_name": "Python 3",
   "language": "python",
   "name": "python3"
  },
  "language_info": {
   "codemirror_mode": {
    "name": "ipython",
    "version": 3
   },
   "file_extension": ".py",
   "mimetype": "text/x-python",
   "name": "python",
   "nbconvert_exporter": "python",
   "pygments_lexer": "ipython3",
   "version": "3.10.14"
  },
  "papermill": {
   "default_parameters": {},
   "duration": 142.96732,
   "end_time": "2024-10-24T21:02:18.861667",
   "environment_variables": {},
   "exception": null,
   "input_path": "__notebook__.ipynb",
   "output_path": "__notebook__.ipynb",
   "parameters": {},
   "start_time": "2024-10-24T20:59:55.894347",
   "version": "2.6.0"
  }
 },
 "nbformat": 4,
 "nbformat_minor": 5
}
