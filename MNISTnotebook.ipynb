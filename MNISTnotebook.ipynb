{
 "cells": [
  {
   "cell_type": "code",
   "execution_count": 1,
   "id": "80698de7",
   "metadata": {
    "_cell_guid": "b1076dfc-b9ad-4769-8c92-a6c4dae69d19",
    "_uuid": "8f2839f25d086af736a60e9eeb907d3b93b6e0e5",
    "execution": {
     "iopub.execute_input": "2024-10-23T13:10:19.204949Z",
     "iopub.status.busy": "2024-10-23T13:10:19.204405Z",
     "iopub.status.idle": "2024-10-23T13:10:25.718301Z",
     "shell.execute_reply": "2024-10-23T13:10:25.717096Z"
    },
    "papermill": {
     "duration": 6.523551,
     "end_time": "2024-10-23T13:10:25.720913",
     "exception": false,
     "start_time": "2024-10-23T13:10:19.197362",
     "status": "completed"
    },
    "tags": []
   },
   "outputs": [],
   "source": [
    "import numpy as np\n",
    "import pandas as pd\n",
    "from matplotlib import pyplot as plt\n",
    "\n",
    "trainData = pd.read_csv('/kaggle/input/digit-recognizer/train.csv')\n",
    "testData = pd.read_csv('/kaggle/input/digit-recognizer/test.csv')"
   ]
  },
  {
   "cell_type": "code",
   "execution_count": 2,
   "id": "34c2c792",
   "metadata": {
    "execution": {
     "iopub.execute_input": "2024-10-23T13:10:25.732743Z",
     "iopub.status.busy": "2024-10-23T13:10:25.731901Z",
     "iopub.status.idle": "2024-10-23T13:10:25.760558Z",
     "shell.execute_reply": "2024-10-23T13:10:25.759388Z"
    },
    "papermill": {
     "duration": 0.037243,
     "end_time": "2024-10-23T13:10:25.763112",
     "exception": false,
     "start_time": "2024-10-23T13:10:25.725869",
     "status": "completed"
    },
    "tags": []
   },
   "outputs": [
    {
     "data": {
      "text/html": [
       "<div>\n",
       "<style scoped>\n",
       "    .dataframe tbody tr th:only-of-type {\n",
       "        vertical-align: middle;\n",
       "    }\n",
       "\n",
       "    .dataframe tbody tr th {\n",
       "        vertical-align: top;\n",
       "    }\n",
       "\n",
       "    .dataframe thead th {\n",
       "        text-align: right;\n",
       "    }\n",
       "</style>\n",
       "<table border=\"1\" class=\"dataframe\">\n",
       "  <thead>\n",
       "    <tr style=\"text-align: right;\">\n",
       "      <th></th>\n",
       "      <th>label</th>\n",
       "      <th>pixel0</th>\n",
       "      <th>pixel1</th>\n",
       "      <th>pixel2</th>\n",
       "      <th>pixel3</th>\n",
       "      <th>pixel4</th>\n",
       "      <th>pixel5</th>\n",
       "      <th>pixel6</th>\n",
       "      <th>pixel7</th>\n",
       "      <th>pixel8</th>\n",
       "      <th>...</th>\n",
       "      <th>pixel774</th>\n",
       "      <th>pixel775</th>\n",
       "      <th>pixel776</th>\n",
       "      <th>pixel777</th>\n",
       "      <th>pixel778</th>\n",
       "      <th>pixel779</th>\n",
       "      <th>pixel780</th>\n",
       "      <th>pixel781</th>\n",
       "      <th>pixel782</th>\n",
       "      <th>pixel783</th>\n",
       "    </tr>\n",
       "  </thead>\n",
       "  <tbody>\n",
       "    <tr>\n",
       "      <th>0</th>\n",
       "      <td>1</td>\n",
       "      <td>0</td>\n",
       "      <td>0</td>\n",
       "      <td>0</td>\n",
       "      <td>0</td>\n",
       "      <td>0</td>\n",
       "      <td>0</td>\n",
       "      <td>0</td>\n",
       "      <td>0</td>\n",
       "      <td>0</td>\n",
       "      <td>...</td>\n",
       "      <td>0</td>\n",
       "      <td>0</td>\n",
       "      <td>0</td>\n",
       "      <td>0</td>\n",
       "      <td>0</td>\n",
       "      <td>0</td>\n",
       "      <td>0</td>\n",
       "      <td>0</td>\n",
       "      <td>0</td>\n",
       "      <td>0</td>\n",
       "    </tr>\n",
       "    <tr>\n",
       "      <th>1</th>\n",
       "      <td>0</td>\n",
       "      <td>0</td>\n",
       "      <td>0</td>\n",
       "      <td>0</td>\n",
       "      <td>0</td>\n",
       "      <td>0</td>\n",
       "      <td>0</td>\n",
       "      <td>0</td>\n",
       "      <td>0</td>\n",
       "      <td>0</td>\n",
       "      <td>...</td>\n",
       "      <td>0</td>\n",
       "      <td>0</td>\n",
       "      <td>0</td>\n",
       "      <td>0</td>\n",
       "      <td>0</td>\n",
       "      <td>0</td>\n",
       "      <td>0</td>\n",
       "      <td>0</td>\n",
       "      <td>0</td>\n",
       "      <td>0</td>\n",
       "    </tr>\n",
       "    <tr>\n",
       "      <th>2</th>\n",
       "      <td>1</td>\n",
       "      <td>0</td>\n",
       "      <td>0</td>\n",
       "      <td>0</td>\n",
       "      <td>0</td>\n",
       "      <td>0</td>\n",
       "      <td>0</td>\n",
       "      <td>0</td>\n",
       "      <td>0</td>\n",
       "      <td>0</td>\n",
       "      <td>...</td>\n",
       "      <td>0</td>\n",
       "      <td>0</td>\n",
       "      <td>0</td>\n",
       "      <td>0</td>\n",
       "      <td>0</td>\n",
       "      <td>0</td>\n",
       "      <td>0</td>\n",
       "      <td>0</td>\n",
       "      <td>0</td>\n",
       "      <td>0</td>\n",
       "    </tr>\n",
       "    <tr>\n",
       "      <th>3</th>\n",
       "      <td>4</td>\n",
       "      <td>0</td>\n",
       "      <td>0</td>\n",
       "      <td>0</td>\n",
       "      <td>0</td>\n",
       "      <td>0</td>\n",
       "      <td>0</td>\n",
       "      <td>0</td>\n",
       "      <td>0</td>\n",
       "      <td>0</td>\n",
       "      <td>...</td>\n",
       "      <td>0</td>\n",
       "      <td>0</td>\n",
       "      <td>0</td>\n",
       "      <td>0</td>\n",
       "      <td>0</td>\n",
       "      <td>0</td>\n",
       "      <td>0</td>\n",
       "      <td>0</td>\n",
       "      <td>0</td>\n",
       "      <td>0</td>\n",
       "    </tr>\n",
       "    <tr>\n",
       "      <th>4</th>\n",
       "      <td>0</td>\n",
       "      <td>0</td>\n",
       "      <td>0</td>\n",
       "      <td>0</td>\n",
       "      <td>0</td>\n",
       "      <td>0</td>\n",
       "      <td>0</td>\n",
       "      <td>0</td>\n",
       "      <td>0</td>\n",
       "      <td>0</td>\n",
       "      <td>...</td>\n",
       "      <td>0</td>\n",
       "      <td>0</td>\n",
       "      <td>0</td>\n",
       "      <td>0</td>\n",
       "      <td>0</td>\n",
       "      <td>0</td>\n",
       "      <td>0</td>\n",
       "      <td>0</td>\n",
       "      <td>0</td>\n",
       "      <td>0</td>\n",
       "    </tr>\n",
       "  </tbody>\n",
       "</table>\n",
       "<p>5 rows × 785 columns</p>\n",
       "</div>"
      ],
      "text/plain": [
       "   label  pixel0  pixel1  pixel2  pixel3  pixel4  pixel5  pixel6  pixel7  \\\n",
       "0      1       0       0       0       0       0       0       0       0   \n",
       "1      0       0       0       0       0       0       0       0       0   \n",
       "2      1       0       0       0       0       0       0       0       0   \n",
       "3      4       0       0       0       0       0       0       0       0   \n",
       "4      0       0       0       0       0       0       0       0       0   \n",
       "\n",
       "   pixel8  ...  pixel774  pixel775  pixel776  pixel777  pixel778  pixel779  \\\n",
       "0       0  ...         0         0         0         0         0         0   \n",
       "1       0  ...         0         0         0         0         0         0   \n",
       "2       0  ...         0         0         0         0         0         0   \n",
       "3       0  ...         0         0         0         0         0         0   \n",
       "4       0  ...         0         0         0         0         0         0   \n",
       "\n",
       "   pixel780  pixel781  pixel782  pixel783  \n",
       "0         0         0         0         0  \n",
       "1         0         0         0         0  \n",
       "2         0         0         0         0  \n",
       "3         0         0         0         0  \n",
       "4         0         0         0         0  \n",
       "\n",
       "[5 rows x 785 columns]"
      ]
     },
     "execution_count": 2,
     "metadata": {},
     "output_type": "execute_result"
    }
   ],
   "source": [
    "trainData.head()"
   ]
  },
  {
   "cell_type": "code",
   "execution_count": 3,
   "id": "f243792c",
   "metadata": {
    "execution": {
     "iopub.execute_input": "2024-10-23T13:10:25.775232Z",
     "iopub.status.busy": "2024-10-23T13:10:25.774780Z",
     "iopub.status.idle": "2024-10-23T13:10:25.793304Z",
     "shell.execute_reply": "2024-10-23T13:10:25.792016Z"
    },
    "papermill": {
     "duration": 0.027424,
     "end_time": "2024-10-23T13:10:25.795913",
     "exception": false,
     "start_time": "2024-10-23T13:10:25.768489",
     "status": "completed"
    },
    "tags": []
   },
   "outputs": [
    {
     "data": {
      "text/html": [
       "<div>\n",
       "<style scoped>\n",
       "    .dataframe tbody tr th:only-of-type {\n",
       "        vertical-align: middle;\n",
       "    }\n",
       "\n",
       "    .dataframe tbody tr th {\n",
       "        vertical-align: top;\n",
       "    }\n",
       "\n",
       "    .dataframe thead th {\n",
       "        text-align: right;\n",
       "    }\n",
       "</style>\n",
       "<table border=\"1\" class=\"dataframe\">\n",
       "  <thead>\n",
       "    <tr style=\"text-align: right;\">\n",
       "      <th></th>\n",
       "      <th>pixel0</th>\n",
       "      <th>pixel1</th>\n",
       "      <th>pixel2</th>\n",
       "      <th>pixel3</th>\n",
       "      <th>pixel4</th>\n",
       "      <th>pixel5</th>\n",
       "      <th>pixel6</th>\n",
       "      <th>pixel7</th>\n",
       "      <th>pixel8</th>\n",
       "      <th>pixel9</th>\n",
       "      <th>...</th>\n",
       "      <th>pixel774</th>\n",
       "      <th>pixel775</th>\n",
       "      <th>pixel776</th>\n",
       "      <th>pixel777</th>\n",
       "      <th>pixel778</th>\n",
       "      <th>pixel779</th>\n",
       "      <th>pixel780</th>\n",
       "      <th>pixel781</th>\n",
       "      <th>pixel782</th>\n",
       "      <th>pixel783</th>\n",
       "    </tr>\n",
       "  </thead>\n",
       "  <tbody>\n",
       "    <tr>\n",
       "      <th>0</th>\n",
       "      <td>0</td>\n",
       "      <td>0</td>\n",
       "      <td>0</td>\n",
       "      <td>0</td>\n",
       "      <td>0</td>\n",
       "      <td>0</td>\n",
       "      <td>0</td>\n",
       "      <td>0</td>\n",
       "      <td>0</td>\n",
       "      <td>0</td>\n",
       "      <td>...</td>\n",
       "      <td>0</td>\n",
       "      <td>0</td>\n",
       "      <td>0</td>\n",
       "      <td>0</td>\n",
       "      <td>0</td>\n",
       "      <td>0</td>\n",
       "      <td>0</td>\n",
       "      <td>0</td>\n",
       "      <td>0</td>\n",
       "      <td>0</td>\n",
       "    </tr>\n",
       "    <tr>\n",
       "      <th>1</th>\n",
       "      <td>0</td>\n",
       "      <td>0</td>\n",
       "      <td>0</td>\n",
       "      <td>0</td>\n",
       "      <td>0</td>\n",
       "      <td>0</td>\n",
       "      <td>0</td>\n",
       "      <td>0</td>\n",
       "      <td>0</td>\n",
       "      <td>0</td>\n",
       "      <td>...</td>\n",
       "      <td>0</td>\n",
       "      <td>0</td>\n",
       "      <td>0</td>\n",
       "      <td>0</td>\n",
       "      <td>0</td>\n",
       "      <td>0</td>\n",
       "      <td>0</td>\n",
       "      <td>0</td>\n",
       "      <td>0</td>\n",
       "      <td>0</td>\n",
       "    </tr>\n",
       "    <tr>\n",
       "      <th>2</th>\n",
       "      <td>0</td>\n",
       "      <td>0</td>\n",
       "      <td>0</td>\n",
       "      <td>0</td>\n",
       "      <td>0</td>\n",
       "      <td>0</td>\n",
       "      <td>0</td>\n",
       "      <td>0</td>\n",
       "      <td>0</td>\n",
       "      <td>0</td>\n",
       "      <td>...</td>\n",
       "      <td>0</td>\n",
       "      <td>0</td>\n",
       "      <td>0</td>\n",
       "      <td>0</td>\n",
       "      <td>0</td>\n",
       "      <td>0</td>\n",
       "      <td>0</td>\n",
       "      <td>0</td>\n",
       "      <td>0</td>\n",
       "      <td>0</td>\n",
       "    </tr>\n",
       "    <tr>\n",
       "      <th>3</th>\n",
       "      <td>0</td>\n",
       "      <td>0</td>\n",
       "      <td>0</td>\n",
       "      <td>0</td>\n",
       "      <td>0</td>\n",
       "      <td>0</td>\n",
       "      <td>0</td>\n",
       "      <td>0</td>\n",
       "      <td>0</td>\n",
       "      <td>0</td>\n",
       "      <td>...</td>\n",
       "      <td>0</td>\n",
       "      <td>0</td>\n",
       "      <td>0</td>\n",
       "      <td>0</td>\n",
       "      <td>0</td>\n",
       "      <td>0</td>\n",
       "      <td>0</td>\n",
       "      <td>0</td>\n",
       "      <td>0</td>\n",
       "      <td>0</td>\n",
       "    </tr>\n",
       "    <tr>\n",
       "      <th>4</th>\n",
       "      <td>0</td>\n",
       "      <td>0</td>\n",
       "      <td>0</td>\n",
       "      <td>0</td>\n",
       "      <td>0</td>\n",
       "      <td>0</td>\n",
       "      <td>0</td>\n",
       "      <td>0</td>\n",
       "      <td>0</td>\n",
       "      <td>0</td>\n",
       "      <td>...</td>\n",
       "      <td>0</td>\n",
       "      <td>0</td>\n",
       "      <td>0</td>\n",
       "      <td>0</td>\n",
       "      <td>0</td>\n",
       "      <td>0</td>\n",
       "      <td>0</td>\n",
       "      <td>0</td>\n",
       "      <td>0</td>\n",
       "      <td>0</td>\n",
       "    </tr>\n",
       "  </tbody>\n",
       "</table>\n",
       "<p>5 rows × 784 columns</p>\n",
       "</div>"
      ],
      "text/plain": [
       "   pixel0  pixel1  pixel2  pixel3  pixel4  pixel5  pixel6  pixel7  pixel8  \\\n",
       "0       0       0       0       0       0       0       0       0       0   \n",
       "1       0       0       0       0       0       0       0       0       0   \n",
       "2       0       0       0       0       0       0       0       0       0   \n",
       "3       0       0       0       0       0       0       0       0       0   \n",
       "4       0       0       0       0       0       0       0       0       0   \n",
       "\n",
       "   pixel9  ...  pixel774  pixel775  pixel776  pixel777  pixel778  pixel779  \\\n",
       "0       0  ...         0         0         0         0         0         0   \n",
       "1       0  ...         0         0         0         0         0         0   \n",
       "2       0  ...         0         0         0         0         0         0   \n",
       "3       0  ...         0         0         0         0         0         0   \n",
       "4       0  ...         0         0         0         0         0         0   \n",
       "\n",
       "   pixel780  pixel781  pixel782  pixel783  \n",
       "0         0         0         0         0  \n",
       "1         0         0         0         0  \n",
       "2         0         0         0         0  \n",
       "3         0         0         0         0  \n",
       "4         0         0         0         0  \n",
       "\n",
       "[5 rows x 784 columns]"
      ]
     },
     "execution_count": 3,
     "metadata": {},
     "output_type": "execute_result"
    }
   ],
   "source": [
    "testData.head()"
   ]
  },
  {
   "cell_type": "markdown",
   "id": "ea7da68f",
   "metadata": {
    "papermill": {
     "duration": 0.005601,
     "end_time": "2024-10-23T13:10:25.807580",
     "exception": false,
     "start_time": "2024-10-23T13:10:25.801979",
     "status": "completed"
    },
    "tags": []
   },
   "source": [
    "Here, we see that the test dataset is only useful for the competition organizers, but we cannot use it due to the absence of a \"label\" column. To address this, I will split the training dataset into training and testing portions."
   ]
  },
  {
   "cell_type": "code",
   "execution_count": 4,
   "id": "7ae21b19",
   "metadata": {
    "execution": {
     "iopub.execute_input": "2024-10-23T13:10:25.820979Z",
     "iopub.status.busy": "2024-10-23T13:10:25.820527Z",
     "iopub.status.idle": "2024-10-23T13:10:26.525707Z",
     "shell.execute_reply": "2024-10-23T13:10:26.524109Z"
    },
    "papermill": {
     "duration": 0.71499,
     "end_time": "2024-10-23T13:10:26.528595",
     "exception": false,
     "start_time": "2024-10-23T13:10:25.813605",
     "status": "completed"
    },
    "tags": []
   },
   "outputs": [
    {
     "name": "stdout",
     "output_type": "stream",
     "text": [
      "rows: 42000 , columns: 785\n"
     ]
    }
   ],
   "source": [
    "trainData = np.array(trainData)\n",
    "rows, columns = trainData.shape\n",
    "np.random.shuffle(trainData) # shuffle before splitting into dev and training sets\n",
    "\n",
    "print(f\"rows: {rows} , columns: {columns}\")"
   ]
  },
  {
   "cell_type": "code",
   "execution_count": 5,
   "id": "2ab7d2af",
   "metadata": {
    "execution": {
     "iopub.execute_input": "2024-10-23T13:10:26.541485Z",
     "iopub.status.busy": "2024-10-23T13:10:26.541066Z",
     "iopub.status.idle": "2024-10-23T13:10:26.686691Z",
     "shell.execute_reply": "2024-10-23T13:10:26.685338Z"
    },
    "papermill": {
     "duration": 0.155886,
     "end_time": "2024-10-23T13:10:26.690067",
     "exception": false,
     "start_time": "2024-10-23T13:10:26.534181",
     "status": "completed"
    },
    "tags": []
   },
   "outputs": [],
   "source": [
    "testData = trainData[0:2000].T\n",
    "testLabels = testData[0]\n",
    "testPixels = testData[1:columns+1]\n",
    "testPixels = testPixels / 255.\n",
    "\n",
    "trainData = trainData[2000:rows].T\n",
    "trainLabels = trainData[0]\n",
    "trainPixels = trainData[1:columns+1]\n",
    "trainPixels = trainPixels / 255.\n",
    "_,rows_train = trainPixels.shape"
   ]
  },
  {
   "cell_type": "code",
   "execution_count": 6,
   "id": "7bc504f7",
   "metadata": {
    "execution": {
     "iopub.execute_input": "2024-10-23T13:10:26.703109Z",
     "iopub.status.busy": "2024-10-23T13:10:26.702651Z",
     "iopub.status.idle": "2024-10-23T13:10:26.710209Z",
     "shell.execute_reply": "2024-10-23T13:10:26.708545Z"
    },
    "papermill": {
     "duration": 0.017254,
     "end_time": "2024-10-23T13:10:26.713147",
     "exception": false,
     "start_time": "2024-10-23T13:10:26.695893",
     "status": "completed"
    },
    "tags": []
   },
   "outputs": [
    {
     "name": "stdout",
     "output_type": "stream",
     "text": [
      "[9 1 9 ... 8 5 1]\n",
      "shape : (2000,)\n"
     ]
    }
   ],
   "source": [
    "print(testLabels)\n",
    "print(f\"shape : {testLabels.shape}\")"
   ]
  },
  {
   "cell_type": "code",
   "execution_count": 7,
   "id": "74ec1b1e",
   "metadata": {
    "execution": {
     "iopub.execute_input": "2024-10-23T13:10:26.727022Z",
     "iopub.status.busy": "2024-10-23T13:10:26.726563Z",
     "iopub.status.idle": "2024-10-23T13:10:26.733354Z",
     "shell.execute_reply": "2024-10-23T13:10:26.732226Z"
    },
    "papermill": {
     "duration": 0.017168,
     "end_time": "2024-10-23T13:10:26.735896",
     "exception": false,
     "start_time": "2024-10-23T13:10:26.718728",
     "status": "completed"
    },
    "tags": []
   },
   "outputs": [
    {
     "name": "stdout",
     "output_type": "stream",
     "text": [
      "[[0. 0. 0. ... 0. 0. 0.]\n",
      " [0. 0. 0. ... 0. 0. 0.]\n",
      " [0. 0. 0. ... 0. 0. 0.]\n",
      " ...\n",
      " [0. 0. 0. ... 0. 0. 0.]\n",
      " [0. 0. 0. ... 0. 0. 0.]\n",
      " [0. 0. 0. ... 0. 0. 0.]]\n",
      "shape: (784, 2000)\n",
      "shape: (784,)\n"
     ]
    }
   ],
   "source": [
    "print(testPixels)\n",
    "print(f\"shape: {testPixels.shape}\")\n",
    "print(f\"shape: {testPixels[:,1].shape}\")"
   ]
  },
  {
   "cell_type": "code",
   "execution_count": 8,
   "id": "8a612ca9",
   "metadata": {
    "execution": {
     "iopub.execute_input": "2024-10-23T13:10:26.749269Z",
     "iopub.status.busy": "2024-10-23T13:10:26.748410Z",
     "iopub.status.idle": "2024-10-23T13:10:26.754580Z",
     "shell.execute_reply": "2024-10-23T13:10:26.753519Z"
    },
    "papermill": {
     "duration": 0.01536,
     "end_time": "2024-10-23T13:10:26.756907",
     "exception": false,
     "start_time": "2024-10-23T13:10:26.741547",
     "status": "completed"
    },
    "tags": []
   },
   "outputs": [
    {
     "name": "stdout",
     "output_type": "stream",
     "text": [
      "[7 2 3 ... 6 5 9]\n",
      "shape : (40000,)\n"
     ]
    }
   ],
   "source": [
    "print(trainLabels)\n",
    "print(f\"shape : {trainLabels.shape}\")"
   ]
  },
  {
   "cell_type": "code",
   "execution_count": 9,
   "id": "66d9a152",
   "metadata": {
    "execution": {
     "iopub.execute_input": "2024-10-23T13:10:26.770729Z",
     "iopub.status.busy": "2024-10-23T13:10:26.770212Z",
     "iopub.status.idle": "2024-10-23T13:10:26.777230Z",
     "shell.execute_reply": "2024-10-23T13:10:26.775861Z"
    },
    "papermill": {
     "duration": 0.017221,
     "end_time": "2024-10-23T13:10:26.779683",
     "exception": false,
     "start_time": "2024-10-23T13:10:26.762462",
     "status": "completed"
    },
    "tags": []
   },
   "outputs": [
    {
     "name": "stdout",
     "output_type": "stream",
     "text": [
      "[[0. 0. 0. ... 0. 0. 0.]\n",
      " [0. 0. 0. ... 0. 0. 0.]\n",
      " [0. 0. 0. ... 0. 0. 0.]\n",
      " ...\n",
      " [0. 0. 0. ... 0. 0. 0.]\n",
      " [0. 0. 0. ... 0. 0. 0.]\n",
      " [0. 0. 0. ... 0. 0. 0.]]\n",
      "shape: (784, 40000)\n",
      "shape: (784,)\n"
     ]
    }
   ],
   "source": [
    "print(trainPixels)\n",
    "print(f\"shape: {trainPixels.shape}\")\n",
    "print(f\"shape: {trainPixels[:,1].shape}\")"
   ]
  },
  {
   "cell_type": "markdown",
   "id": "105fe6eb",
   "metadata": {
    "papermill": {
     "duration": 0.005373,
     "end_time": "2024-10-23T13:10:26.790721",
     "exception": false,
     "start_time": "2024-10-23T13:10:26.785348",
     "status": "completed"
    },
    "tags": []
   },
   "source": [
    "This all checks out so we can move on to building our network."
   ]
  },
  {
   "cell_type": "code",
   "execution_count": 10,
   "id": "5c1abe1e",
   "metadata": {
    "execution": {
     "iopub.execute_input": "2024-10-23T13:10:26.804367Z",
     "iopub.status.busy": "2024-10-23T13:10:26.803921Z",
     "iopub.status.idle": "2024-10-23T13:10:26.812388Z",
     "shell.execute_reply": "2024-10-23T13:10:26.810976Z"
    },
    "papermill": {
     "duration": 0.018165,
     "end_time": "2024-10-23T13:10:26.814973",
     "exception": false,
     "start_time": "2024-10-23T13:10:26.796808",
     "status": "completed"
    },
    "tags": []
   },
   "outputs": [],
   "source": [
    "def init_params():\n",
    "    W1 = np.random.rand(10, 784) - 0.5\n",
    "    b1 = np.random.rand(10, 1) - 0.5\n",
    "    W2 = np.random.rand(10, 10) - 0.5\n",
    "    b2 = np.random.rand(10, 1) - 0.5\n",
    "    return W1, b1, W2, b2\n",
    "\n",
    "def ReLU(Z):\n",
    "    return np.maximum(Z, 0)\n",
    "\n",
    "def softmax(Z):\n",
    "    A = np.exp(Z) / sum(np.exp(Z))\n",
    "    return A\n",
    "    \n",
    "def forward_prop(W1, b1, W2, b2, X):\n",
    "    Z1 = W1.dot(X) + b1\n",
    "    A1 = ReLU(Z1)\n",
    "    Z2 = W2.dot(A1) + b2\n",
    "    A2 = softmax(Z2)\n",
    "    return Z1, A1, Z2, A2"
   ]
  },
  {
   "cell_type": "code",
   "execution_count": 11,
   "id": "ae2428c5",
   "metadata": {
    "execution": {
     "iopub.execute_input": "2024-10-23T13:10:26.828132Z",
     "iopub.status.busy": "2024-10-23T13:10:26.827682Z",
     "iopub.status.idle": "2024-10-23T13:10:26.837208Z",
     "shell.execute_reply": "2024-10-23T13:10:26.835821Z"
    },
    "papermill": {
     "duration": 0.01904,
     "end_time": "2024-10-23T13:10:26.839679",
     "exception": false,
     "start_time": "2024-10-23T13:10:26.820639",
     "status": "completed"
    },
    "tags": []
   },
   "outputs": [],
   "source": [
    "def ReLU_deriv(Z):\n",
    "    return Z > 0\n",
    "\n",
    "def one_hot(Y):\n",
    "    one_hot_Y = np.zeros((Y.size, Y.max() + 1))\n",
    "    one_hot_Y[np.arange(Y.size), Y] = 1\n",
    "    one_hot_Y = one_hot_Y.T\n",
    "    return one_hot_Y\n",
    "\n",
    "def backward_prop(Z1, A1, Z2, A2, W1, W2, X, Y):\n",
    "    one_hot_Y = one_hot(Y)\n",
    "    dZ2 = A2 - one_hot_Y\n",
    "    dW2 = 1 / rows_train * dZ2.dot(A1.T)\n",
    "    db2 = 1 / rows_train * np.sum(dZ2)\n",
    "    dZ1 = W2.T.dot(dZ2) * ReLU_deriv(Z1)\n",
    "    dW1 = 1 / rows_train * dZ1.dot(X.T)\n",
    "    db1 = 1 / rows_train * np.sum(dZ1)\n",
    "    return dW1, db1, dW2, db2\n",
    "\n",
    "def update_params(W1, b1, W2, b2, dW1, db1, dW2, db2, alpha):\n",
    "    W1 = W1 - alpha * dW1\n",
    "    b1 = b1 - alpha * db1    \n",
    "    W2 = W2 - alpha * dW2  \n",
    "    b2 = b2 - alpha * db2    \n",
    "    return W1, b1, W2, b2"
   ]
  },
  {
   "cell_type": "code",
   "execution_count": 12,
   "id": "186b9433",
   "metadata": {
    "execution": {
     "iopub.execute_input": "2024-10-23T13:10:26.853327Z",
     "iopub.status.busy": "2024-10-23T13:10:26.852447Z",
     "iopub.status.idle": "2024-10-23T13:10:26.861086Z",
     "shell.execute_reply": "2024-10-23T13:10:26.859753Z"
    },
    "papermill": {
     "duration": 0.017884,
     "end_time": "2024-10-23T13:10:26.863321",
     "exception": false,
     "start_time": "2024-10-23T13:10:26.845437",
     "status": "completed"
    },
    "tags": []
   },
   "outputs": [],
   "source": [
    "def get_predictions(A2):\n",
    "    return np.argmax(A2, 0)\n",
    "\n",
    "def get_accuracy(predictions, Y):\n",
    "    print(predictions, Y)\n",
    "    return np.sum(predictions == Y) / Y.size\n",
    "\n",
    "def gradient_descent(X, Y, alpha, iterations):\n",
    "    W1, b1, W2, b2 = init_params()\n",
    "    for i in range(iterations):\n",
    "        Z1, A1, Z2, A2 = forward_prop(W1, b1, W2, b2, X)\n",
    "        dW1, db1, dW2, db2 = backward_prop(Z1, A1, Z2, A2, W1, W2, X, Y)\n",
    "        W1, b1, W2, b2 = update_params(W1, b1, W2, b2, dW1, db1, dW2, db2, alpha)\n",
    "        if i % 10 == 0:\n",
    "            print(\"Iteration: \", i)\n",
    "            predictions = get_predictions(A2)\n",
    "            print(get_accuracy(predictions, Y))\n",
    "    return W1, b1, W2, b2"
   ]
  },
  {
   "cell_type": "code",
   "execution_count": 13,
   "id": "f88613e7",
   "metadata": {
    "execution": {
     "iopub.execute_input": "2024-10-23T13:10:26.876597Z",
     "iopub.status.busy": "2024-10-23T13:10:26.876156Z",
     "iopub.status.idle": "2024-10-23T13:11:21.347622Z",
     "shell.execute_reply": "2024-10-23T13:11:21.346233Z"
    },
    "papermill": {
     "duration": 54.481863,
     "end_time": "2024-10-23T13:11:21.350837",
     "exception": false,
     "start_time": "2024-10-23T13:10:26.868974",
     "status": "completed"
    },
    "tags": []
   },
   "outputs": [
    {
     "name": "stdout",
     "output_type": "stream",
     "text": [
      "Iteration:  0\n",
      "[2 2 2 ... 2 1 4] [7 2 3 ... 6 5 9]\n",
      "0.09675\n",
      "Iteration:  10\n",
      "[3 5 3 ... 3 1 6] [7 2 3 ... 6 5 9]\n",
      "0.198125\n",
      "Iteration:  20\n",
      "[6 0 3 ... 3 0 6] [7 2 3 ... 6 5 9]\n",
      "0.322275\n",
      "Iteration:  30\n",
      "[6 0 3 ... 3 0 9] [7 2 3 ... 6 5 9]\n",
      "0.379\n",
      "Iteration:  40\n",
      "[6 0 3 ... 3 0 9] [7 2 3 ... 6 5 9]\n",
      "0.4206\n",
      "Iteration:  50\n",
      "[6 0 3 ... 3 0 9] [7 2 3 ... 6 5 9]\n",
      "0.452975\n",
      "Iteration:  60\n",
      "[8 0 3 ... 3 0 9] [7 2 3 ... 6 5 9]\n",
      "0.48655\n",
      "Iteration:  70\n",
      "[4 0 3 ... 3 0 9] [7 2 3 ... 6 5 9]\n",
      "0.52315\n",
      "Iteration:  80\n",
      "[9 0 3 ... 2 0 9] [7 2 3 ... 6 5 9]\n",
      "0.558225\n",
      "Iteration:  90\n",
      "[9 3 3 ... 2 0 9] [7 2 3 ... 6 5 9]\n",
      "0.586975\n",
      "Iteration:  100\n",
      "[9 3 3 ... 2 7 9] [7 2 3 ... 6 5 9]\n",
      "0.614525\n",
      "Iteration:  110\n",
      "[9 3 3 ... 2 7 9] [7 2 3 ... 6 5 9]\n",
      "0.6368\n",
      "Iteration:  120\n",
      "[9 3 3 ... 2 7 4] [7 2 3 ... 6 5 9]\n",
      "0.657\n",
      "Iteration:  130\n",
      "[9 3 3 ... 2 7 4] [7 2 3 ... 6 5 9]\n",
      "0.67415\n",
      "Iteration:  140\n",
      "[9 3 3 ... 2 7 4] [7 2 3 ... 6 5 9]\n",
      "0.688875\n",
      "Iteration:  150\n",
      "[9 3 3 ... 2 7 4] [7 2 3 ... 6 5 9]\n",
      "0.703075\n",
      "Iteration:  160\n",
      "[9 3 3 ... 2 7 4] [7 2 3 ... 6 5 9]\n",
      "0.714675\n",
      "Iteration:  170\n",
      "[9 2 3 ... 2 7 4] [7 2 3 ... 6 5 9]\n",
      "0.72515\n",
      "Iteration:  180\n",
      "[9 2 3 ... 0 7 4] [7 2 3 ... 6 5 9]\n",
      "0.734175\n",
      "Iteration:  190\n",
      "[9 2 3 ... 0 7 4] [7 2 3 ... 6 5 9]\n",
      "0.742825\n",
      "Iteration:  200\n",
      "[9 2 3 ... 0 7 4] [7 2 3 ... 6 5 9]\n",
      "0.750275\n",
      "Iteration:  210\n",
      "[9 2 3 ... 0 7 4] [7 2 3 ... 6 5 9]\n",
      "0.75655\n",
      "Iteration:  220\n",
      "[9 2 3 ... 0 7 4] [7 2 3 ... 6 5 9]\n",
      "0.76325\n",
      "Iteration:  230\n",
      "[9 2 3 ... 5 7 4] [7 2 3 ... 6 5 9]\n",
      "0.768525\n",
      "Iteration:  240\n",
      "[9 2 3 ... 5 7 4] [7 2 3 ... 6 5 9]\n",
      "0.7742\n",
      "Iteration:  250\n",
      "[9 2 3 ... 5 7 4] [7 2 3 ... 6 5 9]\n",
      "0.779425\n",
      "Iteration:  260\n",
      "[9 2 3 ... 5 7 4] [7 2 3 ... 6 5 9]\n",
      "0.784175\n",
      "Iteration:  270\n",
      "[9 2 3 ... 5 7 4] [7 2 3 ... 6 5 9]\n",
      "0.78755\n",
      "Iteration:  280\n",
      "[9 2 3 ... 5 7 4] [7 2 3 ... 6 5 9]\n",
      "0.791775\n",
      "Iteration:  290\n",
      "[9 2 3 ... 5 7 4] [7 2 3 ... 6 5 9]\n",
      "0.795475\n",
      "Iteration:  300\n",
      "[9 2 3 ... 5 7 4] [7 2 3 ... 6 5 9]\n",
      "0.79925\n",
      "Iteration:  310\n",
      "[9 2 3 ... 5 7 4] [7 2 3 ... 6 5 9]\n",
      "0.8026\n",
      "Iteration:  320\n",
      "[9 2 3 ... 5 7 4] [7 2 3 ... 6 5 9]\n",
      "0.806025\n",
      "Iteration:  330\n",
      "[9 2 3 ... 5 7 4] [7 2 3 ... 6 5 9]\n",
      "0.809025\n",
      "Iteration:  340\n",
      "[9 2 3 ... 5 7 4] [7 2 3 ... 6 5 9]\n",
      "0.811525\n",
      "Iteration:  350\n",
      "[9 2 3 ... 5 7 4] [7 2 3 ... 6 5 9]\n",
      "0.813975\n",
      "Iteration:  360\n",
      "[9 2 3 ... 5 7 4] [7 2 3 ... 6 5 9]\n",
      "0.81645\n",
      "Iteration:  370\n",
      "[9 2 3 ... 5 7 4] [7 2 3 ... 6 5 9]\n",
      "0.81885\n",
      "Iteration:  380\n",
      "[9 2 3 ... 5 7 4] [7 2 3 ... 6 5 9]\n",
      "0.82115\n",
      "Iteration:  390\n",
      "[9 2 3 ... 5 7 4] [7 2 3 ... 6 5 9]\n",
      "0.82345\n",
      "Iteration:  400\n",
      "[9 2 3 ... 5 7 4] [7 2 3 ... 6 5 9]\n",
      "0.825975\n",
      "Iteration:  410\n",
      "[9 2 3 ... 5 7 4] [7 2 3 ... 6 5 9]\n",
      "0.828\n",
      "Iteration:  420\n",
      "[9 2 3 ... 5 7 4] [7 2 3 ... 6 5 9]\n",
      "0.830175\n",
      "Iteration:  430\n",
      "[9 2 3 ... 5 7 9] [7 2 3 ... 6 5 9]\n",
      "0.8324\n",
      "Iteration:  440\n",
      "[9 2 3 ... 5 7 9] [7 2 3 ... 6 5 9]\n",
      "0.834075\n",
      "Iteration:  450\n",
      "[9 2 3 ... 5 7 9] [7 2 3 ... 6 5 9]\n",
      "0.8358\n",
      "Iteration:  460\n",
      "[9 2 3 ... 5 7 9] [7 2 3 ... 6 5 9]\n",
      "0.8376\n",
      "Iteration:  470\n",
      "[9 2 3 ... 5 7 9] [7 2 3 ... 6 5 9]\n",
      "0.839025\n",
      "Iteration:  480\n",
      "[9 2 3 ... 5 7 9] [7 2 3 ... 6 5 9]\n",
      "0.840625\n",
      "Iteration:  490\n",
      "[9 2 3 ... 5 7 9] [7 2 3 ... 6 5 9]\n",
      "0.84185\n"
     ]
    }
   ],
   "source": [
    "W1, b1, W2, b2 = gradient_descent(trainPixels, trainLabels, 0.10, 500)"
   ]
  },
  {
   "cell_type": "code",
   "execution_count": 14,
   "id": "a6c42152",
   "metadata": {
    "execution": {
     "iopub.execute_input": "2024-10-23T13:11:21.383214Z",
     "iopub.status.busy": "2024-10-23T13:11:21.382618Z",
     "iopub.status.idle": "2024-10-23T13:11:21.395523Z",
     "shell.execute_reply": "2024-10-23T13:11:21.394294Z"
    },
    "papermill": {
     "duration": 0.033632,
     "end_time": "2024-10-23T13:11:21.399273",
     "exception": false,
     "start_time": "2024-10-23T13:11:21.365641",
     "status": "completed"
    },
    "tags": []
   },
   "outputs": [],
   "source": [
    "def make_predictions(X, W1, b1, W2, b2):\n",
    "    _, _, _, A2 = forward_prop(W1, b1, W2, b2, X)\n",
    "    predictions = get_predictions(A2)\n",
    "    return predictions\n",
    "\n",
    "def test_prediction(index, W1, b1, W2, b2):\n",
    "    current_image = trainPixels[:, index, None]\n",
    "    prediction = make_predictions(trainPixels[:, index, None], W1, b1, W2, b2)\n",
    "    label = trainLabels[index]\n",
    "    print(\"Prediction: \", prediction)\n",
    "    print(\"Label: \", label)\n",
    "    \n",
    "    current_image = current_image.reshape((28, 28)) * 255\n",
    "    plt.gray()\n",
    "    plt.imshow(current_image, interpolation='nearest')\n",
    "    plt.show()"
   ]
  },
  {
   "cell_type": "code",
   "execution_count": 15,
   "id": "14e1cea6",
   "metadata": {
    "execution": {
     "iopub.execute_input": "2024-10-23T13:11:21.431714Z",
     "iopub.status.busy": "2024-10-23T13:11:21.431131Z",
     "iopub.status.idle": "2024-10-23T13:11:21.896859Z",
     "shell.execute_reply": "2024-10-23T13:11:21.895296Z"
    },
    "papermill": {
     "duration": 0.484614,
     "end_time": "2024-10-23T13:11:21.899535",
     "exception": false,
     "start_time": "2024-10-23T13:11:21.414921",
     "status": "completed"
    },
    "tags": []
   },
   "outputs": [
    {
     "name": "stdout",
     "output_type": "stream",
     "text": [
      "Prediction:  [9]\n",
      "Label:  7\n"
     ]
    },
    {
     "data": {
      "image/png": "[encoded data removed]",
      "text/plain": [
       "<Figure size 640x480 with 1 Axes>"
      ]
     },
     "metadata": {},
     "output_type": "display_data"
    },
    {
     "name": "stdout",
     "output_type": "stream",
     "text": [
      "Prediction:  [2]\n",
      "Label:  2\n"
     ]
    },
    {
     "data": {
      "image/png": "[encoded data removed]",
      "text/plain": [
       "<Figure size 640x480 with 1 Axes>"
      ]
     },
     "metadata": {},
     "output_type": "display_data"
    }
   ],
   "source": [
    "test_prediction(0, W1, b1, W2, b2)\n",
    "test_prediction(1, W1, b1, W2, b2)"
   ]
  }
 ],
 "metadata": {
  "kaggle": {
   "accelerator": "none",
   "dataSources": [
    {
     "databundleVersionId": 861823,
     "sourceId": 3004,
     "sourceType": "competition"
    }
   ],
   "dockerImageVersionId": 30786,
   "isGpuEnabled": false,
   "isInternetEnabled": false,
   "language": "python",
   "sourceType": "notebook"
  },
  "kernelspec": {
   "display_name": "Python 3",
   "language": "python",
   "name": "python3"
  },
  "language_info": {
   "codemirror_mode": {
    "name": "ipython",
    "version": 3
   },
   "file_extension": ".py",
   "mimetype": "text/x-python",
   "name": "python",
   "nbconvert_exporter": "python",
   "pygments_lexer": "ipython3",
   "version": "3.10.14"
  },
  "papermill": {
   "default_parameters": {},
   "duration": 66.249444,
   "end_time": "2024-10-23T13:11:22.430839",
   "environment_variables": {},
   "exception": null,
   "input_path": "__notebook__.ipynb",
   "output_path": "__notebook__.ipynb",
   "parameters": {},
   "start_time": "2024-10-23T13:10:16.181395",
   "version": "2.6.0"
  }
 },
 "nbformat": 4,
 "nbformat_minor": 5
}
