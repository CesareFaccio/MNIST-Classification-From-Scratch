{
 "cells": [
  {
   "cell_type": "code",
   "execution_count": 1,
   "id": "f1bbc18d",
   "metadata": {
    "_cell_guid": "b1076dfc-b9ad-4769-8c92-a6c4dae69d19",
    "_uuid": "8f2839f25d086af736a60e9eeb907d3b93b6e0e5",
    "execution": {
     "iopub.execute_input": "2024-10-24T20:24:38.490843Z",
     "iopub.status.busy": "2024-10-24T20:24:38.490426Z",
     "iopub.status.idle": "2024-10-24T20:24:46.559827Z",
     "shell.execute_reply": "2024-10-24T20:24:46.558845Z"
    },
    "papermill": {
     "duration": 8.081231,
     "end_time": "2024-10-24T20:24:46.562761",
     "exception": false,
     "start_time": "2024-10-24T20:24:38.481530",
     "status": "completed"
    },
    "tags": []
   },
   "outputs": [],
   "source": [
    "import numpy as np\n",
    "import pandas as pd\n",
    "from matplotlib import pyplot as plt\n",
    "\n",
    "trainData = pd.read_csv('/kaggle/input/digit-recognizer/train.csv')\n",
    "testData = pd.read_csv('/kaggle/input/digit-recognizer/test.csv')"
   ]
  },
  {
   "cell_type": "code",
   "execution_count": 2,
   "id": "f438ce38",
   "metadata": {
    "execution": {
     "iopub.execute_input": "2024-10-24T20:24:46.577684Z",
     "iopub.status.busy": "2024-10-24T20:24:46.577266Z",
     "iopub.status.idle": "2024-10-24T20:24:46.605542Z",
     "shell.execute_reply": "2024-10-24T20:24:46.604408Z"
    },
    "papermill": {
     "duration": 0.038589,
     "end_time": "2024-10-24T20:24:46.608111",
     "exception": false,
     "start_time": "2024-10-24T20:24:46.569522",
     "status": "completed"
    },
    "tags": []
   },
   "outputs": [
    {
     "data": {
      "text/html": [
       "<div>\n",
       "<style scoped>\n",
       "    .dataframe tbody tr th:only-of-type {\n",
       "        vertical-align: middle;\n",
       "    }\n",
       "\n",
       "    .dataframe tbody tr th {\n",
       "        vertical-align: top;\n",
       "    }\n",
       "\n",
       "    .dataframe thead th {\n",
       "        text-align: right;\n",
       "    }\n",
       "</style>\n",
       "<table border=\"1\" class=\"dataframe\">\n",
       "  <thead>\n",
       "    <tr style=\"text-align: right;\">\n",
       "      <th></th>\n",
       "      <th>label</th>\n",
       "      <th>pixel0</th>\n",
       "      <th>pixel1</th>\n",
       "      <th>pixel2</th>\n",
       "      <th>pixel3</th>\n",
       "      <th>pixel4</th>\n",
       "      <th>pixel5</th>\n",
       "      <th>pixel6</th>\n",
       "      <th>pixel7</th>\n",
       "      <th>pixel8</th>\n",
       "      <th>...</th>\n",
       "      <th>pixel774</th>\n",
       "      <th>pixel775</th>\n",
       "      <th>pixel776</th>\n",
       "      <th>pixel777</th>\n",
       "      <th>pixel778</th>\n",
       "      <th>pixel779</th>\n",
       "      <th>pixel780</th>\n",
       "      <th>pixel781</th>\n",
       "      <th>pixel782</th>\n",
       "      <th>pixel783</th>\n",
       "    </tr>\n",
       "  </thead>\n",
       "  <tbody>\n",
       "    <tr>\n",
       "      <th>0</th>\n",
       "      <td>1</td>\n",
       "      <td>0</td>\n",
       "      <td>0</td>\n",
       "      <td>0</td>\n",
       "      <td>0</td>\n",
       "      <td>0</td>\n",
       "      <td>0</td>\n",
       "      <td>0</td>\n",
       "      <td>0</td>\n",
       "      <td>0</td>\n",
       "      <td>...</td>\n",
       "      <td>0</td>\n",
       "      <td>0</td>\n",
       "      <td>0</td>\n",
       "      <td>0</td>\n",
       "      <td>0</td>\n",
       "      <td>0</td>\n",
       "      <td>0</td>\n",
       "      <td>0</td>\n",
       "      <td>0</td>\n",
       "      <td>0</td>\n",
       "    </tr>\n",
       "    <tr>\n",
       "      <th>1</th>\n",
       "      <td>0</td>\n",
       "      <td>0</td>\n",
       "      <td>0</td>\n",
       "      <td>0</td>\n",
       "      <td>0</td>\n",
       "      <td>0</td>\n",
       "      <td>0</td>\n",
       "      <td>0</td>\n",
       "      <td>0</td>\n",
       "      <td>0</td>\n",
       "      <td>...</td>\n",
       "      <td>0</td>\n",
       "      <td>0</td>\n",
       "      <td>0</td>\n",
       "      <td>0</td>\n",
       "      <td>0</td>\n",
       "      <td>0</td>\n",
       "      <td>0</td>\n",
       "      <td>0</td>\n",
       "      <td>0</td>\n",
       "      <td>0</td>\n",
       "    </tr>\n",
       "    <tr>\n",
       "      <th>2</th>\n",
       "      <td>1</td>\n",
       "      <td>0</td>\n",
       "      <td>0</td>\n",
       "      <td>0</td>\n",
       "      <td>0</td>\n",
       "      <td>0</td>\n",
       "      <td>0</td>\n",
       "      <td>0</td>\n",
       "      <td>0</td>\n",
       "      <td>0</td>\n",
       "      <td>...</td>\n",
       "      <td>0</td>\n",
       "      <td>0</td>\n",
       "      <td>0</td>\n",
       "      <td>0</td>\n",
       "      <td>0</td>\n",
       "      <td>0</td>\n",
       "      <td>0</td>\n",
       "      <td>0</td>\n",
       "      <td>0</td>\n",
       "      <td>0</td>\n",
       "    </tr>\n",
       "    <tr>\n",
       "      <th>3</th>\n",
       "      <td>4</td>\n",
       "      <td>0</td>\n",
       "      <td>0</td>\n",
       "      <td>0</td>\n",
       "      <td>0</td>\n",
       "      <td>0</td>\n",
       "      <td>0</td>\n",
       "      <td>0</td>\n",
       "      <td>0</td>\n",
       "      <td>0</td>\n",
       "      <td>...</td>\n",
       "      <td>0</td>\n",
       "      <td>0</td>\n",
       "      <td>0</td>\n",
       "      <td>0</td>\n",
       "      <td>0</td>\n",
       "      <td>0</td>\n",
       "      <td>0</td>\n",
       "      <td>0</td>\n",
       "      <td>0</td>\n",
       "      <td>0</td>\n",
       "    </tr>\n",
       "    <tr>\n",
       "      <th>4</th>\n",
       "      <td>0</td>\n",
       "      <td>0</td>\n",
       "      <td>0</td>\n",
       "      <td>0</td>\n",
       "      <td>0</td>\n",
       "      <td>0</td>\n",
       "      <td>0</td>\n",
       "      <td>0</td>\n",
       "      <td>0</td>\n",
       "      <td>0</td>\n",
       "      <td>...</td>\n",
       "      <td>0</td>\n",
       "      <td>0</td>\n",
       "      <td>0</td>\n",
       "      <td>0</td>\n",
       "      <td>0</td>\n",
       "      <td>0</td>\n",
       "      <td>0</td>\n",
       "      <td>0</td>\n",
       "      <td>0</td>\n",
       "      <td>0</td>\n",
       "    </tr>\n",
       "  </tbody>\n",
       "</table>\n",
       "<p>5 rows × 785 columns</p>\n",
       "</div>"
      ],
      "text/plain": [
       "   label  pixel0  pixel1  pixel2  pixel3  pixel4  pixel5  pixel6  pixel7  \\\n",
       "0      1       0       0       0       0       0       0       0       0   \n",
       "1      0       0       0       0       0       0       0       0       0   \n",
       "2      1       0       0       0       0       0       0       0       0   \n",
       "3      4       0       0       0       0       0       0       0       0   \n",
       "4      0       0       0       0       0       0       0       0       0   \n",
       "\n",
       "   pixel8  ...  pixel774  pixel775  pixel776  pixel777  pixel778  pixel779  \\\n",
       "0       0  ...         0         0         0         0         0         0   \n",
       "1       0  ...         0         0         0         0         0         0   \n",
       "2       0  ...         0         0         0         0         0         0   \n",
       "3       0  ...         0         0         0         0         0         0   \n",
       "4       0  ...         0         0         0         0         0         0   \n",
       "\n",
       "   pixel780  pixel781  pixel782  pixel783  \n",
       "0         0         0         0         0  \n",
       "1         0         0         0         0  \n",
       "2         0         0         0         0  \n",
       "3         0         0         0         0  \n",
       "4         0         0         0         0  \n",
       "\n",
       "[5 rows x 785 columns]"
      ]
     },
     "execution_count": 2,
     "metadata": {},
     "output_type": "execute_result"
    }
   ],
   "source": [
    "trainData.head()"
   ]
  },
  {
   "cell_type": "code",
   "execution_count": 3,
   "id": "19faf6b2",
   "metadata": {
    "execution": {
     "iopub.execute_input": "2024-10-24T20:24:46.623932Z",
     "iopub.status.busy": "2024-10-24T20:24:46.623181Z",
     "iopub.status.idle": "2024-10-24T20:24:46.642896Z",
     "shell.execute_reply": "2024-10-24T20:24:46.641810Z"
    },
    "papermill": {
     "duration": 0.030516,
     "end_time": "2024-10-24T20:24:46.645466",
     "exception": false,
     "start_time": "2024-10-24T20:24:46.614950",
     "status": "completed"
    },
    "tags": []
   },
   "outputs": [
    {
     "data": {
      "text/html": [
       "<div>\n",
       "<style scoped>\n",
       "    .dataframe tbody tr th:only-of-type {\n",
       "        vertical-align: middle;\n",
       "    }\n",
       "\n",
       "    .dataframe tbody tr th {\n",
       "        vertical-align: top;\n",
       "    }\n",
       "\n",
       "    .dataframe thead th {\n",
       "        text-align: right;\n",
       "    }\n",
       "</style>\n",
       "<table border=\"1\" class=\"dataframe\">\n",
       "  <thead>\n",
       "    <tr style=\"text-align: right;\">\n",
       "      <th></th>\n",
       "      <th>pixel0</th>\n",
       "      <th>pixel1</th>\n",
       "      <th>pixel2</th>\n",
       "      <th>pixel3</th>\n",
       "      <th>pixel4</th>\n",
       "      <th>pixel5</th>\n",
       "      <th>pixel6</th>\n",
       "      <th>pixel7</th>\n",
       "      <th>pixel8</th>\n",
       "      <th>pixel9</th>\n",
       "      <th>...</th>\n",
       "      <th>pixel774</th>\n",
       "      <th>pixel775</th>\n",
       "      <th>pixel776</th>\n",
       "      <th>pixel777</th>\n",
       "      <th>pixel778</th>\n",
       "      <th>pixel779</th>\n",
       "      <th>pixel780</th>\n",
       "      <th>pixel781</th>\n",
       "      <th>pixel782</th>\n",
       "      <th>pixel783</th>\n",
       "    </tr>\n",
       "  </thead>\n",
       "  <tbody>\n",
       "    <tr>\n",
       "      <th>0</th>\n",
       "      <td>0</td>\n",
       "      <td>0</td>\n",
       "      <td>0</td>\n",
       "      <td>0</td>\n",
       "      <td>0</td>\n",
       "      <td>0</td>\n",
       "      <td>0</td>\n",
       "      <td>0</td>\n",
       "      <td>0</td>\n",
       "      <td>0</td>\n",
       "      <td>...</td>\n",
       "      <td>0</td>\n",
       "      <td>0</td>\n",
       "      <td>0</td>\n",
       "      <td>0</td>\n",
       "      <td>0</td>\n",
       "      <td>0</td>\n",
       "      <td>0</td>\n",
       "      <td>0</td>\n",
       "      <td>0</td>\n",
       "      <td>0</td>\n",
       "    </tr>\n",
       "    <tr>\n",
       "      <th>1</th>\n",
       "      <td>0</td>\n",
       "      <td>0</td>\n",
       "      <td>0</td>\n",
       "      <td>0</td>\n",
       "      <td>0</td>\n",
       "      <td>0</td>\n",
       "      <td>0</td>\n",
       "      <td>0</td>\n",
       "      <td>0</td>\n",
       "      <td>0</td>\n",
       "      <td>...</td>\n",
       "      <td>0</td>\n",
       "      <td>0</td>\n",
       "      <td>0</td>\n",
       "      <td>0</td>\n",
       "      <td>0</td>\n",
       "      <td>0</td>\n",
       "      <td>0</td>\n",
       "      <td>0</td>\n",
       "      <td>0</td>\n",
       "      <td>0</td>\n",
       "    </tr>\n",
       "    <tr>\n",
       "      <th>2</th>\n",
       "      <td>0</td>\n",
       "      <td>0</td>\n",
       "      <td>0</td>\n",
       "      <td>0</td>\n",
       "      <td>0</td>\n",
       "      <td>0</td>\n",
       "      <td>0</td>\n",
       "      <td>0</td>\n",
       "      <td>0</td>\n",
       "      <td>0</td>\n",
       "      <td>...</td>\n",
       "      <td>0</td>\n",
       "      <td>0</td>\n",
       "      <td>0</td>\n",
       "      <td>0</td>\n",
       "      <td>0</td>\n",
       "      <td>0</td>\n",
       "      <td>0</td>\n",
       "      <td>0</td>\n",
       "      <td>0</td>\n",
       "      <td>0</td>\n",
       "    </tr>\n",
       "    <tr>\n",
       "      <th>3</th>\n",
       "      <td>0</td>\n",
       "      <td>0</td>\n",
       "      <td>0</td>\n",
       "      <td>0</td>\n",
       "      <td>0</td>\n",
       "      <td>0</td>\n",
       "      <td>0</td>\n",
       "      <td>0</td>\n",
       "      <td>0</td>\n",
       "      <td>0</td>\n",
       "      <td>...</td>\n",
       "      <td>0</td>\n",
       "      <td>0</td>\n",
       "      <td>0</td>\n",
       "      <td>0</td>\n",
       "      <td>0</td>\n",
       "      <td>0</td>\n",
       "      <td>0</td>\n",
       "      <td>0</td>\n",
       "      <td>0</td>\n",
       "      <td>0</td>\n",
       "    </tr>\n",
       "    <tr>\n",
       "      <th>4</th>\n",
       "      <td>0</td>\n",
       "      <td>0</td>\n",
       "      <td>0</td>\n",
       "      <td>0</td>\n",
       "      <td>0</td>\n",
       "      <td>0</td>\n",
       "      <td>0</td>\n",
       "      <td>0</td>\n",
       "      <td>0</td>\n",
       "      <td>0</td>\n",
       "      <td>...</td>\n",
       "      <td>0</td>\n",
       "      <td>0</td>\n",
       "      <td>0</td>\n",
       "      <td>0</td>\n",
       "      <td>0</td>\n",
       "      <td>0</td>\n",
       "      <td>0</td>\n",
       "      <td>0</td>\n",
       "      <td>0</td>\n",
       "      <td>0</td>\n",
       "    </tr>\n",
       "  </tbody>\n",
       "</table>\n",
       "<p>5 rows × 784 columns</p>\n",
       "</div>"
      ],
      "text/plain": [
       "   pixel0  pixel1  pixel2  pixel3  pixel4  pixel5  pixel6  pixel7  pixel8  \\\n",
       "0       0       0       0       0       0       0       0       0       0   \n",
       "1       0       0       0       0       0       0       0       0       0   \n",
       "2       0       0       0       0       0       0       0       0       0   \n",
       "3       0       0       0       0       0       0       0       0       0   \n",
       "4       0       0       0       0       0       0       0       0       0   \n",
       "\n",
       "   pixel9  ...  pixel774  pixel775  pixel776  pixel777  pixel778  pixel779  \\\n",
       "0       0  ...         0         0         0         0         0         0   \n",
       "1       0  ...         0         0         0         0         0         0   \n",
       "2       0  ...         0         0         0         0         0         0   \n",
       "3       0  ...         0         0         0         0         0         0   \n",
       "4       0  ...         0         0         0         0         0         0   \n",
       "\n",
       "   pixel780  pixel781  pixel782  pixel783  \n",
       "0         0         0         0         0  \n",
       "1         0         0         0         0  \n",
       "2         0         0         0         0  \n",
       "3         0         0         0         0  \n",
       "4         0         0         0         0  \n",
       "\n",
       "[5 rows x 784 columns]"
      ]
     },
     "execution_count": 3,
     "metadata": {},
     "output_type": "execute_result"
    }
   ],
   "source": [
    "testData.head()"
   ]
  },
  {
   "cell_type": "markdown",
   "id": "3386ddcb",
   "metadata": {
    "papermill": {
     "duration": 0.006855,
     "end_time": "2024-10-24T20:24:46.659571",
     "exception": false,
     "start_time": "2024-10-24T20:24:46.652716",
     "status": "completed"
    },
    "tags": []
   },
   "source": [
    "Here, we see that the test dataset is only useful for the competition organizers, but we cannot use it due to the absence of a \"label\" column. To address this, I will split the training dataset into training and testing portions."
   ]
  },
  {
   "cell_type": "markdown",
   "id": "74b1bfba",
   "metadata": {
    "papermill": {
     "duration": 0.00682,
     "end_time": "2024-10-24T20:24:46.673529",
     "exception": false,
     "start_time": "2024-10-24T20:24:46.666709",
     "status": "completed"
    },
    "tags": []
   },
   "source": [
    "Firstly some function to import the datasets. getTestDataset can be used for a competition submission."
   ]
  },
  {
   "cell_type": "code",
   "execution_count": 4,
   "id": "62b54333",
   "metadata": {
    "execution": {
     "iopub.execute_input": "2024-10-24T20:24:46.689729Z",
     "iopub.status.busy": "2024-10-24T20:24:46.689292Z",
     "iopub.status.idle": "2024-10-24T20:24:46.698452Z",
     "shell.execute_reply": "2024-10-24T20:24:46.697092Z"
    },
    "papermill": {
     "duration": 0.020294,
     "end_time": "2024-10-24T20:24:46.700949",
     "exception": false,
     "start_time": "2024-10-24T20:24:46.680655",
     "status": "completed"
    },
    "tags": []
   },
   "outputs": [],
   "source": [
    "def getDataset(filePath):\n",
    "    trainData = pd.read_csv('/kaggle/input/digit-recognizer/train.csv')\n",
    "    trainData = np.array(trainData)\n",
    "    rows, columns = trainData.shape\n",
    "    np.random.shuffle(trainData)\n",
    "\n",
    "    testData = trainData[0:2000].T\n",
    "    testLabels = testData[0]\n",
    "    testPixels = testData[1:columns + 1]\n",
    "    testPixels = testPixels / 255\n",
    "\n",
    "    trainData = trainData[2000:rows].T\n",
    "    trainLabels = trainData[0]\n",
    "    trainPixels = trainData[1:columns + 1]\n",
    "    trainPixels = trainPixels / 255\n",
    "\n",
    "    return trainLabels, trainPixels, testLabels, testPixels\n",
    "\n",
    "def getTestDataset(filePath):\n",
    "    testData = pd.read_csv('/kaggle/input/digit-recognizer/test.csv')\n",
    "    testPixels = np.array(testData).T\n",
    "    testPixels = testPixels / 255\n",
    "\n",
    "    return testPixels"
   ]
  },
  {
   "cell_type": "markdown",
   "id": "dae19571",
   "metadata": {
    "papermill": {
     "duration": 0.006773,
     "end_time": "2024-10-24T20:24:46.715086",
     "exception": false,
     "start_time": "2024-10-24T20:24:46.708313",
     "status": "completed"
    },
    "tags": []
   },
   "source": [
    "Now, a function to initialize the network's parameters in a random state"
   ]
  },
  {
   "cell_type": "code",
   "execution_count": 5,
   "id": "fcd7cc10",
   "metadata": {
    "execution": {
     "iopub.execute_input": "2024-10-24T20:24:46.732391Z",
     "iopub.status.busy": "2024-10-24T20:24:46.731950Z",
     "iopub.status.idle": "2024-10-24T20:24:46.739033Z",
     "shell.execute_reply": "2024-10-24T20:24:46.737855Z"
    },
    "papermill": {
     "duration": 0.018006,
     "end_time": "2024-10-24T20:24:46.741474",
     "exception": false,
     "start_time": "2024-10-24T20:24:46.723468",
     "status": "completed"
    },
    "tags": []
   },
   "outputs": [],
   "source": [
    "def initParams(layerSizes):\n",
    "    params = {}\n",
    "    numberOfLayers = len(layerSizes) - 1\n",
    "    for l in range(1, numberOfLayers + 1):\n",
    "        params[f\"W{l}\"] = np.random.rand(layerSizes[l], layerSizes[l - 1]) - 0.5\n",
    "        params[f\"b{l}\"] = np.random.rand(layerSizes[l], 1) - 0.5\n",
    "    return params"
   ]
  },
  {
   "cell_type": "markdown",
   "id": "e6ecca21",
   "metadata": {
    "papermill": {
     "duration": 0.00678,
     "end_time": "2024-10-24T20:24:46.755444",
     "exception": false,
     "start_time": "2024-10-24T20:24:46.748664",
     "status": "completed"
    },
    "tags": []
   },
   "source": [
    "Now, some basic functions that will be used in backward and forward propagation"
   ]
  },
  {
   "cell_type": "code",
   "execution_count": 6,
   "id": "f393d1df",
   "metadata": {
    "execution": {
     "iopub.execute_input": "2024-10-24T20:24:46.771528Z",
     "iopub.status.busy": "2024-10-24T20:24:46.771078Z",
     "iopub.status.idle": "2024-10-24T20:24:46.778922Z",
     "shell.execute_reply": "2024-10-24T20:24:46.777569Z"
    },
    "papermill": {
     "duration": 0.018989,
     "end_time": "2024-10-24T20:24:46.781613",
     "exception": false,
     "start_time": "2024-10-24T20:24:46.762624",
     "status": "completed"
    },
    "tags": []
   },
   "outputs": [],
   "source": [
    "def ReLU(Z):\n",
    "    return np.maximum(Z, 0)\n",
    "\n",
    "def softmax(Z):\n",
    "    A = np.exp(Z) / np.sum(np.exp(Z), axis=0)\n",
    "    return A\n",
    "\n",
    "def ReluDeriv(Z):\n",
    "    return Z > 0\n",
    "\n",
    "def desiredOutputs(Y):\n",
    "    desiredOut = np.zeros((Y.size, Y.max() + 1))\n",
    "    desiredOut[np.arange(Y.size), Y] = 1\n",
    "    desiredOut = desiredOut.T\n",
    "    return desiredOut"
   ]
  },
  {
   "cell_type": "markdown",
   "id": "8d40c2d3",
   "metadata": {
    "papermill": {
     "duration": 0.006842,
     "end_time": "2024-10-24T20:24:46.795834",
     "exception": false,
     "start_time": "2024-10-24T20:24:46.788992",
     "status": "completed"
    },
    "tags": []
   },
   "source": [
    "Now, the forward and backward propagation algorithms"
   ]
  },
  {
   "cell_type": "code",
   "execution_count": 7,
   "id": "22c3dfb7",
   "metadata": {
    "execution": {
     "iopub.execute_input": "2024-10-24T20:24:46.812126Z",
     "iopub.status.busy": "2024-10-24T20:24:46.811732Z",
     "iopub.status.idle": "2024-10-24T20:24:46.827042Z",
     "shell.execute_reply": "2024-10-24T20:24:46.826058Z"
    },
    "papermill": {
     "duration": 0.026522,
     "end_time": "2024-10-24T20:24:46.829659",
     "exception": false,
     "start_time": "2024-10-24T20:24:46.803137",
     "status": "completed"
    },
    "tags": []
   },
   "outputs": [],
   "source": [
    "def forwardProp(pixels, params, numberOfLayers):\n",
    "    cache = {\"A0\": pixels}\n",
    "    A_prev = pixels\n",
    "\n",
    "    for l in range(1, numberOfLayers):\n",
    "        Z = params[f\"W{l}\"].dot(A_prev) + params[f\"b{l}\"]\n",
    "        A = ReLU(Z)\n",
    "        cache[f\"Z{l}\"] = Z\n",
    "        cache[f\"A{l}\"] = A\n",
    "        A_prev = A\n",
    "\n",
    "    ZL = params[f\"W{numberOfLayers}\"].dot(A_prev) + params[f\"b{numberOfLayers}\"]\n",
    "    AL = softmax(ZL)\n",
    "    cache[f\"Z{numberOfLayers}\"] = ZL\n",
    "    cache[f\"A{numberOfLayers}\"] = AL\n",
    "    return cache\n",
    "\n",
    "def backwardProp(params, cache, pixels, labels, numberOfLayers):\n",
    "    grads = {}\n",
    "    desiredOut = desiredOutputs(labels)\n",
    "    AL = cache[f\"A{numberOfLayers}\"]\n",
    "\n",
    "    dZL = AL - desiredOut\n",
    "    grads[f\"dW{numberOfLayers}\"] = 1 / pixels.shape[1] * dZL.dot(cache[f\"A{numberOfLayers - 1}\"].T)\n",
    "    grads[f\"db{numberOfLayers}\"] = 1 / pixels.shape[1] * np.sum(dZL, axis=1, keepdims=True)\n",
    "\n",
    "    dA_prev = params[f\"W{numberOfLayers}\"].T.dot(dZL)\n",
    "\n",
    "    for l in range(numberOfLayers - 1, 0, -1):\n",
    "        dZ = dA_prev * ReluDeriv(cache[f\"Z{l}\"])\n",
    "        grads[f\"dW{l}\"] = 1 / pixels.shape[1] * dZ.dot(cache[f\"A{l - 1}\"].T)\n",
    "        grads[f\"db{l}\"] = 1 / pixels.shape[1] * np.sum(dZ, axis=1, keepdims=True)\n",
    "        dA_prev = params[f\"W{l}\"].T.dot(dZ)\n",
    "\n",
    "    return grads\n",
    "\n",
    "def updateParams(params, grads, alpha, numberOfLayers):\n",
    "    for l in range(1, numberOfLayers + 1):\n",
    "        params[f\"W{l}\"] -= alpha * grads[f\"dW{l}\"]\n",
    "        params[f\"b{l}\"] -= alpha * grads[f\"db{l}\"]\n",
    "    return params"
   ]
  },
  {
   "cell_type": "markdown",
   "id": "37407d04",
   "metadata": {
    "papermill": {
     "duration": 0.006878,
     "end_time": "2024-10-24T20:24:46.843723",
     "exception": false,
     "start_time": "2024-10-24T20:24:46.836845",
     "status": "completed"
    },
    "tags": []
   },
   "source": [
    "Now, some functions to evaluate results"
   ]
  },
  {
   "cell_type": "code",
   "execution_count": 8,
   "id": "589618ba",
   "metadata": {
    "execution": {
     "iopub.execute_input": "2024-10-24T20:24:46.861305Z",
     "iopub.status.busy": "2024-10-24T20:24:46.860109Z",
     "iopub.status.idle": "2024-10-24T20:24:46.870862Z",
     "shell.execute_reply": "2024-10-24T20:24:46.869808Z"
    },
    "papermill": {
     "duration": 0.022374,
     "end_time": "2024-10-24T20:24:46.873884",
     "exception": false,
     "start_time": "2024-10-24T20:24:46.851510",
     "status": "completed"
    },
    "tags": []
   },
   "outputs": [],
   "source": [
    "def getPredictions(AL):\n",
    "    return np.argmax(AL, 0)\n",
    "\n",
    "def getAccuracy(predictions, Y):\n",
    "    return np.sum(predictions == Y) / Y.size\n",
    "\n",
    "def makePredictions(pixels, params, layerSizes):\n",
    "    numberOfLayers = len(layerSizes) - 1\n",
    "    cache = forwardProp(pixels, params, numberOfLayers)\n",
    "    predictions = getPredictions(cache[f\"A{numberOfLayers}\"])\n",
    "    return predictions\n",
    "\n",
    "def testPrediction(trainLabels, trainPixels, index, params, layerSizes):\n",
    "    current_image = trainPixels[:, index, None]\n",
    "    prediction = makePredictions(trainPixels[:, index, None], params, layerSizes)\n",
    "    label = trainLabels[index]\n",
    "    print(\"Prediction: \", prediction)\n",
    "    print(\"Label: \", label)\n",
    "\n",
    "    current_image = current_image.reshape((28, 28)) * 255\n",
    "    plt.gray()\n",
    "    plt.imshow(current_image, interpolation='nearest')\n",
    "    plt.show()"
   ]
  },
  {
   "cell_type": "markdown",
   "id": "ce300505",
   "metadata": {
    "papermill": {
     "duration": 0.008071,
     "end_time": "2024-10-24T20:24:46.890515",
     "exception": false,
     "start_time": "2024-10-24T20:24:46.882444",
     "status": "completed"
    },
    "tags": []
   },
   "source": [
    "Finally, the gradient descent function to train the network."
   ]
  },
  {
   "cell_type": "code",
   "execution_count": 9,
   "id": "d8cc0dbb",
   "metadata": {
    "execution": {
     "iopub.execute_input": "2024-10-24T20:24:46.906887Z",
     "iopub.status.busy": "2024-10-24T20:24:46.906331Z",
     "iopub.status.idle": "2024-10-24T20:24:46.914976Z",
     "shell.execute_reply": "2024-10-24T20:24:46.913896Z"
    },
    "papermill": {
     "duration": 0.01968,
     "end_time": "2024-10-24T20:24:46.917504",
     "exception": false,
     "start_time": "2024-10-24T20:24:46.897824",
     "status": "completed"
    },
    "tags": []
   },
   "outputs": [],
   "source": [
    "def gradientDescent(X,Y, alpha, iterations, layerSizes):\n",
    "\n",
    "    numberOfLayers = len(layerSizes) - 1\n",
    "    params = initParams(layerSizes)\n",
    "\n",
    "    iteration = []\n",
    "    accuracy = []\n",
    "\n",
    "    for i in range(iterations):\n",
    "        cache = forwardProp(X, params, numberOfLayers)\n",
    "        grads = backwardProp(params, cache,X, Y, numberOfLayers)\n",
    "        params = updateParams(params, grads, alpha, numberOfLayers)\n",
    "\n",
    "        if i % 10 == 0:\n",
    "            AL = cache[f\"A{numberOfLayers}\"]\n",
    "            predictions = getPredictions(AL)\n",
    "            print(f\"Iteration: {i}, Accuracy: {getAccuracy(predictions, Y)}\")\n",
    "            iteration.append(i)\n",
    "            accuracy.append(getAccuracy(predictions, Y))\n",
    "\n",
    "    return params, iteration, accuracy"
   ]
  },
  {
   "cell_type": "markdown",
   "id": "0e3714bb",
   "metadata": {
    "papermill": {
     "duration": 0.006947,
     "end_time": "2024-10-24T20:24:46.931594",
     "exception": false,
     "start_time": "2024-10-24T20:24:46.924647",
     "status": "completed"
    },
    "tags": []
   },
   "source": [
    "The neural network can now be created, trained and tested"
   ]
  },
  {
   "cell_type": "code",
   "execution_count": 10,
   "id": "3ddee223",
   "metadata": {
    "execution": {
     "iopub.execute_input": "2024-10-24T20:24:46.947941Z",
     "iopub.status.busy": "2024-10-24T20:24:46.947027Z",
     "iopub.status.idle": "2024-10-24T20:26:04.474517Z",
     "shell.execute_reply": "2024-10-24T20:26:04.473375Z"
    },
    "papermill": {
     "duration": 77.538498,
     "end_time": "2024-10-24T20:26:04.477115",
     "exception": false,
     "start_time": "2024-10-24T20:24:46.938617",
     "status": "completed"
    },
    "tags": []
   },
   "outputs": [
    {
     "name": "stdout",
     "output_type": "stream",
     "text": [
      "Iteration: 0, Accuracy: 0.072775\n",
      "Iteration: 10, Accuracy: 0.174\n",
      "Iteration: 20, Accuracy: 0.278475\n",
      "Iteration: 30, Accuracy: 0.388675\n",
      "Iteration: 40, Accuracy: 0.479125\n",
      "Iteration: 50, Accuracy: 0.545325\n",
      "Iteration: 60, Accuracy: 0.593025\n",
      "Iteration: 70, Accuracy: 0.625225\n",
      "Iteration: 80, Accuracy: 0.653175\n",
      "Iteration: 90, Accuracy: 0.67535\n",
      "Iteration: 100, Accuracy: 0.6929\n",
      "Iteration: 110, Accuracy: 0.706275\n",
      "Iteration: 120, Accuracy: 0.719575\n",
      "Iteration: 130, Accuracy: 0.730675\n",
      "Iteration: 140, Accuracy: 0.7414\n",
      "Iteration: 150, Accuracy: 0.750425\n",
      "Iteration: 160, Accuracy: 0.758925\n",
      "Iteration: 170, Accuracy: 0.765375\n",
      "Iteration: 180, Accuracy: 0.7719\n",
      "Iteration: 190, Accuracy: 0.777875\n",
      "Iteration: 200, Accuracy: 0.7836\n",
      "Iteration: 210, Accuracy: 0.788525\n",
      "Iteration: 220, Accuracy: 0.793075\n",
      "Iteration: 230, Accuracy: 0.797725\n",
      "Iteration: 240, Accuracy: 0.801125\n",
      "Iteration: 250, Accuracy: 0.805275\n",
      "Iteration: 260, Accuracy: 0.80925\n",
      "Iteration: 270, Accuracy: 0.812525\n",
      "Iteration: 280, Accuracy: 0.8153\n",
      "Iteration: 290, Accuracy: 0.81875\n"
     ]
    },
    {
     "data": {
      "image/png": "[encoded data removed]",
      "text/plain": [
       "<Figure size 640x480 with 1 Axes>"
      ]
     },
     "metadata": {},
     "output_type": "display_data"
    }
   ],
   "source": [
    "layerSizes = [784, 10, 10]\n",
    "\n",
    "trainLabels, trainPixels, testLabels, testPixels = getDataset(\"train.csv\")\n",
    "params, iteration, accuracy = gradientDescent(trainPixels,trainLabels, 0.10, 300, layerSizes)\n",
    "params['layerSizes'] = layerSizes\n",
    "\n",
    "plt.plot(iteration, accuracy, marker='o', color='r')\n",
    "plt.xlabel('X-axis: Variable 1')\n",
    "plt.ylabel('Y-axis: Variable 2')\n",
    "plt.title('Plot of Two Variables')\n",
    "plt.show()"
   ]
  },
  {
   "cell_type": "code",
   "execution_count": 11,
   "id": "c3e87cc6",
   "metadata": {
    "execution": {
     "iopub.execute_input": "2024-10-24T20:26:04.500174Z",
     "iopub.status.busy": "2024-10-24T20:26:04.499743Z",
     "iopub.status.idle": "2024-10-24T20:26:04.758896Z",
     "shell.execute_reply": "2024-10-24T20:26:04.757416Z"
    },
    "papermill": {
     "duration": 0.275886,
     "end_time": "2024-10-24T20:26:04.763580",
     "exception": false,
     "start_time": "2024-10-24T20:26:04.487694",
     "status": "completed"
    },
    "tags": []
   },
   "outputs": [
    {
     "name": "stdout",
     "output_type": "stream",
     "text": [
      "Prediction:  [5]\n",
      "Label:  5\n"
     ]
    },
    {
     "data": {
      "image/png": "[encoded data removed]",
      "text/plain": [
       "<Figure size 640x480 with 1 Axes>"
      ]
     },
     "metadata": {},
     "output_type": "display_data"
    },
    {
     "name": "stdout",
     "output_type": "stream",
     "text": [
      "0.8265\n"
     ]
    }
   ],
   "source": [
    "testPrediction(trainLabels, trainPixels, 100, params, params['layerSizes'])\n",
    "\n",
    "testResults = makePredictions(testPixels, params, params['layerSizes'])\n",
    "print(getAccuracy(testResults, testLabels))"
   ]
  }
 ],
 "metadata": {
  "kaggle": {
   "accelerator": "none",
   "dataSources": [
    {
     "databundleVersionId": 861823,
     "sourceId": 3004,
     "sourceType": "competition"
    }
   ],
   "dockerImageVersionId": 30786,
   "isGpuEnabled": false,
   "isInternetEnabled": false,
   "language": "python",
   "sourceType": "notebook"
  },
  "kernelspec": {
   "display_name": "Python 3",
   "language": "python",
   "name": "python3"
  },
  "language_info": {
   "codemirror_mode": {
    "name": "ipython",
    "version": 3
   },
   "file_extension": ".py",
   "mimetype": "text/x-python",
   "name": "python",
   "nbconvert_exporter": "python",
   "pygments_lexer": "ipython3",
   "version": "3.10.14"
  },
  "papermill": {
   "default_parameters": {},
   "duration": 89.848259,
   "end_time": "2024-10-24T20:26:05.312600",
   "environment_variables": {},
   "exception": null,
   "input_path": "__notebook__.ipynb",
   "output_path": "__notebook__.ipynb",
   "parameters": {},
   "start_time": "2024-10-24T20:24:35.464341",
   "version": "2.6.0"
  }
 },
 "nbformat": 4,
 "nbformat_minor": 5
}
