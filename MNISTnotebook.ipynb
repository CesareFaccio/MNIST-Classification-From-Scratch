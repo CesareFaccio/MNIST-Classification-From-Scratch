{
 "cells": [
  {
   "cell_type": "code",
   "execution_count": 1,
   "id": "c0928d9c",
   "metadata": {
    "_cell_guid": "b1076dfc-b9ad-4769-8c92-a6c4dae69d19",
    "_uuid": "8f2839f25d086af736a60e9eeb907d3b93b6e0e5",
    "execution": {
     "iopub.execute_input": "2024-10-24T20:53:36.565804Z",
     "iopub.status.busy": "2024-10-24T20:53:36.565338Z",
     "iopub.status.idle": "2024-10-24T20:53:43.067876Z",
     "shell.execute_reply": "2024-10-24T20:53:43.066613Z"
    },
    "papermill": {
     "duration": 6.512555,
     "end_time": "2024-10-24T20:53:43.070767",
     "exception": false,
     "start_time": "2024-10-24T20:53:36.558212",
     "status": "completed"
    },
    "tags": []
   },
   "outputs": [],
   "source": [
    "import numpy as np\n",
    "import pandas as pd\n",
    "from matplotlib import pyplot as plt\n",
    "\n",
    "trainData = pd.read_csv('/kaggle/input/digit-recognizer/train.csv')\n",
    "testData = pd.read_csv('/kaggle/input/digit-recognizer/test.csv')"
   ]
  },
  {
   "cell_type": "code",
   "execution_count": 2,
   "id": "2a11adc9",
   "metadata": {
    "execution": {
     "iopub.execute_input": "2024-10-24T20:53:43.082678Z",
     "iopub.status.busy": "2024-10-24T20:53:43.081676Z",
     "iopub.status.idle": "2024-10-24T20:53:43.109348Z",
     "shell.execute_reply": "2024-10-24T20:53:43.108161Z"
    },
    "papermill": {
     "duration": 0.036055,
     "end_time": "2024-10-24T20:53:43.111802",
     "exception": false,
     "start_time": "2024-10-24T20:53:43.075747",
     "status": "completed"
    },
    "tags": []
   },
   "outputs": [
    {
     "data": {
      "text/html": [
       "<div>\n",
       "<style scoped>\n",
       "    .dataframe tbody tr th:only-of-type {\n",
       "        vertical-align: middle;\n",
       "    }\n",
       "\n",
       "    .dataframe tbody tr th {\n",
       "        vertical-align: top;\n",
       "    }\n",
       "\n",
       "    .dataframe thead th {\n",
       "        text-align: right;\n",
       "    }\n",
       "</style>\n",
       "<table border=\"1\" class=\"dataframe\">\n",
       "  <thead>\n",
       "    <tr style=\"text-align: right;\">\n",
       "      <th></th>\n",
       "      <th>label</th>\n",
       "      <th>pixel0</th>\n",
       "      <th>pixel1</th>\n",
       "      <th>pixel2</th>\n",
       "      <th>pixel3</th>\n",
       "      <th>pixel4</th>\n",
       "      <th>pixel5</th>\n",
       "      <th>pixel6</th>\n",
       "      <th>pixel7</th>\n",
       "      <th>pixel8</th>\n",
       "      <th>...</th>\n",
       "      <th>pixel774</th>\n",
       "      <th>pixel775</th>\n",
       "      <th>pixel776</th>\n",
       "      <th>pixel777</th>\n",
       "      <th>pixel778</th>\n",
       "      <th>pixel779</th>\n",
       "      <th>pixel780</th>\n",
       "      <th>pixel781</th>\n",
       "      <th>pixel782</th>\n",
       "      <th>pixel783</th>\n",
       "    </tr>\n",
       "  </thead>\n",
       "  <tbody>\n",
       "    <tr>\n",
       "      <th>0</th>\n",
       "      <td>1</td>\n",
       "      <td>0</td>\n",
       "      <td>0</td>\n",
       "      <td>0</td>\n",
       "      <td>0</td>\n",
       "      <td>0</td>\n",
       "      <td>0</td>\n",
       "      <td>0</td>\n",
       "      <td>0</td>\n",
       "      <td>0</td>\n",
       "      <td>...</td>\n",
       "      <td>0</td>\n",
       "      <td>0</td>\n",
       "      <td>0</td>\n",
       "      <td>0</td>\n",
       "      <td>0</td>\n",
       "      <td>0</td>\n",
       "      <td>0</td>\n",
       "      <td>0</td>\n",
       "      <td>0</td>\n",
       "      <td>0</td>\n",
       "    </tr>\n",
       "    <tr>\n",
       "      <th>1</th>\n",
       "      <td>0</td>\n",
       "      <td>0</td>\n",
       "      <td>0</td>\n",
       "      <td>0</td>\n",
       "      <td>0</td>\n",
       "      <td>0</td>\n",
       "      <td>0</td>\n",
       "      <td>0</td>\n",
       "      <td>0</td>\n",
       "      <td>0</td>\n",
       "      <td>...</td>\n",
       "      <td>0</td>\n",
       "      <td>0</td>\n",
       "      <td>0</td>\n",
       "      <td>0</td>\n",
       "      <td>0</td>\n",
       "      <td>0</td>\n",
       "      <td>0</td>\n",
       "      <td>0</td>\n",
       "      <td>0</td>\n",
       "      <td>0</td>\n",
       "    </tr>\n",
       "    <tr>\n",
       "      <th>2</th>\n",
       "      <td>1</td>\n",
       "      <td>0</td>\n",
       "      <td>0</td>\n",
       "      <td>0</td>\n",
       "      <td>0</td>\n",
       "      <td>0</td>\n",
       "      <td>0</td>\n",
       "      <td>0</td>\n",
       "      <td>0</td>\n",
       "      <td>0</td>\n",
       "      <td>...</td>\n",
       "      <td>0</td>\n",
       "      <td>0</td>\n",
       "      <td>0</td>\n",
       "      <td>0</td>\n",
       "      <td>0</td>\n",
       "      <td>0</td>\n",
       "      <td>0</td>\n",
       "      <td>0</td>\n",
       "      <td>0</td>\n",
       "      <td>0</td>\n",
       "    </tr>\n",
       "    <tr>\n",
       "      <th>3</th>\n",
       "      <td>4</td>\n",
       "      <td>0</td>\n",
       "      <td>0</td>\n",
       "      <td>0</td>\n",
       "      <td>0</td>\n",
       "      <td>0</td>\n",
       "      <td>0</td>\n",
       "      <td>0</td>\n",
       "      <td>0</td>\n",
       "      <td>0</td>\n",
       "      <td>...</td>\n",
       "      <td>0</td>\n",
       "      <td>0</td>\n",
       "      <td>0</td>\n",
       "      <td>0</td>\n",
       "      <td>0</td>\n",
       "      <td>0</td>\n",
       "      <td>0</td>\n",
       "      <td>0</td>\n",
       "      <td>0</td>\n",
       "      <td>0</td>\n",
       "    </tr>\n",
       "    <tr>\n",
       "      <th>4</th>\n",
       "      <td>0</td>\n",
       "      <td>0</td>\n",
       "      <td>0</td>\n",
       "      <td>0</td>\n",
       "      <td>0</td>\n",
       "      <td>0</td>\n",
       "      <td>0</td>\n",
       "      <td>0</td>\n",
       "      <td>0</td>\n",
       "      <td>0</td>\n",
       "      <td>...</td>\n",
       "      <td>0</td>\n",
       "      <td>0</td>\n",
       "      <td>0</td>\n",
       "      <td>0</td>\n",
       "      <td>0</td>\n",
       "      <td>0</td>\n",
       "      <td>0</td>\n",
       "      <td>0</td>\n",
       "      <td>0</td>\n",
       "      <td>0</td>\n",
       "    </tr>\n",
       "  </tbody>\n",
       "</table>\n",
       "<p>5 rows × 785 columns</p>\n",
       "</div>"
      ],
      "text/plain": [
       "   label  pixel0  pixel1  pixel2  pixel3  pixel4  pixel5  pixel6  pixel7  \\\n",
       "0      1       0       0       0       0       0       0       0       0   \n",
       "1      0       0       0       0       0       0       0       0       0   \n",
       "2      1       0       0       0       0       0       0       0       0   \n",
       "3      4       0       0       0       0       0       0       0       0   \n",
       "4      0       0       0       0       0       0       0       0       0   \n",
       "\n",
       "   pixel8  ...  pixel774  pixel775  pixel776  pixel777  pixel778  pixel779  \\\n",
       "0       0  ...         0         0         0         0         0         0   \n",
       "1       0  ...         0         0         0         0         0         0   \n",
       "2       0  ...         0         0         0         0         0         0   \n",
       "3       0  ...         0         0         0         0         0         0   \n",
       "4       0  ...         0         0         0         0         0         0   \n",
       "\n",
       "   pixel780  pixel781  pixel782  pixel783  \n",
       "0         0         0         0         0  \n",
       "1         0         0         0         0  \n",
       "2         0         0         0         0  \n",
       "3         0         0         0         0  \n",
       "4         0         0         0         0  \n",
       "\n",
       "[5 rows x 785 columns]"
      ]
     },
     "execution_count": 2,
     "metadata": {},
     "output_type": "execute_result"
    }
   ],
   "source": [
    "trainData.head()"
   ]
  },
  {
   "cell_type": "code",
   "execution_count": 3,
   "id": "097f77bd",
   "metadata": {
    "execution": {
     "iopub.execute_input": "2024-10-24T20:53:43.123417Z",
     "iopub.status.busy": "2024-10-24T20:53:43.122799Z",
     "iopub.status.idle": "2024-10-24T20:53:43.140045Z",
     "shell.execute_reply": "2024-10-24T20:53:43.138974Z"
    },
    "papermill": {
     "duration": 0.025523,
     "end_time": "2024-10-24T20:53:43.142309",
     "exception": false,
     "start_time": "2024-10-24T20:53:43.116786",
     "status": "completed"
    },
    "tags": []
   },
   "outputs": [
    {
     "data": {
      "text/html": [
       "<div>\n",
       "<style scoped>\n",
       "    .dataframe tbody tr th:only-of-type {\n",
       "        vertical-align: middle;\n",
       "    }\n",
       "\n",
       "    .dataframe tbody tr th {\n",
       "        vertical-align: top;\n",
       "    }\n",
       "\n",
       "    .dataframe thead th {\n",
       "        text-align: right;\n",
       "    }\n",
       "</style>\n",
       "<table border=\"1\" class=\"dataframe\">\n",
       "  <thead>\n",
       "    <tr style=\"text-align: right;\">\n",
       "      <th></th>\n",
       "      <th>pixel0</th>\n",
       "      <th>pixel1</th>\n",
       "      <th>pixel2</th>\n",
       "      <th>pixel3</th>\n",
       "      <th>pixel4</th>\n",
       "      <th>pixel5</th>\n",
       "      <th>pixel6</th>\n",
       "      <th>pixel7</th>\n",
       "      <th>pixel8</th>\n",
       "      <th>pixel9</th>\n",
       "      <th>...</th>\n",
       "      <th>pixel774</th>\n",
       "      <th>pixel775</th>\n",
       "      <th>pixel776</th>\n",
       "      <th>pixel777</th>\n",
       "      <th>pixel778</th>\n",
       "      <th>pixel779</th>\n",
       "      <th>pixel780</th>\n",
       "      <th>pixel781</th>\n",
       "      <th>pixel782</th>\n",
       "      <th>pixel783</th>\n",
       "    </tr>\n",
       "  </thead>\n",
       "  <tbody>\n",
       "    <tr>\n",
       "      <th>0</th>\n",
       "      <td>0</td>\n",
       "      <td>0</td>\n",
       "      <td>0</td>\n",
       "      <td>0</td>\n",
       "      <td>0</td>\n",
       "      <td>0</td>\n",
       "      <td>0</td>\n",
       "      <td>0</td>\n",
       "      <td>0</td>\n",
       "      <td>0</td>\n",
       "      <td>...</td>\n",
       "      <td>0</td>\n",
       "      <td>0</td>\n",
       "      <td>0</td>\n",
       "      <td>0</td>\n",
       "      <td>0</td>\n",
       "      <td>0</td>\n",
       "      <td>0</td>\n",
       "      <td>0</td>\n",
       "      <td>0</td>\n",
       "      <td>0</td>\n",
       "    </tr>\n",
       "    <tr>\n",
       "      <th>1</th>\n",
       "      <td>0</td>\n",
       "      <td>0</td>\n",
       "      <td>0</td>\n",
       "      <td>0</td>\n",
       "      <td>0</td>\n",
       "      <td>0</td>\n",
       "      <td>0</td>\n",
       "      <td>0</td>\n",
       "      <td>0</td>\n",
       "      <td>0</td>\n",
       "      <td>...</td>\n",
       "      <td>0</td>\n",
       "      <td>0</td>\n",
       "      <td>0</td>\n",
       "      <td>0</td>\n",
       "      <td>0</td>\n",
       "      <td>0</td>\n",
       "      <td>0</td>\n",
       "      <td>0</td>\n",
       "      <td>0</td>\n",
       "      <td>0</td>\n",
       "    </tr>\n",
       "    <tr>\n",
       "      <th>2</th>\n",
       "      <td>0</td>\n",
       "      <td>0</td>\n",
       "      <td>0</td>\n",
       "      <td>0</td>\n",
       "      <td>0</td>\n",
       "      <td>0</td>\n",
       "      <td>0</td>\n",
       "      <td>0</td>\n",
       "      <td>0</td>\n",
       "      <td>0</td>\n",
       "      <td>...</td>\n",
       "      <td>0</td>\n",
       "      <td>0</td>\n",
       "      <td>0</td>\n",
       "      <td>0</td>\n",
       "      <td>0</td>\n",
       "      <td>0</td>\n",
       "      <td>0</td>\n",
       "      <td>0</td>\n",
       "      <td>0</td>\n",
       "      <td>0</td>\n",
       "    </tr>\n",
       "    <tr>\n",
       "      <th>3</th>\n",
       "      <td>0</td>\n",
       "      <td>0</td>\n",
       "      <td>0</td>\n",
       "      <td>0</td>\n",
       "      <td>0</td>\n",
       "      <td>0</td>\n",
       "      <td>0</td>\n",
       "      <td>0</td>\n",
       "      <td>0</td>\n",
       "      <td>0</td>\n",
       "      <td>...</td>\n",
       "      <td>0</td>\n",
       "      <td>0</td>\n",
       "      <td>0</td>\n",
       "      <td>0</td>\n",
       "      <td>0</td>\n",
       "      <td>0</td>\n",
       "      <td>0</td>\n",
       "      <td>0</td>\n",
       "      <td>0</td>\n",
       "      <td>0</td>\n",
       "    </tr>\n",
       "    <tr>\n",
       "      <th>4</th>\n",
       "      <td>0</td>\n",
       "      <td>0</td>\n",
       "      <td>0</td>\n",
       "      <td>0</td>\n",
       "      <td>0</td>\n",
       "      <td>0</td>\n",
       "      <td>0</td>\n",
       "      <td>0</td>\n",
       "      <td>0</td>\n",
       "      <td>0</td>\n",
       "      <td>...</td>\n",
       "      <td>0</td>\n",
       "      <td>0</td>\n",
       "      <td>0</td>\n",
       "      <td>0</td>\n",
       "      <td>0</td>\n",
       "      <td>0</td>\n",
       "      <td>0</td>\n",
       "      <td>0</td>\n",
       "      <td>0</td>\n",
       "      <td>0</td>\n",
       "    </tr>\n",
       "  </tbody>\n",
       "</table>\n",
       "<p>5 rows × 784 columns</p>\n",
       "</div>"
      ],
      "text/plain": [
       "   pixel0  pixel1  pixel2  pixel3  pixel4  pixel5  pixel6  pixel7  pixel8  \\\n",
       "0       0       0       0       0       0       0       0       0       0   \n",
       "1       0       0       0       0       0       0       0       0       0   \n",
       "2       0       0       0       0       0       0       0       0       0   \n",
       "3       0       0       0       0       0       0       0       0       0   \n",
       "4       0       0       0       0       0       0       0       0       0   \n",
       "\n",
       "   pixel9  ...  pixel774  pixel775  pixel776  pixel777  pixel778  pixel779  \\\n",
       "0       0  ...         0         0         0         0         0         0   \n",
       "1       0  ...         0         0         0         0         0         0   \n",
       "2       0  ...         0         0         0         0         0         0   \n",
       "3       0  ...         0         0         0         0         0         0   \n",
       "4       0  ...         0         0         0         0         0         0   \n",
       "\n",
       "   pixel780  pixel781  pixel782  pixel783  \n",
       "0         0         0         0         0  \n",
       "1         0         0         0         0  \n",
       "2         0         0         0         0  \n",
       "3         0         0         0         0  \n",
       "4         0         0         0         0  \n",
       "\n",
       "[5 rows x 784 columns]"
      ]
     },
     "execution_count": 3,
     "metadata": {},
     "output_type": "execute_result"
    }
   ],
   "source": [
    "testData.head()"
   ]
  },
  {
   "cell_type": "markdown",
   "id": "a614540a",
   "metadata": {
    "papermill": {
     "duration": 0.004966,
     "end_time": "2024-10-24T20:53:43.152784",
     "exception": false,
     "start_time": "2024-10-24T20:53:43.147818",
     "status": "completed"
    },
    "tags": []
   },
   "source": [
    "Here, we see that the test dataset is only useful for the competition organizers, but we cannot use it due to the absence of a \"label\" column. To address this, I will split the training dataset into training and testing portions."
   ]
  },
  {
   "cell_type": "markdown",
   "id": "f9b41388",
   "metadata": {
    "papermill": {
     "duration": 0.005329,
     "end_time": "2024-10-24T20:53:43.163423",
     "exception": false,
     "start_time": "2024-10-24T20:53:43.158094",
     "status": "completed"
    },
    "tags": []
   },
   "source": [
    "Firstly some function to import the datasets. getTestDataset can be used for a competition submission."
   ]
  },
  {
   "cell_type": "code",
   "execution_count": 4,
   "id": "ad324471",
   "metadata": {
    "execution": {
     "iopub.execute_input": "2024-10-24T20:53:43.177610Z",
     "iopub.status.busy": "2024-10-24T20:53:43.177222Z",
     "iopub.status.idle": "2024-10-24T20:53:43.184867Z",
     "shell.execute_reply": "2024-10-24T20:53:43.183630Z"
    },
    "papermill": {
     "duration": 0.017971,
     "end_time": "2024-10-24T20:53:43.187187",
     "exception": false,
     "start_time": "2024-10-24T20:53:43.169216",
     "status": "completed"
    },
    "tags": []
   },
   "outputs": [],
   "source": [
    "def getDataset(filePath):\n",
    "    trainData = pd.read_csv('/kaggle/input/digit-recognizer/train.csv')\n",
    "    trainData = np.array(trainData)\n",
    "    rows, columns = trainData.shape\n",
    "    np.random.shuffle(trainData)\n",
    "\n",
    "    testData = trainData[0:2000].T\n",
    "    testLabels = testData[0]\n",
    "    testPixels = testData[1:columns + 1]\n",
    "    testPixels = testPixels / 255\n",
    "\n",
    "    trainData = trainData[2000:rows].T\n",
    "    trainLabels = trainData[0]\n",
    "    trainPixels = trainData[1:columns + 1]\n",
    "    trainPixels = trainPixels / 255\n",
    "\n",
    "    return trainLabels, trainPixels, testLabels, testPixels\n",
    "\n",
    "def getTestDataset(filePath):\n",
    "    testData = pd.read_csv('/kaggle/input/digit-recognizer/test.csv')\n",
    "    testPixels = np.array(testData).T\n",
    "    testPixels = testPixels / 255\n",
    "\n",
    "    return testPixels"
   ]
  },
  {
   "cell_type": "markdown",
   "id": "ca63bf79",
   "metadata": {
    "papermill": {
     "duration": 0.00492,
     "end_time": "2024-10-24T20:53:43.197401",
     "exception": false,
     "start_time": "2024-10-24T20:53:43.192481",
     "status": "completed"
    },
    "tags": []
   },
   "source": [
    "Now, a function to initialize the network's parameters in a random state"
   ]
  },
  {
   "cell_type": "code",
   "execution_count": 5,
   "id": "61497d09",
   "metadata": {
    "execution": {
     "iopub.execute_input": "2024-10-24T20:53:43.210379Z",
     "iopub.status.busy": "2024-10-24T20:53:43.210007Z",
     "iopub.status.idle": "2024-10-24T20:53:43.216330Z",
     "shell.execute_reply": "2024-10-24T20:53:43.215074Z"
    },
    "papermill": {
     "duration": 0.014965,
     "end_time": "2024-10-24T20:53:43.218609",
     "exception": false,
     "start_time": "2024-10-24T20:53:43.203644",
     "status": "completed"
    },
    "tags": []
   },
   "outputs": [],
   "source": [
    "def initParams(layerSizes):\n",
    "    params = {}\n",
    "    numberOfLayers = len(layerSizes) - 1\n",
    "    for l in range(1, numberOfLayers + 1):\n",
    "        params[f\"W{l}\"] = np.random.rand(layerSizes[l], layerSizes[l - 1]) - 0.5\n",
    "        params[f\"b{l}\"] = np.random.rand(layerSizes[l], 1) - 0.5\n",
    "    return params"
   ]
  },
  {
   "cell_type": "markdown",
   "id": "0898a6af",
   "metadata": {
    "papermill": {
     "duration": 0.004933,
     "end_time": "2024-10-24T20:53:43.228828",
     "exception": false,
     "start_time": "2024-10-24T20:53:43.223895",
     "status": "completed"
    },
    "tags": []
   },
   "source": [
    "Now, some basic functions that will be used in backward and forward propagation"
   ]
  },
  {
   "cell_type": "code",
   "execution_count": 6,
   "id": "c7f186e8",
   "metadata": {
    "execution": {
     "iopub.execute_input": "2024-10-24T20:53:43.241514Z",
     "iopub.status.busy": "2024-10-24T20:53:43.241097Z",
     "iopub.status.idle": "2024-10-24T20:53:43.247896Z",
     "shell.execute_reply": "2024-10-24T20:53:43.246759Z"
    },
    "papermill": {
     "duration": 0.015679,
     "end_time": "2024-10-24T20:53:43.250189",
     "exception": false,
     "start_time": "2024-10-24T20:53:43.234510",
     "status": "completed"
    },
    "tags": []
   },
   "outputs": [],
   "source": [
    "def ReLU(Z):\n",
    "    return np.maximum(Z, 0)\n",
    "\n",
    "def softmax(Z):\n",
    "    A = np.exp(Z) / np.sum(np.exp(Z), axis=0)\n",
    "    return A\n",
    "\n",
    "def ReluDeriv(Z):\n",
    "    return Z > 0\n",
    "\n",
    "def desiredOutputs(Y):\n",
    "    desiredOut = np.zeros((Y.size, Y.max() + 1))\n",
    "    desiredOut[np.arange(Y.size), Y] = 1\n",
    "    desiredOut = desiredOut.T\n",
    "    return desiredOut"
   ]
  },
  {
   "cell_type": "markdown",
   "id": "b1a1a5b4",
   "metadata": {
    "papermill": {
     "duration": 0.004987,
     "end_time": "2024-10-24T20:53:43.260556",
     "exception": false,
     "start_time": "2024-10-24T20:53:43.255569",
     "status": "completed"
    },
    "tags": []
   },
   "source": [
    "Now, the forward and backward propagation algorithms"
   ]
  },
  {
   "cell_type": "code",
   "execution_count": 7,
   "id": "a6bbc677",
   "metadata": {
    "execution": {
     "iopub.execute_input": "2024-10-24T20:53:43.273124Z",
     "iopub.status.busy": "2024-10-24T20:53:43.272734Z",
     "iopub.status.idle": "2024-10-24T20:53:43.284500Z",
     "shell.execute_reply": "2024-10-24T20:53:43.283454Z"
    },
    "papermill": {
     "duration": 0.021221,
     "end_time": "2024-10-24T20:53:43.287207",
     "exception": false,
     "start_time": "2024-10-24T20:53:43.265986",
     "status": "completed"
    },
    "tags": []
   },
   "outputs": [],
   "source": [
    "def forwardProp(pixels, params, numberOfLayers):\n",
    "    cache = {\"A0\": pixels}\n",
    "    A_prev = pixels\n",
    "\n",
    "    for l in range(1, numberOfLayers):\n",
    "        Z = params[f\"W{l}\"].dot(A_prev) + params[f\"b{l}\"]\n",
    "        A = ReLU(Z)\n",
    "        cache[f\"Z{l}\"] = Z\n",
    "        cache[f\"A{l}\"] = A\n",
    "        A_prev = A\n",
    "\n",
    "    ZL = params[f\"W{numberOfLayers}\"].dot(A_prev) + params[f\"b{numberOfLayers}\"]\n",
    "    AL = softmax(ZL)\n",
    "    cache[f\"Z{numberOfLayers}\"] = ZL\n",
    "    cache[f\"A{numberOfLayers}\"] = AL\n",
    "    return cache\n",
    "\n",
    "def backwardProp(params, cache, pixels, labels, numberOfLayers):\n",
    "    grads = {}\n",
    "    desiredOut = desiredOutputs(labels)\n",
    "    AL = cache[f\"A{numberOfLayers}\"]\n",
    "\n",
    "    dZL = AL - desiredOut\n",
    "    grads[f\"dW{numberOfLayers}\"] = 1 / pixels.shape[1] * dZL.dot(cache[f\"A{numberOfLayers - 1}\"].T)\n",
    "    grads[f\"db{numberOfLayers}\"] = 1 / pixels.shape[1] * np.sum(dZL, axis=1, keepdims=True)\n",
    "\n",
    "    dA_prev = params[f\"W{numberOfLayers}\"].T.dot(dZL)\n",
    "\n",
    "    for l in range(numberOfLayers - 1, 0, -1):\n",
    "        dZ = dA_prev * ReluDeriv(cache[f\"Z{l}\"])\n",
    "        grads[f\"dW{l}\"] = 1 / pixels.shape[1] * dZ.dot(cache[f\"A{l - 1}\"].T)\n",
    "        grads[f\"db{l}\"] = 1 / pixels.shape[1] * np.sum(dZ, axis=1, keepdims=True)\n",
    "        dA_prev = params[f\"W{l}\"].T.dot(dZ)\n",
    "\n",
    "    return grads\n",
    "\n",
    "def updateParams(params, grads, alpha, numberOfLayers):\n",
    "    for l in range(1, numberOfLayers + 1):\n",
    "        params[f\"W{l}\"] -= alpha * grads[f\"dW{l}\"]\n",
    "        params[f\"b{l}\"] -= alpha * grads[f\"db{l}\"]\n",
    "    return params"
   ]
  },
  {
   "cell_type": "markdown",
   "id": "02f12752",
   "metadata": {
    "papermill": {
     "duration": 0.005033,
     "end_time": "2024-10-24T20:53:43.297809",
     "exception": false,
     "start_time": "2024-10-24T20:53:43.292776",
     "status": "completed"
    },
    "tags": []
   },
   "source": [
    "Now, some functions to evaluate results"
   ]
  },
  {
   "cell_type": "code",
   "execution_count": 8,
   "id": "169169fd",
   "metadata": {
    "execution": {
     "iopub.execute_input": "2024-10-24T20:53:43.310274Z",
     "iopub.status.busy": "2024-10-24T20:53:43.309869Z",
     "iopub.status.idle": "2024-10-24T20:53:43.318037Z",
     "shell.execute_reply": "2024-10-24T20:53:43.316893Z"
    },
    "papermill": {
     "duration": 0.017144,
     "end_time": "2024-10-24T20:53:43.320296",
     "exception": false,
     "start_time": "2024-10-24T20:53:43.303152",
     "status": "completed"
    },
    "tags": []
   },
   "outputs": [],
   "source": [
    "def getPredictions(AL):\n",
    "    return np.argmax(AL, 0)\n",
    "\n",
    "def getAccuracy(predictions, Y):\n",
    "    return np.sum(predictions == Y) / Y.size\n",
    "\n",
    "def makePredictions(pixels, params, layerSizes):\n",
    "    numberOfLayers = len(layerSizes) - 1\n",
    "    cache = forwardProp(pixels, params, numberOfLayers)\n",
    "    predictions = getPredictions(cache[f\"A{numberOfLayers}\"])\n",
    "    return predictions\n",
    "\n",
    "def testPrediction(trainLabels, trainPixels, index, params, layerSizes):\n",
    "    current_image = trainPixels[:, index, None]\n",
    "    prediction = makePredictions(trainPixels[:, index, None], params, layerSizes)\n",
    "    label = trainLabels[index]\n",
    "    print(\"Prediction: \", prediction)\n",
    "    print(\"Label: \", label)\n",
    "\n",
    "    current_image = current_image.reshape((28, 28)) * 255\n",
    "    plt.gray()\n",
    "    plt.imshow(current_image, interpolation='nearest')\n",
    "    plt.show()"
   ]
  },
  {
   "cell_type": "markdown",
   "id": "0206ec7d",
   "metadata": {
    "papermill": {
     "duration": 0.005027,
     "end_time": "2024-10-24T20:53:43.330751",
     "exception": false,
     "start_time": "2024-10-24T20:53:43.325724",
     "status": "completed"
    },
    "tags": []
   },
   "source": [
    "Finally, the gradient descent function to train the network."
   ]
  },
  {
   "cell_type": "code",
   "execution_count": 9,
   "id": "2353ab5b",
   "metadata": {
    "execution": {
     "iopub.execute_input": "2024-10-24T20:53:43.343486Z",
     "iopub.status.busy": "2024-10-24T20:53:43.342511Z",
     "iopub.status.idle": "2024-10-24T20:53:43.350191Z",
     "shell.execute_reply": "2024-10-24T20:53:43.349021Z"
    },
    "papermill": {
     "duration": 0.016443,
     "end_time": "2024-10-24T20:53:43.352423",
     "exception": false,
     "start_time": "2024-10-24T20:53:43.335980",
     "status": "completed"
    },
    "tags": []
   },
   "outputs": [],
   "source": [
    "def gradientDescent(X,Y, alpha, iterations, layerSizes):\n",
    "\n",
    "    numberOfLayers = len(layerSizes) - 1\n",
    "    params = initParams(layerSizes)\n",
    "\n",
    "    iteration = []\n",
    "    accuracy = []\n",
    "\n",
    "    for i in range(iterations):\n",
    "        cache = forwardProp(X, params, numberOfLayers)\n",
    "        grads = backwardProp(params, cache,X, Y, numberOfLayers)\n",
    "        params = updateParams(params, grads, alpha, numberOfLayers)\n",
    "\n",
    "        if i % 10 == 0:\n",
    "            AL = cache[f\"A{numberOfLayers}\"]\n",
    "            predictions = getPredictions(AL)\n",
    "            print(f\"Iteration: {i}, Accuracy: {getAccuracy(predictions, Y)}\")\n",
    "            iteration.append(i)\n",
    "            accuracy.append(getAccuracy(predictions, Y))\n",
    "\n",
    "    return params, iteration, accuracy"
   ]
  },
  {
   "cell_type": "markdown",
   "id": "042b4277",
   "metadata": {
    "papermill": {
     "duration": 0.005177,
     "end_time": "2024-10-24T20:53:43.363224",
     "exception": false,
     "start_time": "2024-10-24T20:53:43.358047",
     "status": "completed"
    },
    "tags": []
   },
   "source": [
    "The neural network can now be created, trained and tested"
   ]
  },
  {
   "cell_type": "code",
   "execution_count": 10,
   "id": "67403554",
   "metadata": {
    "execution": {
     "iopub.execute_input": "2024-10-24T20:53:43.375490Z",
     "iopub.status.busy": "2024-10-24T20:53:43.375060Z",
     "iopub.status.idle": "2024-10-24T20:54:53.440028Z",
     "shell.execute_reply": "2024-10-24T20:54:53.438947Z"
    },
    "papermill": {
     "duration": 70.07433,
     "end_time": "2024-10-24T20:54:53.442797",
     "exception": false,
     "start_time": "2024-10-24T20:53:43.368467",
     "status": "completed"
    },
    "tags": []
   },
   "outputs": [
    {
     "name": "stdout",
     "output_type": "stream",
     "text": [
      "Iteration: 0, Accuracy: 0.1078\n",
      "Iteration: 10, Accuracy: 0.205575\n",
      "Iteration: 20, Accuracy: 0.33915\n",
      "Iteration: 30, Accuracy: 0.4022\n",
      "Iteration: 40, Accuracy: 0.4507\n",
      "Iteration: 50, Accuracy: 0.491875\n",
      "Iteration: 60, Accuracy: 0.530575\n",
      "Iteration: 70, Accuracy: 0.560125\n",
      "Iteration: 80, Accuracy: 0.588275\n",
      "Iteration: 90, Accuracy: 0.61195\n",
      "Iteration: 100, Accuracy: 0.635425\n",
      "Iteration: 110, Accuracy: 0.65555\n",
      "Iteration: 120, Accuracy: 0.671625\n",
      "Iteration: 130, Accuracy: 0.685675\n",
      "Iteration: 140, Accuracy: 0.69885\n",
      "Iteration: 150, Accuracy: 0.710125\n",
      "Iteration: 160, Accuracy: 0.72085\n",
      "Iteration: 170, Accuracy: 0.7304\n",
      "Iteration: 180, Accuracy: 0.739425\n",
      "Iteration: 190, Accuracy: 0.746825\n",
      "Iteration: 200, Accuracy: 0.75425\n",
      "Iteration: 210, Accuracy: 0.7603\n",
      "Iteration: 220, Accuracy: 0.7669\n",
      "Iteration: 230, Accuracy: 0.772875\n",
      "Iteration: 240, Accuracy: 0.778525\n",
      "Iteration: 250, Accuracy: 0.78275\n",
      "Iteration: 260, Accuracy: 0.787225\n",
      "Iteration: 270, Accuracy: 0.791475\n",
      "Iteration: 280, Accuracy: 0.79545\n",
      "Iteration: 290, Accuracy: 0.799075\n"
     ]
    },
    {
     "data": {
      "image/png": "[encoded data removed]",
      "text/plain": [
       "<Figure size 640x480 with 1 Axes>"
      ]
     },
     "metadata": {},
     "output_type": "display_data"
    }
   ],
   "source": [
    "layerSizes = [784, 10, 10]\n",
    "\n",
    "trainLabels, trainPixels, testLabels, testPixels = getDataset(\"train.csv\")\n",
    "params, iteration, accuracy = gradientDescent(trainPixels,trainLabels, 0.10, 300, layerSizes)\n",
    "params['layerSizes'] = layerSizes\n",
    "\n",
    "plt.plot(iteration, accuracy, marker='o', color='b')\n",
    "plt.xlabel('Iterations')\n",
    "plt.ylabel('Accuracy')\n",
    "plt.title('Accuracy vs Iterations')\n",
    "plt.show()"
   ]
  },
  {
   "cell_type": "code",
   "execution_count": 11,
   "id": "b7555bf2",
   "metadata": {
    "execution": {
     "iopub.execute_input": "2024-10-24T20:54:53.460807Z",
     "iopub.status.busy": "2024-10-24T20:54:53.459678Z",
     "iopub.status.idle": "2024-10-24T20:54:53.638234Z",
     "shell.execute_reply": "2024-10-24T20:54:53.637003Z"
    },
    "papermill": {
     "duration": 0.191204,
     "end_time": "2024-10-24T20:54:53.641810",
     "exception": false,
     "start_time": "2024-10-24T20:54:53.450606",
     "status": "completed"
    },
    "tags": []
   },
   "outputs": [
    {
     "name": "stdout",
     "output_type": "stream",
     "text": [
      "Prediction:  [0]\n",
      "Label:  2\n"
     ]
    },
    {
     "data": {
      "image/png": "[encoded data removed]",
      "text/plain": [
       "<Figure size 640x480 with 1 Axes>"
      ]
     },
     "metadata": {},
     "output_type": "display_data"
    },
    {
     "name": "stdout",
     "output_type": "stream",
     "text": [
      "model accuracy : 0.801\n"
     ]
    }
   ],
   "source": [
    "testPrediction(trainLabels, trainPixels, 100, params, params['layerSizes'])\n",
    "\n",
    "testResults = makePredictions(testPixels, params, params['layerSizes'])\n",
    "print(f\"model accuracy : {getAccuracy(testResults, testLabels)}\")"
   ]
  }
 ],
 "metadata": {
  "kaggle": {
   "accelerator": "none",
   "dataSources": [
    {
     "databundleVersionId": 861823,
     "sourceId": 3004,
     "sourceType": "competition"
    }
   ],
   "dockerImageVersionId": 30786,
   "isGpuEnabled": false,
   "isInternetEnabled": false,
   "language": "python",
   "sourceType": "notebook"
  },
  "kernelspec": {
   "display_name": "Python 3",
   "language": "python",
   "name": "python3"
  },
  "language_info": {
   "codemirror_mode": {
    "name": "ipython",
    "version": 3
   },
   "file_extension": ".py",
   "mimetype": "text/x-python",
   "name": "python",
   "nbconvert_exporter": "python",
   "pygments_lexer": "ipython3",
   "version": "3.10.14"
  },
  "papermill": {
   "default_parameters": {},
   "duration": 80.493565,
   "end_time": "2024-10-24T20:54:54.194619",
   "environment_variables": {},
   "exception": null,
   "input_path": "__notebook__.ipynb",
   "output_path": "__notebook__.ipynb",
   "parameters": {},
   "start_time": "2024-10-24T20:53:33.701054",
   "version": "2.6.0"
  }
 },
 "nbformat": 4,
 "nbformat_minor": 5
}
